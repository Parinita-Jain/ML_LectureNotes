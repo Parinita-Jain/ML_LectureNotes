{
 "cells": [
  {
   "cell_type": "code",
   "execution_count": 1,
   "id": "2379e101",
   "metadata": {},
   "outputs": [],
   "source": [
    "import warnings\n",
    "warnings.filterwarnings(\"ignore\")\n",
    "\n",
    "import numpy as np\n",
    "import pandas as pd\n",
    "import matplotlib.pyplot as plt\n",
    "import seaborn as sns"
   ]
  },
  {
   "cell_type": "code",
   "execution_count": 2,
   "id": "7eb5f968",
   "metadata": {},
   "outputs": [],
   "source": [
    "x = np.array([1, 2, 3, 4, 5])\n",
    "y = np.array([3, 4, 2, 4, 5])"
   ]
  },
  {
   "cell_type": "code",
   "execution_count": 3,
   "id": "121ead9f",
   "metadata": {},
   "outputs": [
    {
     "data": {
      "text/html": [
       "<div>\n",
       "<style scoped>\n",
       "    .dataframe tbody tr th:only-of-type {\n",
       "        vertical-align: middle;\n",
       "    }\n",
       "\n",
       "    .dataframe tbody tr th {\n",
       "        vertical-align: top;\n",
       "    }\n",
       "\n",
       "    .dataframe thead th {\n",
       "        text-align: right;\n",
       "    }\n",
       "</style>\n",
       "<table border=\"1\" class=\"dataframe\">\n",
       "  <thead>\n",
       "    <tr style=\"text-align: right;\">\n",
       "      <th></th>\n",
       "      <th>X</th>\n",
       "      <th>Y</th>\n",
       "    </tr>\n",
       "  </thead>\n",
       "  <tbody>\n",
       "    <tr>\n",
       "      <th>0</th>\n",
       "      <td>1</td>\n",
       "      <td>3</td>\n",
       "    </tr>\n",
       "    <tr>\n",
       "      <th>1</th>\n",
       "      <td>2</td>\n",
       "      <td>4</td>\n",
       "    </tr>\n",
       "    <tr>\n",
       "      <th>2</th>\n",
       "      <td>3</td>\n",
       "      <td>2</td>\n",
       "    </tr>\n",
       "    <tr>\n",
       "      <th>3</th>\n",
       "      <td>4</td>\n",
       "      <td>4</td>\n",
       "    </tr>\n",
       "    <tr>\n",
       "      <th>4</th>\n",
       "      <td>5</td>\n",
       "      <td>5</td>\n",
       "    </tr>\n",
       "  </tbody>\n",
       "</table>\n",
       "</div>"
      ],
      "text/plain": [
       "   X  Y\n",
       "0  1  3\n",
       "1  2  4\n",
       "2  3  2\n",
       "3  4  4\n",
       "4  5  5"
      ]
     },
     "execution_count": 3,
     "metadata": {},
     "output_type": "execute_result"
    }
   ],
   "source": [
    "dic = {\n",
    "    \"X\":x,\n",
    "    \"Y\":y\n",
    "}\n",
    "\n",
    "df = pd.DataFrame(dic)\n",
    "df"
   ]
  },
  {
   "cell_type": "markdown",
   "id": "09ca0805",
   "metadata": {},
   "source": [
    "### Goal -: To find the best fit line using Least Square Method"
   ]
  },
  {
   "cell_type": "markdown",
   "id": "b9c10e06",
   "metadata": {},
   "source": [
    "### In order to find that, we need have the equation of line,"
   ]
  },
  {
   "cell_type": "markdown",
   "id": "2e0fe331",
   "metadata": {},
   "source": [
    "- The equation of Regression line is give by,\n",
    "- $Y = MX + C$\n",
    "    - where\n",
    "        - Y is dependent variable\n",
    "        - X is independent variable\n",
    "        - M is coefficient of regression(slope/ gradient)\n",
    "        - C is intercept (the point where line meets at y-axis)"
   ]
  },
  {
   "cell_type": "markdown",
   "id": "9d4e4d85",
   "metadata": {},
   "source": [
    "however, the value of m & c is unknown, so first we need to find the value of \"m\", which is give by,\n"
   ]
  },
  {
   "cell_type": "markdown",
   "id": "b29e9c52",
   "metadata": {},
   "source": [
    "![title](slope.png)"
   ]
  },
  {
   "cell_type": "markdown",
   "id": "e8d66a46",
   "metadata": {},
   "source": [
    "- where,\n",
    "    - xdash is mean of x\n",
    "    - ydash is mean of y"
   ]
  },
  {
   "cell_type": "code",
   "execution_count": 4,
   "id": "6b4482e3",
   "metadata": {},
   "outputs": [
    {
     "data": {
      "text/plain": [
       "array([1, 2, 3, 4, 5])"
      ]
     },
     "execution_count": 4,
     "metadata": {},
     "output_type": "execute_result"
    }
   ],
   "source": [
    "x"
   ]
  },
  {
   "cell_type": "code",
   "execution_count": 5,
   "id": "7492fdf2",
   "metadata": {},
   "outputs": [
    {
     "data": {
      "text/plain": [
       "array([3, 4, 2, 4, 5])"
      ]
     },
     "execution_count": 5,
     "metadata": {},
     "output_type": "execute_result"
    }
   ],
   "source": [
    "y"
   ]
  },
  {
   "cell_type": "code",
   "execution_count": 6,
   "id": "bd89ba5b",
   "metadata": {},
   "outputs": [
    {
     "name": "stdout",
     "output_type": "stream",
     "text": [
      "The Mean of X : 3.0\n",
      "The Mean of Y : 3.6\n"
     ]
    }
   ],
   "source": [
    "xmean = x.mean()\n",
    "ymean = y.mean()\n",
    "\n",
    "print(f\"The Mean of X : {xmean}\")\n",
    "print(f\"The Mean of Y : {ymean}\")"
   ]
  },
  {
   "cell_type": "code",
   "execution_count": 7,
   "id": "8fd97179",
   "metadata": {},
   "outputs": [
    {
     "name": "stdout",
     "output_type": "stream",
     "text": [
      "The Coefficient of Regression (or slope): 0.4\n"
     ]
    }
   ],
   "source": [
    "m = sum((x-xmean)*(y-ymean))/sum((x-xmean)**2)\n",
    "print(f\"The Coefficient of Regression (or slope): {m}\")"
   ]
  },
  {
   "cell_type": "code",
   "execution_count": 8,
   "id": "d67af8e1",
   "metadata": {},
   "outputs": [
    {
     "name": "stdout",
     "output_type": "stream",
     "text": [
      "The intercept of Regression line : 2.4\n"
     ]
    }
   ],
   "source": [
    "#ymean = xmean * m + c\n",
    "#c = ymean - (m*xmean)\n",
    "c = ymean - (m*xmean)\n",
    "\n",
    "print(f\"The intercept of Regression line : {c}\")"
   ]
  },
  {
   "cell_type": "code",
   "execution_count": 9,
   "id": "ae0ffb04",
   "metadata": {},
   "outputs": [],
   "source": [
    "def linreg(x):\n",
    "    return (m*x+c)"
   ]
  },
  {
   "cell_type": "code",
   "execution_count": 10,
   "id": "fc68930e",
   "metadata": {},
   "outputs": [
    {
     "data": {
      "text/plain": [
       "array([1, 2, 3, 4, 5])"
      ]
     },
     "execution_count": 10,
     "metadata": {},
     "output_type": "execute_result"
    }
   ],
   "source": [
    "x"
   ]
  },
  {
   "cell_type": "code",
   "execution_count": 11,
   "id": "7c548c60",
   "metadata": {},
   "outputs": [],
   "source": [
    "ypred = np.array(list(map(linreg, x)))"
   ]
  },
  {
   "cell_type": "code",
   "execution_count": 12,
   "id": "627e2cf9",
   "metadata": {},
   "outputs": [
    {
     "data": {
      "text/plain": [
       "array([2.8, 3.2, 3.6, 4. , 4.4])"
      ]
     },
     "execution_count": 12,
     "metadata": {},
     "output_type": "execute_result"
    }
   ],
   "source": [
    "ypred"
   ]
  },
  {
   "cell_type": "code",
   "execution_count": 13,
   "id": "a66b3662",
   "metadata": {},
   "outputs": [
    {
     "data": {
      "text/html": [
       "<div>\n",
       "<style scoped>\n",
       "    .dataframe tbody tr th:only-of-type {\n",
       "        vertical-align: middle;\n",
       "    }\n",
       "\n",
       "    .dataframe tbody tr th {\n",
       "        vertical-align: top;\n",
       "    }\n",
       "\n",
       "    .dataframe thead th {\n",
       "        text-align: right;\n",
       "    }\n",
       "</style>\n",
       "<table border=\"1\" class=\"dataframe\">\n",
       "  <thead>\n",
       "    <tr style=\"text-align: right;\">\n",
       "      <th></th>\n",
       "      <th>X</th>\n",
       "      <th>Actual Y</th>\n",
       "      <th>Predicted Y</th>\n",
       "    </tr>\n",
       "  </thead>\n",
       "  <tbody>\n",
       "    <tr>\n",
       "      <th>0</th>\n",
       "      <td>1</td>\n",
       "      <td>3</td>\n",
       "      <td>2.8</td>\n",
       "    </tr>\n",
       "    <tr>\n",
       "      <th>1</th>\n",
       "      <td>2</td>\n",
       "      <td>4</td>\n",
       "      <td>3.2</td>\n",
       "    </tr>\n",
       "    <tr>\n",
       "      <th>2</th>\n",
       "      <td>3</td>\n",
       "      <td>2</td>\n",
       "      <td>3.6</td>\n",
       "    </tr>\n",
       "    <tr>\n",
       "      <th>3</th>\n",
       "      <td>4</td>\n",
       "      <td>4</td>\n",
       "      <td>4.0</td>\n",
       "    </tr>\n",
       "    <tr>\n",
       "      <th>4</th>\n",
       "      <td>5</td>\n",
       "      <td>5</td>\n",
       "      <td>4.4</td>\n",
       "    </tr>\n",
       "  </tbody>\n",
       "</table>\n",
       "</div>"
      ],
      "text/plain": [
       "   X  Actual Y  Predicted Y\n",
       "0  1         3          2.8\n",
       "1  2         4          3.2\n",
       "2  3         2          3.6\n",
       "3  4         4          4.0\n",
       "4  5         5          4.4"
      ]
     },
     "execution_count": 13,
     "metadata": {},
     "output_type": "execute_result"
    }
   ],
   "source": [
    "dic ={\n",
    "    \"X\":x,\n",
    "    \"Actual Y\":y,\n",
    "    \"Predicted Y\":ypred\n",
    "}\n",
    "\n",
    "df = pd.DataFrame(dic)\n",
    "df"
   ]
  },
  {
   "cell_type": "code",
   "execution_count": 14,
   "id": "d8fd3858",
   "metadata": {},
   "outputs": [
    {
     "data": {
      "image/png": "[encoded data removed]",
      "text/plain": [
       "<Figure size 432x288 with 1 Axes>"
      ]
     },
     "metadata": {
      "needs_background": "light"
     },
     "output_type": "display_data"
    }
   ],
   "source": [
    "plt.scatter(x,y, color=\"red\")\n",
    "plt.plot(x, ypred, color=\"blue\")\n",
    "\n",
    "plt.title(\"Simple LinearRegression\")\n",
    "plt.xlabel(\"x (hr of study)\")\n",
    "plt.ylabel(\"y (marks obtain out of 5)\")\n",
    "plt.grid()\n",
    "plt.show()"
   ]
  },
  {
   "cell_type": "markdown",
   "id": "e4388981",
   "metadata": {},
   "source": [
    "### Sum of Squared Residuals"
   ]
  },
  {
   "cell_type": "code",
   "execution_count": 15,
   "id": "f088f2c1",
   "metadata": {},
   "outputs": [
    {
     "data": {
      "text/plain": [
       "3.5999999999999996"
      ]
     },
     "execution_count": 15,
     "metadata": {},
     "output_type": "execute_result"
    }
   ],
   "source": [
    "sum((y-ypred)**2)"
   ]
  },
  {
   "cell_type": "markdown",
   "id": "63c57d97",
   "metadata": {},
   "source": [
    "### Mean Absolute Error"
   ]
  },
  {
   "cell_type": "code",
   "execution_count": 16,
   "id": "27b0a3d5",
   "metadata": {},
   "outputs": [
    {
     "data": {
      "text/plain": [
       "0.6399999999999999"
      ]
     },
     "execution_count": 16,
     "metadata": {},
     "output_type": "execute_result"
    }
   ],
   "source": [
    "sum(abs(y-ypred))/len(y)"
   ]
  },
  {
   "cell_type": "markdown",
   "id": "dfa6c8cb",
   "metadata": {},
   "source": [
    "### Mean Squared Error"
   ]
  },
  {
   "cell_type": "code",
   "execution_count": 17,
   "id": "3feea512",
   "metadata": {},
   "outputs": [
    {
     "data": {
      "text/plain": [
       "0.72"
      ]
     },
     "execution_count": 17,
     "metadata": {},
     "output_type": "execute_result"
    }
   ],
   "source": [
    "sum((y-ypred)**2)/len(y)"
   ]
  },
  {
   "cell_type": "markdown",
   "id": "196374eb",
   "metadata": {},
   "source": [
    "### Root Mean Square Error"
   ]
  },
  {
   "cell_type": "code",
   "execution_count": 18,
   "id": "a3cf044b",
   "metadata": {},
   "outputs": [
    {
     "data": {
      "text/plain": [
       "0.848528137423857"
      ]
     },
     "execution_count": 18,
     "metadata": {},
     "output_type": "execute_result"
    }
   ],
   "source": [
    "np.sqrt(sum((y-ypred)**2)/len(y))"
   ]
  },
  {
   "cell_type": "markdown",
   "id": "3a942f0f",
   "metadata": {},
   "source": [
    "### R Squared"
   ]
  },
  {
   "cell_type": "markdown",
   "id": "120a9d0c",
   "metadata": {},
   "source": [
    "- R-squared value is statistical measure to know how close the data are from the fitted regression line.\n",
    "- It is also known as Coefficient of Multiple Determination\n",
    "- The equation of R-squared is given by,\n",
    "![title](r2.png)"
   ]
  },
  {
   "cell_type": "code",
   "execution_count": 19,
   "id": "9c408509",
   "metadata": {},
   "outputs": [
    {
     "name": "stdout",
     "output_type": "stream",
     "text": [
      "The R-squared value is 0.3076923076923078\n"
     ]
    }
   ],
   "source": [
    "r2 = sum((ypred-ymean)**2)/sum((y-ymean)**2)\n",
    "print(f\"The R-squared value is {r2}\")"
   ]
  },
  {
   "cell_type": "markdown",
   "id": "c2c45d31",
   "metadata": {},
   "source": [
    "- By observing the r2 value, we can conclude that the regresssion line is not good fit and it also suggest the actual value of Y is far away from the predicted value of Y.\n",
    "- The r2 value lies between 0-1, the bigger the r2 value the better the regression model will be.\n",
    "- If you are predicting human behaviour then 0.3 is also a good value.\n",
    "- If you are predicting medicine results then accuracy should be above 0.98 i.e 98%"
   ]
  },
  {
   "cell_type": "markdown",
   "id": "d50f7d2c",
   "metadata": {},
   "source": [
    "### Test The Model on New Observation"
   ]
  },
  {
   "cell_type": "code",
   "execution_count": 20,
   "id": "b9f72734",
   "metadata": {},
   "outputs": [
    {
     "data": {
      "text/plain": [
       "4.800000000000001"
      ]
     },
     "execution_count": 20,
     "metadata": {},
     "output_type": "execute_result"
    }
   ],
   "source": [
    "linreg(6)"
   ]
  },
  {
   "cell_type": "code",
   "execution_count": null,
   "id": "f92b3620",
   "metadata": {},
   "outputs": [],
   "source": [
    "newob = float(input(\"Enter No of Hrs of Study -: \"))\n",
    "print(f\"You will score {linreg(newob)} marks out of 5\")"
   ]
  }
 ],
 "metadata": {
  "kernelspec": {
   "display_name": "Python 3",
   "language": "python",
   "name": "python3"
  },
  "language_info": {
   "codemirror_mode": {
    "name": "ipython",
    "version": 3
   },
   "file_extension": ".py",
   "mimetype": "text/x-python",
   "name": "python",
   "nbconvert_exporter": "python",
   "pygments_lexer": "ipython3",
   "version": "3.8.8"
  }
 },
 "nbformat": 4,
 "nbformat_minor": 5
}
