{
  "cells": [
    {
      "cell_type": "code",
      "execution_count": 1,
      "id": "c7a6a13f",
      "metadata": {
        "id": "c7a6a13f"
      },
      "outputs": [],
      "source": [
        "import warnings\n",
        "warnings.filterwarnings(\"ignore\")\n",
        "\n",
        "import numpy as np\n",
        "import pandas as pd\n",
        "import matplotlib.pyplot as plt\n",
        "import seaborn as sns"
      ]
    },
    {
      "cell_type": "code",
      "execution_count": 2,
      "id": "ffdc678e",
      "metadata": {
        "colab": {
          "base_uri": "https://localhost:8080/",
          "height": 206
        },
        "id": "ffdc678e",
        "outputId": "8cdeb886-ab84-4bfd-9cb0-85154a6c08d0"
      },
      "outputs": [
        {
          "output_type": "execute_result",
          "data": {
            "text/plain": [
              "   pregnant  glocose  bp  skin  insulin   bmi  predigree  age  target\n",
              "0         6      148  72    35        0  33.6      0.627   50       1\n",
              "1         1       85  66    29        0  26.6      0.351   31       0\n",
              "2         8      183  64     0        0  23.3      0.672   32       1\n",
              "3         1       89  66    23       94  28.1      0.167   21       0\n",
              "4         0      137  40    35      168  43.1      2.288   33       1"
            ],
            "text/html": [
              "\n",
              "  <div id=\"df-2b339201-8d64-49dd-82f9-f642a34d7efa\">\n",
              "    <div class=\"colab-df-container\">\n",
              "      <div>\n",
              "<style scoped>\n",
              "    .dataframe tbody tr th:only-of-type {\n",
              "        vertical-align: middle;\n",
              "    }\n",
              "\n",
              "    .dataframe tbody tr th {\n",
              "        vertical-align: top;\n",
              "    }\n",
              "\n",
              "    .dataframe thead th {\n",
              "        text-align: right;\n",
              "    }\n",
              "</style>\n",
              "<table border=\"1\" class=\"dataframe\">\n",
              "  <thead>\n",
              "    <tr style=\"text-align: right;\">\n",
              "      <th></th>\n",
              "      <th>pregnant</th>\n",
              "      <th>glocose</th>\n",
              "      <th>bp</th>\n",
              "      <th>skin</th>\n",
              "      <th>insulin</th>\n",
              "      <th>bmi</th>\n",
              "      <th>predigree</th>\n",
              "      <th>age</th>\n",
              "      <th>target</th>\n",
              "    </tr>\n",
              "  </thead>\n",
              "  <tbody>\n",
              "    <tr>\n",
              "      <th>0</th>\n",
              "      <td>6</td>\n",
              "      <td>148</td>\n",
              "      <td>72</td>\n",
              "      <td>35</td>\n",
              "      <td>0</td>\n",
              "      <td>33.6</td>\n",
              "      <td>0.627</td>\n",
              "      <td>50</td>\n",
              "      <td>1</td>\n",
              "    </tr>\n",
              "    <tr>\n",
              "      <th>1</th>\n",
              "      <td>1</td>\n",
              "      <td>85</td>\n",
              "      <td>66</td>\n",
              "      <td>29</td>\n",
              "      <td>0</td>\n",
              "      <td>26.6</td>\n",
              "      <td>0.351</td>\n",
              "      <td>31</td>\n",
              "      <td>0</td>\n",
              "    </tr>\n",
              "    <tr>\n",
              "      <th>2</th>\n",
              "      <td>8</td>\n",
              "      <td>183</td>\n",
              "      <td>64</td>\n",
              "      <td>0</td>\n",
              "      <td>0</td>\n",
              "      <td>23.3</td>\n",
              "      <td>0.672</td>\n",
              "      <td>32</td>\n",
              "      <td>1</td>\n",
              "    </tr>\n",
              "    <tr>\n",
              "      <th>3</th>\n",
              "      <td>1</td>\n",
              "      <td>89</td>\n",
              "      <td>66</td>\n",
              "      <td>23</td>\n",
              "      <td>94</td>\n",
              "      <td>28.1</td>\n",
              "      <td>0.167</td>\n",
              "      <td>21</td>\n",
              "      <td>0</td>\n",
              "    </tr>\n",
              "    <tr>\n",
              "      <th>4</th>\n",
              "      <td>0</td>\n",
              "      <td>137</td>\n",
              "      <td>40</td>\n",
              "      <td>35</td>\n",
              "      <td>168</td>\n",
              "      <td>43.1</td>\n",
              "      <td>2.288</td>\n",
              "      <td>33</td>\n",
              "      <td>1</td>\n",
              "    </tr>\n",
              "  </tbody>\n",
              "</table>\n",
              "</div>\n",
              "      <button class=\"colab-df-convert\" onclick=\"convertToInteractive('df-2b339201-8d64-49dd-82f9-f642a34d7efa')\"\n",
              "              title=\"Convert this dataframe to an interactive table.\"\n",
              "              style=\"display:none;\">\n",
              "        \n",
              "  <svg xmlns=\"http://www.w3.org/2000/svg\" height=\"24px\"viewBox=\"0 0 24 24\"\n",
              "       width=\"24px\">\n",
              "    <path d=\"M0 0h24v24H0V0z\" fill=\"none\"/>\n",
              "    <path d=\"M18.56 5.44l.94 2.06.94-2.06 2.06-.94-2.06-.94-.94-2.06-.94 2.06-2.06.94zm-11 1L8.5 8.5l.94-2.06 2.06-.94-2.06-.94L8.5 2.5l-.94 2.06-2.06.94zm10 10l.94 2.06.94-2.06 2.06-.94-2.06-.94-.94-2.06-.94 2.06-2.06.94z\"/><path d=\"M17.41 7.96l-1.37-1.37c-.4-.4-.92-.59-1.43-.59-.52 0-1.04.2-1.43.59L10.3 9.45l-7.72 7.72c-.78.78-.78 2.05 0 2.83L4 21.41c.39.39.9.59 1.41.59.51 0 1.02-.2 1.41-.59l7.78-7.78 2.81-2.81c.8-.78.8-2.07 0-2.86zM5.41 20L4 18.59l7.72-7.72 1.47 1.35L5.41 20z\"/>\n",
              "  </svg>\n",
              "      </button>\n",
              "      \n",
              "  <style>\n",
              "    .colab-df-container {\n",
              "      display:flex;\n",
              "      flex-wrap:wrap;\n",
              "      gap: 12px;\n",
              "    }\n",
              "\n",
              "    .colab-df-convert {\n",
              "      background-color: #E8F0FE;\n",
              "      border: none;\n",
              "      border-radius: 50%;\n",
              "      cursor: pointer;\n",
              "      display: none;\n",
              "      fill: #1967D2;\n",
              "      height: 32px;\n",
              "      padding: 0 0 0 0;\n",
              "      width: 32px;\n",
              "    }\n",
              "\n",
              "    .colab-df-convert:hover {\n",
              "      background-color: #E2EBFA;\n",
              "      box-shadow: 0px 1px 2px rgba(60, 64, 67, 0.3), 0px 1px 3px 1px rgba(60, 64, 67, 0.15);\n",
              "      fill: #174EA6;\n",
              "    }\n",
              "\n",
              "    [theme=dark] .colab-df-convert {\n",
              "      background-color: #3B4455;\n",
              "      fill: #D2E3FC;\n",
              "    }\n",
              "\n",
              "    [theme=dark] .colab-df-convert:hover {\n",
              "      background-color: #434B5C;\n",
              "      box-shadow: 0px 1px 3px 1px rgba(0, 0, 0, 0.15);\n",
              "      filter: drop-shadow(0px 1px 2px rgba(0, 0, 0, 0.3));\n",
              "      fill: #FFFFFF;\n",
              "    }\n",
              "  </style>\n",
              "\n",
              "      <script>\n",
              "        const buttonEl =\n",
              "          document.querySelector('#df-2b339201-8d64-49dd-82f9-f642a34d7efa button.colab-df-convert');\n",
              "        buttonEl.style.display =\n",
              "          google.colab.kernel.accessAllowed ? 'block' : 'none';\n",
              "\n",
              "        async function convertToInteractive(key) {\n",
              "          const element = document.querySelector('#df-2b339201-8d64-49dd-82f9-f642a34d7efa');\n",
              "          const dataTable =\n",
              "            await google.colab.kernel.invokeFunction('convertToInteractive',\n",
              "                                                     [key], {});\n",
              "          if (!dataTable) return;\n",
              "\n",
              "          const docLinkHtml = 'Like what you see? Visit the ' +\n",
              "            '<a target=\"_blank\" href=https://colab.research.google.com/notebooks/data_table.ipynb>data table notebook</a>'\n",
              "            + ' to learn more about interactive tables.';\n",
              "          element.innerHTML = '';\n",
              "          dataTable['output_type'] = 'display_data';\n",
              "          await google.colab.output.renderOutput(dataTable, element);\n",
              "          const docLink = document.createElement('div');\n",
              "          docLink.innerHTML = docLinkHtml;\n",
              "          element.appendChild(docLink);\n",
              "        }\n",
              "      </script>\n",
              "    </div>\n",
              "  </div>\n",
              "  "
            ]
          },
          "metadata": {},
          "execution_count": 2
        }
      ],
      "source": [
        "df = pd.read_csv(\"diabeties.csv\")\n",
        "df.head()"
      ]
    },
    {
      "cell_type": "markdown",
      "id": "4900b83d",
      "metadata": {
        "id": "4900b83d"
      },
      "source": [
        "# Goal -: We need to create a ML model, which has the ability to Predict the Patient as Positive if they are actually Positive."
      ]
    },
    {
      "cell_type": "code",
      "execution_count": 3,
      "id": "23385307",
      "metadata": {
        "colab": {
          "base_uri": "https://localhost:8080/"
        },
        "id": "23385307",
        "outputId": "dedeae9d-cc1e-42cc-fcea-85e50f974265"
      },
      "outputs": [
        {
          "output_type": "stream",
          "name": "stdout",
          "text": [
            "<class 'pandas.core.frame.DataFrame'>\n",
            "RangeIndex: 768 entries, 0 to 767\n",
            "Data columns (total 9 columns):\n",
            " #   Column     Non-Null Count  Dtype  \n",
            "---  ------     --------------  -----  \n",
            " 0   pregnant   768 non-null    int64  \n",
            " 1   glocose    768 non-null    int64  \n",
            " 2   bp         768 non-null    int64  \n",
            " 3   skin       768 non-null    int64  \n",
            " 4   insulin    768 non-null    int64  \n",
            " 5   bmi        768 non-null    float64\n",
            " 6   predigree  768 non-null    float64\n",
            " 7   age        768 non-null    int64  \n",
            " 8   target     768 non-null    int64  \n",
            "dtypes: float64(2), int64(7)\n",
            "memory usage: 54.1 KB\n"
          ]
        }
      ],
      "source": [
        "df.info()"
      ]
    },
    {
      "cell_type": "code",
      "execution_count": 4,
      "id": "477a08f3",
      "metadata": {
        "colab": {
          "base_uri": "https://localhost:8080/",
          "height": 344
        },
        "id": "477a08f3",
        "outputId": "43e3e3fe-ad42-4d5c-de0e-2da05aee4a83"
      },
      "outputs": [
        {
          "output_type": "execute_result",
          "data": {
            "text/plain": [
              "         pregnant     glocose          bp        skin     insulin         bmi  \\\n",
              "count  768.000000  768.000000  768.000000  768.000000  768.000000  768.000000   \n",
              "mean     3.845052  120.894531   69.105469   20.536458   79.799479   31.992578   \n",
              "std      3.369578   31.972618   19.355807   15.952218  115.244002    7.884160   \n",
              "min      0.000000    0.000000    0.000000    0.000000    0.000000    0.000000   \n",
              "25%      1.000000   99.000000   62.000000    0.000000    0.000000   27.300000   \n",
              "50%      3.000000  117.000000   72.000000   23.000000   30.500000   32.000000   \n",
              "75%      6.000000  140.250000   80.000000   32.000000  127.250000   36.600000   \n",
              "max     17.000000  199.000000  122.000000   99.000000  846.000000   67.100000   \n",
              "\n",
              "        predigree         age      target  \n",
              "count  768.000000  768.000000  768.000000  \n",
              "mean     0.471876   33.240885    0.348958  \n",
              "std      0.331329   11.760232    0.476951  \n",
              "min      0.078000   21.000000    0.000000  \n",
              "25%      0.243750   24.000000    0.000000  \n",
              "50%      0.372500   29.000000    0.000000  \n",
              "75%      0.626250   41.000000    1.000000  \n",
              "max      2.420000   81.000000    1.000000  "
            ],
            "text/html": [
              "\n",
              "  <div id=\"df-e7fde21b-1576-4f5a-9fac-65a1fb39868d\">\n",
              "    <div class=\"colab-df-container\">\n",
              "      <div>\n",
              "<style scoped>\n",
              "    .dataframe tbody tr th:only-of-type {\n",
              "        vertical-align: middle;\n",
              "    }\n",
              "\n",
              "    .dataframe tbody tr th {\n",
              "        vertical-align: top;\n",
              "    }\n",
              "\n",
              "    .dataframe thead th {\n",
              "        text-align: right;\n",
              "    }\n",
              "</style>\n",
              "<table border=\"1\" class=\"dataframe\">\n",
              "  <thead>\n",
              "    <tr style=\"text-align: right;\">\n",
              "      <th></th>\n",
              "      <th>pregnant</th>\n",
              "      <th>glocose</th>\n",
              "      <th>bp</th>\n",
              "      <th>skin</th>\n",
              "      <th>insulin</th>\n",
              "      <th>bmi</th>\n",
              "      <th>predigree</th>\n",
              "      <th>age</th>\n",
              "      <th>target</th>\n",
              "    </tr>\n",
              "  </thead>\n",
              "  <tbody>\n",
              "    <tr>\n",
              "      <th>count</th>\n",
              "      <td>768.000000</td>\n",
              "      <td>768.000000</td>\n",
              "      <td>768.000000</td>\n",
              "      <td>768.000000</td>\n",
              "      <td>768.000000</td>\n",
              "      <td>768.000000</td>\n",
              "      <td>768.000000</td>\n",
              "      <td>768.000000</td>\n",
              "      <td>768.000000</td>\n",
              "    </tr>\n",
              "    <tr>\n",
              "      <th>mean</th>\n",
              "      <td>3.845052</td>\n",
              "      <td>120.894531</td>\n",
              "      <td>69.105469</td>\n",
              "      <td>20.536458</td>\n",
              "      <td>79.799479</td>\n",
              "      <td>31.992578</td>\n",
              "      <td>0.471876</td>\n",
              "      <td>33.240885</td>\n",
              "      <td>0.348958</td>\n",
              "    </tr>\n",
              "    <tr>\n",
              "      <th>std</th>\n",
              "      <td>3.369578</td>\n",
              "      <td>31.972618</td>\n",
              "      <td>19.355807</td>\n",
              "      <td>15.952218</td>\n",
              "      <td>115.244002</td>\n",
              "      <td>7.884160</td>\n",
              "      <td>0.331329</td>\n",
              "      <td>11.760232</td>\n",
              "      <td>0.476951</td>\n",
              "    </tr>\n",
              "    <tr>\n",
              "      <th>min</th>\n",
              "      <td>0.000000</td>\n",
              "      <td>0.000000</td>\n",
              "      <td>0.000000</td>\n",
              "      <td>0.000000</td>\n",
              "      <td>0.000000</td>\n",
              "      <td>0.000000</td>\n",
              "      <td>0.078000</td>\n",
              "      <td>21.000000</td>\n",
              "      <td>0.000000</td>\n",
              "    </tr>\n",
              "    <tr>\n",
              "      <th>25%</th>\n",
              "      <td>1.000000</td>\n",
              "      <td>99.000000</td>\n",
              "      <td>62.000000</td>\n",
              "      <td>0.000000</td>\n",
              "      <td>0.000000</td>\n",
              "      <td>27.300000</td>\n",
              "      <td>0.243750</td>\n",
              "      <td>24.000000</td>\n",
              "      <td>0.000000</td>\n",
              "    </tr>\n",
              "    <tr>\n",
              "      <th>50%</th>\n",
              "      <td>3.000000</td>\n",
              "      <td>117.000000</td>\n",
              "      <td>72.000000</td>\n",
              "      <td>23.000000</td>\n",
              "      <td>30.500000</td>\n",
              "      <td>32.000000</td>\n",
              "      <td>0.372500</td>\n",
              "      <td>29.000000</td>\n",
              "      <td>0.000000</td>\n",
              "    </tr>\n",
              "    <tr>\n",
              "      <th>75%</th>\n",
              "      <td>6.000000</td>\n",
              "      <td>140.250000</td>\n",
              "      <td>80.000000</td>\n",
              "      <td>32.000000</td>\n",
              "      <td>127.250000</td>\n",
              "      <td>36.600000</td>\n",
              "      <td>0.626250</td>\n",
              "      <td>41.000000</td>\n",
              "      <td>1.000000</td>\n",
              "    </tr>\n",
              "    <tr>\n",
              "      <th>max</th>\n",
              "      <td>17.000000</td>\n",
              "      <td>199.000000</td>\n",
              "      <td>122.000000</td>\n",
              "      <td>99.000000</td>\n",
              "      <td>846.000000</td>\n",
              "      <td>67.100000</td>\n",
              "      <td>2.420000</td>\n",
              "      <td>81.000000</td>\n",
              "      <td>1.000000</td>\n",
              "    </tr>\n",
              "  </tbody>\n",
              "</table>\n",
              "</div>\n",
              "      <button class=\"colab-df-convert\" onclick=\"convertToInteractive('df-e7fde21b-1576-4f5a-9fac-65a1fb39868d')\"\n",
              "              title=\"Convert this dataframe to an interactive table.\"\n",
              "              style=\"display:none;\">\n",
              "        \n",
              "  <svg xmlns=\"http://www.w3.org/2000/svg\" height=\"24px\"viewBox=\"0 0 24 24\"\n",
              "       width=\"24px\">\n",
              "    <path d=\"M0 0h24v24H0V0z\" fill=\"none\"/>\n",
              "    <path d=\"M18.56 5.44l.94 2.06.94-2.06 2.06-.94-2.06-.94-.94-2.06-.94 2.06-2.06.94zm-11 1L8.5 8.5l.94-2.06 2.06-.94-2.06-.94L8.5 2.5l-.94 2.06-2.06.94zm10 10l.94 2.06.94-2.06 2.06-.94-2.06-.94-.94-2.06-.94 2.06-2.06.94z\"/><path d=\"M17.41 7.96l-1.37-1.37c-.4-.4-.92-.59-1.43-.59-.52 0-1.04.2-1.43.59L10.3 9.45l-7.72 7.72c-.78.78-.78 2.05 0 2.83L4 21.41c.39.39.9.59 1.41.59.51 0 1.02-.2 1.41-.59l7.78-7.78 2.81-2.81c.8-.78.8-2.07 0-2.86zM5.41 20L4 18.59l7.72-7.72 1.47 1.35L5.41 20z\"/>\n",
              "  </svg>\n",
              "      </button>\n",
              "      \n",
              "  <style>\n",
              "    .colab-df-container {\n",
              "      display:flex;\n",
              "      flex-wrap:wrap;\n",
              "      gap: 12px;\n",
              "    }\n",
              "\n",
              "    .colab-df-convert {\n",
              "      background-color: #E8F0FE;\n",
              "      border: none;\n",
              "      border-radius: 50%;\n",
              "      cursor: pointer;\n",
              "      display: none;\n",
              "      fill: #1967D2;\n",
              "      height: 32px;\n",
              "      padding: 0 0 0 0;\n",
              "      width: 32px;\n",
              "    }\n",
              "\n",
              "    .colab-df-convert:hover {\n",
              "      background-color: #E2EBFA;\n",
              "      box-shadow: 0px 1px 2px rgba(60, 64, 67, 0.3), 0px 1px 3px 1px rgba(60, 64, 67, 0.15);\n",
              "      fill: #174EA6;\n",
              "    }\n",
              "\n",
              "    [theme=dark] .colab-df-convert {\n",
              "      background-color: #3B4455;\n",
              "      fill: #D2E3FC;\n",
              "    }\n",
              "\n",
              "    [theme=dark] .colab-df-convert:hover {\n",
              "      background-color: #434B5C;\n",
              "      box-shadow: 0px 1px 3px 1px rgba(0, 0, 0, 0.15);\n",
              "      filter: drop-shadow(0px 1px 2px rgba(0, 0, 0, 0.3));\n",
              "      fill: #FFFFFF;\n",
              "    }\n",
              "  </style>\n",
              "\n",
              "      <script>\n",
              "        const buttonEl =\n",
              "          document.querySelector('#df-e7fde21b-1576-4f5a-9fac-65a1fb39868d button.colab-df-convert');\n",
              "        buttonEl.style.display =\n",
              "          google.colab.kernel.accessAllowed ? 'block' : 'none';\n",
              "\n",
              "        async function convertToInteractive(key) {\n",
              "          const element = document.querySelector('#df-e7fde21b-1576-4f5a-9fac-65a1fb39868d');\n",
              "          const dataTable =\n",
              "            await google.colab.kernel.invokeFunction('convertToInteractive',\n",
              "                                                     [key], {});\n",
              "          if (!dataTable) return;\n",
              "\n",
              "          const docLinkHtml = 'Like what you see? Visit the ' +\n",
              "            '<a target=\"_blank\" href=https://colab.research.google.com/notebooks/data_table.ipynb>data table notebook</a>'\n",
              "            + ' to learn more about interactive tables.';\n",
              "          element.innerHTML = '';\n",
              "          dataTable['output_type'] = 'display_data';\n",
              "          await google.colab.output.renderOutput(dataTable, element);\n",
              "          const docLink = document.createElement('div');\n",
              "          docLink.innerHTML = docLinkHtml;\n",
              "          element.appendChild(docLink);\n",
              "        }\n",
              "      </script>\n",
              "    </div>\n",
              "  </div>\n",
              "  "
            ]
          },
          "metadata": {},
          "execution_count": 4
        }
      ],
      "source": [
        "df.describe()"
      ]
    },
    {
      "cell_type": "code",
      "execution_count": 5,
      "id": "8f307c40",
      "metadata": {
        "id": "8f307c40"
      },
      "outputs": [],
      "source": [
        "#sns.pairplot(df)"
      ]
    },
    {
      "cell_type": "code",
      "execution_count": 6,
      "id": "9050898f",
      "metadata": {
        "id": "9050898f"
      },
      "outputs": [],
      "source": [
        "#sns.pairplot(data=df, hue=\"target\")"
      ]
    },
    {
      "cell_type": "code",
      "execution_count": 7,
      "id": "5edadb52",
      "metadata": {
        "colab": {
          "base_uri": "https://localhost:8080/"
        },
        "id": "5edadb52",
        "outputId": "50c4df95-4e6f-4b9d-93a4-4f1baa67aafb"
      },
      "outputs": [
        {
          "output_type": "execute_result",
          "data": {
            "text/plain": [
              "0    500\n",
              "1    268\n",
              "Name: target, dtype: int64"
            ]
          },
          "metadata": {},
          "execution_count": 7
        }
      ],
      "source": [
        "df.target.value_counts()"
      ]
    },
    {
      "cell_type": "code",
      "execution_count": 8,
      "id": "8ad95571",
      "metadata": {
        "scrolled": true,
        "colab": {
          "base_uri": "https://localhost:8080/"
        },
        "id": "8ad95571",
        "outputId": "244d95ba-07dd-4499-c04f-471ef9374a68"
      },
      "outputs": [
        {
          "output_type": "stream",
          "name": "stdout",
          "text": [
            "Accuracy : 0.7835497835497836\n",
            "ROC : 0.740290088638195\n",
            "[[132  14]\n",
            " [ 36  49]]\n",
            "\n",
            "              precision    recall  f1-score   support\n",
            "\n",
            "           0       0.79      0.90      0.84       146\n",
            "           1       0.78      0.58      0.66        85\n",
            "\n",
            "    accuracy                           0.78       231\n",
            "   macro avg       0.78      0.74      0.75       231\n",
            "weighted avg       0.78      0.78      0.78       231\n",
            "\n"
          ]
        }
      ],
      "source": [
        "x = df.iloc[:, :-1]\n",
        "y = df.iloc[:, -1]\n",
        "\n",
        "from sklearn.model_selection import train_test_split\n",
        "xtrain, xtest, ytrain, ytest = train_test_split(x,y, test_size=0.3, random_state=1)\n",
        "\n",
        "from sklearn.linear_model import LogisticRegression\n",
        "logreg = LogisticRegression()\n",
        "logreg.fit(xtrain, ytrain)\n",
        "ypred = logreg.predict(xtest)\n",
        "\n",
        "from sklearn.metrics import classification_report, accuracy_score, roc_auc_score, confusion_matrix\n",
        "ac = accuracy_score(ytest, ypred)\n",
        "ra = roc_auc_score(ytest, ypred)\n",
        "cm = confusion_matrix(ytest, ypred)\n",
        "cr = classification_report(ytest, ypred)\n",
        "\n",
        "print(f\"Accuracy : {ac}\\nROC : {ra}\\n{cm}\\n\\n{cr}\")\n",
        "#In confusion matrix, 36 FN and 14 FP,\n",
        "# if u see recall value,modelis predicting non-diabetic 0.90 times,and for diabetic only, 0.58 times.\n",
        "# i.e. out of 100 diabetic people, 58 are correctly predicted and rest are missed.Recall value is not great.\n",
        "# f1-score for diabetic people is 66.So we can change the threshold."
      ]
    },
    {
      "cell_type": "code",
      "execution_count": 9,
      "id": "29a19200",
      "metadata": {
        "colab": {
          "base_uri": "https://localhost:8080/"
        },
        "id": "29a19200",
        "outputId": "9fda2441-de77-4917-b747-3bfadba8d6c4"
      },
      "outputs": [
        {
          "output_type": "stream",
          "name": "stdout",
          "text": [
            "Training Accuracy - : 0.7728119180633147\n",
            "Testing Accuracy -: 0.7835497835497836\n"
          ]
        }
      ],
      "source": [
        "# but before changing threshold, we will check bias-variance,so that we get a clear picture if we need to \n",
        "# apply hyperparameter tuning as well.\n",
        "train = logreg.score(xtrain, ytrain)\n",
        "test = logreg.score(xtest, ytest)\n",
        "\n",
        "print(f\"Training Accuracy - : {train}\\nTesting Accuracy -: {test}\")\n",
        "# low bias ,low varince..Soour model is good..its just performing bad when it comes to +ve values."
      ]
    },
    {
      "cell_type": "code",
      "execution_count": 10,
      "id": "658c7b24",
      "metadata": {
        "colab": {
          "base_uri": "https://localhost:8080/"
        },
        "id": "658c7b24",
        "outputId": "9ce10c91-c834-4a21-d3ee-e427208abe16"
      },
      "outputs": [
        {
          "output_type": "stream",
          "name": "stdout",
          "text": [
            "Actual Values     : [0 0 0 0 0 0 0 0 0 0 0 0 1 1 0 1 1 0 0 0 1 1 1 1 0]\n",
            "Predicted Values  : [0 0 0 0 0 0 0 0 0 0 0 0 1 1 0 1 0 0 0 0 0 0 1 0 0]\n"
          ]
        }
      ],
      "source": [
        "print(f\"Actual Values     : {ytest[:25].values}\") # to convert df into numpy array\n",
        "print(f\"Predicted Values  : {ypred[:25]}\") # it'salready in 1 D array format"
      ]
    },
    {
      "cell_type": "code",
      "execution_count": 11,
      "id": "befab8b2",
      "metadata": {
        "colab": {
          "base_uri": "https://localhost:8080/"
        },
        "id": "befab8b2",
        "outputId": "03ee1da2-444e-405b-97ca-62624a9e40fa"
      },
      "outputs": [
        {
          "output_type": "stream",
          "name": "stdout",
          "text": [
            "Actual Values     : [0 0 1 0 1 1 0 0 1 0 1 0 0 0 0 0 0 0 1 0 0 1 1 0 1 0]\n",
            "Predicted Values  : [0 0 1 0 0 0 0 0 1 0 1 0 0 0 1 0 0 0 0 0 0 1 1 0 0 0]\n"
          ]
        }
      ],
      "source": [
        "print(f\"Actual Values     : {ytest[25:51].values}\")\n",
        "print(f\"Predicted Values  : {ypred[25:51]}\")"
      ]
    },
    {
      "cell_type": "code",
      "execution_count": 12,
      "id": "7ef747c8",
      "metadata": {
        "colab": {
          "base_uri": "https://localhost:8080/"
        },
        "id": "7ef747c8",
        "outputId": "4fa610cb-fc61-48d8-ac69-c7620371966e"
      },
      "outputs": [
        {
          "output_type": "execute_result",
          "data": {
            "text/plain": [
              "array([[0.58040167, 0.41959833],\n",
              "       [0.69594776, 0.30405224],\n",
              "       [0.85395001, 0.14604999],\n",
              "       [0.94499839, 0.05500161],\n",
              "       [0.79048285, 0.20951715],\n",
              "       [0.72197338, 0.27802662],\n",
              "       [0.64280942, 0.35719058],\n",
              "       [0.89586984, 0.10413016],\n",
              "       [0.83496673, 0.16503327],\n",
              "       [0.7887994 , 0.2112006 ],\n",
              "       [0.56950834, 0.43049166],\n",
              "       [0.92486115, 0.07513885],\n",
              "       [0.01884581, 0.98115419],\n",
              "       [0.27328702, 0.72671298],\n",
              "       [0.97528382, 0.02471618],\n",
              "       [0.28338038, 0.71661962],\n",
              "       [0.7640036 , 0.2359964 ],\n",
              "       [0.69651885, 0.30348115],\n",
              "       [0.87011997, 0.12988003],\n",
              "       [0.84402692, 0.15597308],\n",
              "       [0.61772002, 0.38227998],\n",
              "       [0.8668078 , 0.1331922 ],\n",
              "       [0.04823539, 0.95176461],\n",
              "       [0.73908631, 0.26091369],\n",
              "       [0.92726287, 0.07273713],\n",
              "       [0.59294088, 0.40705912],\n",
              "       [0.79790822, 0.20209178],\n",
              "       [0.27468458, 0.72531542],\n",
              "       [0.91827899, 0.08172101],\n",
              "       [0.54150071, 0.45849929],\n",
              "       [0.59282197, 0.40717803],\n",
              "       [0.67448296, 0.32551704],\n",
              "       [0.94623852, 0.05376148],\n",
              "       [0.29864142, 0.70135858],\n",
              "       [0.87076151, 0.12923849],\n",
              "       [0.33422327, 0.66577673],\n",
              "       [0.91073822, 0.08926178],\n",
              "       [0.8191061 , 0.1808939 ],\n",
              "       [0.89706535, 0.10293465],\n",
              "       [0.37670059, 0.62329941],\n",
              "       [0.78965665, 0.21034335],\n",
              "       [0.91369463, 0.08630537],\n",
              "       [0.9611729 , 0.0388271 ],\n",
              "       [0.71868372, 0.28131628],\n",
              "       [0.92936266, 0.07063734],\n",
              "       [0.97663771, 0.02336229],\n",
              "       [0.24372784, 0.75627216],\n",
              "       [0.18854966, 0.81145034],\n",
              "       [0.92353351, 0.07646649],\n",
              "       [0.85770503, 0.14229497],\n",
              "       [0.99140204, 0.00859796],\n",
              "       [0.82134658, 0.17865342],\n",
              "       [0.1654434 , 0.8345566 ],\n",
              "       [0.94906886, 0.05093114],\n",
              "       [0.25472666, 0.74527334],\n",
              "       [0.89938097, 0.10061903],\n",
              "       [0.38345623, 0.61654377],\n",
              "       [0.70171725, 0.29828275],\n",
              "       [0.43730494, 0.56269506],\n",
              "       [0.82929031, 0.17070969],\n",
              "       [0.38374379, 0.61625621],\n",
              "       [0.98681717, 0.01318283],\n",
              "       [0.28403848, 0.71596152],\n",
              "       [0.77954452, 0.22045548],\n",
              "       [0.62593236, 0.37406764],\n",
              "       [0.88848892, 0.11151108],\n",
              "       [0.98477102, 0.01522898],\n",
              "       [0.64341055, 0.35658945],\n",
              "       [0.29899273, 0.70100727],\n",
              "       [0.39717611, 0.60282389],\n",
              "       [0.1188979 , 0.8811021 ],\n",
              "       [0.24670398, 0.75329602],\n",
              "       [0.41800218, 0.58199782],\n",
              "       [0.98215169, 0.01784831],\n",
              "       [0.31853935, 0.68146065],\n",
              "       [0.7363269 , 0.2636731 ],\n",
              "       [0.36819632, 0.63180368],\n",
              "       [0.70042729, 0.29957271],\n",
              "       [0.8834626 , 0.1165374 ],\n",
              "       [0.33986281, 0.66013719],\n",
              "       [0.33932686, 0.66067314],\n",
              "       [0.75968867, 0.24031133],\n",
              "       [0.5605864 , 0.4394136 ],\n",
              "       [0.71019792, 0.28980208],\n",
              "       [0.73164155, 0.26835845],\n",
              "       [0.33705159, 0.66294841],\n",
              "       [0.40718723, 0.59281277],\n",
              "       [0.68178492, 0.31821508],\n",
              "       [0.67706676, 0.32293324],\n",
              "       [0.72436073, 0.27563927],\n",
              "       [0.87921038, 0.12078962],\n",
              "       [0.96270269, 0.03729731],\n",
              "       [0.73989665, 0.26010335],\n",
              "       [0.89625697, 0.10374303],\n",
              "       [0.25110283, 0.74889717],\n",
              "       [0.55162239, 0.44837761],\n",
              "       [0.71775108, 0.28224892],\n",
              "       [0.77342569, 0.22657431],\n",
              "       [0.13666358, 0.86333642],\n",
              "       [0.87312516, 0.12687484],\n",
              "       [0.85710664, 0.14289336],\n",
              "       [0.69721924, 0.30278076],\n",
              "       [0.31231481, 0.68768519],\n",
              "       [0.76654651, 0.23345349],\n",
              "       [0.89114665, 0.10885335],\n",
              "       [0.91888236, 0.08111764],\n",
              "       [0.49049789, 0.50950211],\n",
              "       [0.35535942, 0.64464058],\n",
              "       [0.79521884, 0.20478116],\n",
              "       [0.86545868, 0.13454132],\n",
              "       [0.63126363, 0.36873637],\n",
              "       [0.95008324, 0.04991676],\n",
              "       [0.55575047, 0.44424953],\n",
              "       [0.81766155, 0.18233845],\n",
              "       [0.97787081, 0.02212919],\n",
              "       [0.93167182, 0.06832818],\n",
              "       [0.87887506, 0.12112494],\n",
              "       [0.60491673, 0.39508327],\n",
              "       [0.72443162, 0.27556838],\n",
              "       [0.62050118, 0.37949882],\n",
              "       [0.78722693, 0.21277307],\n",
              "       [0.12413948, 0.87586052],\n",
              "       [0.66989595, 0.33010405],\n",
              "       [0.68917123, 0.31082877],\n",
              "       [0.85827223, 0.14172777],\n",
              "       [0.85091845, 0.14908155],\n",
              "       [0.7451853 , 0.2548147 ],\n",
              "       [0.62458566, 0.37541434],\n",
              "       [0.37926555, 0.62073445],\n",
              "       [0.76987242, 0.23012758],\n",
              "       [0.05079888, 0.94920112],\n",
              "       [0.95861103, 0.04138897],\n",
              "       [0.6241167 , 0.3758833 ],\n",
              "       [0.64939492, 0.35060508],\n",
              "       [0.86685417, 0.13314583],\n",
              "       [0.76249325, 0.23750675],\n",
              "       [0.89265676, 0.10734324],\n",
              "       [0.35306545, 0.64693455],\n",
              "       [0.85926008, 0.14073992],\n",
              "       [0.74323132, 0.25676868],\n",
              "       [0.06548338, 0.93451662],\n",
              "       [0.88690239, 0.11309761],\n",
              "       [0.82422122, 0.17577878],\n",
              "       [0.16831352, 0.83168648],\n",
              "       [0.32255116, 0.67744884],\n",
              "       [0.54690084, 0.45309916],\n",
              "       [0.94650177, 0.05349823],\n",
              "       [0.91924551, 0.08075449],\n",
              "       [0.83150063, 0.16849937],\n",
              "       [0.84688023, 0.15311977],\n",
              "       [0.71494102, 0.28505898],\n",
              "       [0.04203791, 0.95796209],\n",
              "       [0.92730364, 0.07269636],\n",
              "       [0.74362086, 0.25637914],\n",
              "       [0.28210943, 0.71789057],\n",
              "       [0.26188501, 0.73811499],\n",
              "       [0.69280671, 0.30719329],\n",
              "       [0.66709562, 0.33290438],\n",
              "       [0.68706141, 0.31293859],\n",
              "       [0.98434586, 0.01565414],\n",
              "       [0.28114844, 0.71885156],\n",
              "       [0.41617597, 0.58382403],\n",
              "       [0.77550068, 0.22449932],\n",
              "       [0.96348004, 0.03651996],\n",
              "       [0.61978573, 0.38021427],\n",
              "       [0.67067835, 0.32932165],\n",
              "       [0.70502769, 0.29497231],\n",
              "       [0.28402447, 0.71597553],\n",
              "       [0.22165665, 0.77834335],\n",
              "       [0.37652013, 0.62347987],\n",
              "       [0.07049636, 0.92950364],\n",
              "       [0.27024507, 0.72975493],\n",
              "       [0.78180281, 0.21819719],\n",
              "       [0.90622871, 0.09377129],\n",
              "       [0.3251528 , 0.6748472 ],\n",
              "       [0.64928591, 0.35071409],\n",
              "       [0.1144289 , 0.8855711 ],\n",
              "       [0.8503939 , 0.1496061 ],\n",
              "       [0.8499523 , 0.1500477 ],\n",
              "       [0.81295435, 0.18704565],\n",
              "       [0.60753057, 0.39246943],\n",
              "       [0.26313162, 0.73686838],\n",
              "       [0.92587082, 0.07412918],\n",
              "       [0.11228291, 0.88771709],\n",
              "       [0.96410175, 0.03589825],\n",
              "       [0.92181147, 0.07818853],\n",
              "       [0.94915087, 0.05084913],\n",
              "       [0.2592443 , 0.7407557 ],\n",
              "       [0.65775838, 0.34224162],\n",
              "       [0.79650463, 0.20349537],\n",
              "       [0.76958973, 0.23041027],\n",
              "       [0.93738443, 0.06261557],\n",
              "       [0.88418612, 0.11581388],\n",
              "       [0.87823107, 0.12176893],\n",
              "       [0.33117228, 0.66882772],\n",
              "       [0.88387818, 0.11612182],\n",
              "       [0.62261988, 0.37738012],\n",
              "       [0.86872791, 0.13127209],\n",
              "       [0.71160645, 0.28839355],\n",
              "       [0.2953038 , 0.7046962 ],\n",
              "       [0.07984678, 0.92015322],\n",
              "       [0.60375339, 0.39624661],\n",
              "       [0.88582109, 0.11417891],\n",
              "       [0.90574288, 0.09425712],\n",
              "       [0.39132263, 0.60867737],\n",
              "       [0.20407027, 0.79592973],\n",
              "       [0.94423425, 0.05576575],\n",
              "       [0.88248488, 0.11751512],\n",
              "       [0.81693403, 0.18306597],\n",
              "       [0.21939109, 0.78060891],\n",
              "       [0.93068069, 0.06931931],\n",
              "       [0.56030268, 0.43969732],\n",
              "       [0.80355414, 0.19644586],\n",
              "       [0.35050207, 0.64949793],\n",
              "       [0.7908426 , 0.2091574 ],\n",
              "       [0.58471921, 0.41528079],\n",
              "       [0.74207674, 0.25792326],\n",
              "       [0.96383084, 0.03616916],\n",
              "       [0.78534351, 0.21465649],\n",
              "       [0.59621495, 0.40378505],\n",
              "       [0.87458746, 0.12541254],\n",
              "       [0.85695756, 0.14304244],\n",
              "       [0.95005014, 0.04994986],\n",
              "       [0.08854517, 0.91145483],\n",
              "       [0.70134515, 0.29865485],\n",
              "       [0.72040037, 0.27959963],\n",
              "       [0.88338724, 0.11661276],\n",
              "       [0.88828322, 0.11171678],\n",
              "       [0.94710338, 0.05289662],\n",
              "       [0.1294906 , 0.8705094 ],\n",
              "       [0.69608112, 0.30391888]])"
            ]
          },
          "metadata": {},
          "execution_count": 12
        }
      ],
      "source": [
        "logreg.predict_proba(xtest) # it gives prob of observation, that it will go under 0 class or class 1"
      ]
    },
    {
      "cell_type": "code",
      "execution_count": 13,
      "id": "23f59628",
      "metadata": {
        "id": "23f59628"
      },
      "outputs": [],
      "source": [
        "ypredprob = logreg.predict_proba(xtest)[:, 1] # now, we want to make changes for 1 value. All rows of 1st col\n",
        "# we want to change the prediction threshold from 0.5 to 0.3"
      ]
    },
    {
      "cell_type": "code",
      "execution_count": 14,
      "id": "b1708d8d",
      "metadata": {
        "colab": {
          "base_uri": "https://localhost:8080/"
        },
        "id": "b1708d8d",
        "outputId": "182fefd1-f353-4d08-d31c-1dea7fcdfc47"
      },
      "outputs": [
        {
          "output_type": "execute_result",
          "data": {
            "text/plain": [
              "array([0.41959833, 0.30405224, 0.14604999, 0.05500161, 0.20951715,\n",
              "       0.27802662, 0.35719058, 0.10413016, 0.16503327, 0.2112006 ,\n",
              "       0.43049166, 0.07513885, 0.98115419, 0.72671298, 0.02471618,\n",
              "       0.71661962, 0.2359964 , 0.30348115, 0.12988003, 0.15597308,\n",
              "       0.38227998, 0.1331922 , 0.95176461, 0.26091369, 0.07273713,\n",
              "       0.40705912, 0.20209178, 0.72531542, 0.08172101, 0.45849929,\n",
              "       0.40717803, 0.32551704, 0.05376148, 0.70135858, 0.12923849,\n",
              "       0.66577673, 0.08926178, 0.1808939 , 0.10293465, 0.62329941,\n",
              "       0.21034335, 0.08630537, 0.0388271 , 0.28131628, 0.07063734,\n",
              "       0.02336229, 0.75627216, 0.81145034, 0.07646649, 0.14229497,\n",
              "       0.00859796, 0.17865342, 0.8345566 , 0.05093114, 0.74527334,\n",
              "       0.10061903, 0.61654377, 0.29828275, 0.56269506, 0.17070969,\n",
              "       0.61625621, 0.01318283, 0.71596152, 0.22045548, 0.37406764,\n",
              "       0.11151108, 0.01522898, 0.35658945, 0.70100727, 0.60282389,\n",
              "       0.8811021 , 0.75329602, 0.58199782, 0.01784831, 0.68146065,\n",
              "       0.2636731 , 0.63180368, 0.29957271, 0.1165374 , 0.66013719,\n",
              "       0.66067314, 0.24031133, 0.4394136 , 0.28980208, 0.26835845,\n",
              "       0.66294841, 0.59281277, 0.31821508, 0.32293324, 0.27563927,\n",
              "       0.12078962, 0.03729731, 0.26010335, 0.10374303, 0.74889717,\n",
              "       0.44837761, 0.28224892, 0.22657431, 0.86333642, 0.12687484,\n",
              "       0.14289336, 0.30278076, 0.68768519, 0.23345349, 0.10885335,\n",
              "       0.08111764, 0.50950211, 0.64464058, 0.20478116, 0.13454132,\n",
              "       0.36873637, 0.04991676, 0.44424953, 0.18233845, 0.02212919,\n",
              "       0.06832818, 0.12112494, 0.39508327, 0.27556838, 0.37949882,\n",
              "       0.21277307, 0.87586052, 0.33010405, 0.31082877, 0.14172777,\n",
              "       0.14908155, 0.2548147 , 0.37541434, 0.62073445, 0.23012758,\n",
              "       0.94920112, 0.04138897, 0.3758833 , 0.35060508, 0.13314583,\n",
              "       0.23750675, 0.10734324, 0.64693455, 0.14073992, 0.25676868,\n",
              "       0.93451662, 0.11309761, 0.17577878, 0.83168648, 0.67744884,\n",
              "       0.45309916, 0.05349823, 0.08075449, 0.16849937, 0.15311977,\n",
              "       0.28505898, 0.95796209, 0.07269636, 0.25637914, 0.71789057,\n",
              "       0.73811499, 0.30719329, 0.33290438, 0.31293859, 0.01565414,\n",
              "       0.71885156, 0.58382403, 0.22449932, 0.03651996, 0.38021427,\n",
              "       0.32932165, 0.29497231, 0.71597553, 0.77834335, 0.62347987,\n",
              "       0.92950364, 0.72975493, 0.21819719, 0.09377129, 0.6748472 ,\n",
              "       0.35071409, 0.8855711 , 0.1496061 , 0.1500477 , 0.18704565,\n",
              "       0.39246943, 0.73686838, 0.07412918, 0.88771709, 0.03589825,\n",
              "       0.07818853, 0.05084913, 0.7407557 , 0.34224162, 0.20349537,\n",
              "       0.23041027, 0.06261557, 0.11581388, 0.12176893, 0.66882772,\n",
              "       0.11612182, 0.37738012, 0.13127209, 0.28839355, 0.7046962 ,\n",
              "       0.92015322, 0.39624661, 0.11417891, 0.09425712, 0.60867737,\n",
              "       0.79592973, 0.05576575, 0.11751512, 0.18306597, 0.78060891,\n",
              "       0.06931931, 0.43969732, 0.19644586, 0.64949793, 0.2091574 ,\n",
              "       0.41528079, 0.25792326, 0.03616916, 0.21465649, 0.40378505,\n",
              "       0.12541254, 0.14304244, 0.04994986, 0.91145483, 0.29865485,\n",
              "       0.27959963, 0.11661276, 0.11171678, 0.05289662, 0.8705094 ,\n",
              "       0.30391888])"
            ]
          },
          "metadata": {},
          "execution_count": 14
        }
      ],
      "source": [
        "ypredprob #probability of a patient for being diabetic i.e for class 1"
      ]
    },
    {
      "cell_type": "code",
      "execution_count": 15,
      "id": "cda6463f",
      "metadata": {
        "id": "cda6463f"
      },
      "outputs": [],
      "source": [
        "\n",
        "from sklearn.preprocessing import binarize"
      ]
    },
    {
      "cell_type": "code",
      "execution_count": 16,
      "id": "16094f9d",
      "metadata": {
        "id": "16094f9d"
      },
      "outputs": [],
      "source": [
        "#ypredprop is a 1 d array and we need to pass it into 2 d, seperate threshold of 0.3 \n",
        "ypred = binarize([ypredprob], threshold=0.3)[0] # since we have passed 2 d array,it is giving us 2D,therefore\n",
        "# passing index 0, to get 1D\n"
      ]
    },
    {
      "cell_type": "code",
      "execution_count": 17,
      "id": "cb36f42a",
      "metadata": {
        "colab": {
          "base_uri": "https://localhost:8080/"
        },
        "id": "cb36f42a",
        "outputId": "53536112-4f3a-4de0-b7cb-ebd138569ab3"
      },
      "outputs": [
        {
          "output_type": "stream",
          "name": "stdout",
          "text": [
            "Actual Values     : [0 0 0 0 0 0 0 0 0 0 0 0 1 1 0 1 1 0 0 0 1 1 1 1 0]\n",
            "Predicted Values  : [1 1 0 0 0 0 1 0 0 0 1 0 1 1 0 1 0 1 0 0 1 0 1 0 0]\n"
          ]
        }
      ],
      "source": [
        "print(f\"Actual Values     : {ytest[:25].values}\")\n",
        "print(f\"Predicted Values  : {ypred[:25].astype(int)}\") # typecasting because currently values are in float."
      ]
    },
    {
      "cell_type": "code",
      "execution_count": 18,
      "id": "c6ca229a",
      "metadata": {
        "colab": {
          "base_uri": "https://localhost:8080/"
        },
        "id": "c6ca229a",
        "outputId": "0c979f89-de4e-4bbe-df02-e69924ac27e8"
      },
      "outputs": [
        {
          "output_type": "stream",
          "name": "stdout",
          "text": [
            "Accuracy : 0.7705627705627706\n",
            "ROC : 0.7767123287671234\n",
            "[[110  36]\n",
            " [ 17  68]]\n",
            "\n",
            "              precision    recall  f1-score   support\n",
            "\n",
            "           0       0.87      0.75      0.81       146\n",
            "           1       0.65      0.80      0.72        85\n",
            "\n",
            "    accuracy                           0.77       231\n",
            "   macro avg       0.76      0.78      0.76       231\n",
            "weighted avg       0.79      0.77      0.77       231\n",
            "\n"
          ]
        }
      ],
      "source": [
        "ac = accuracy_score(ytest, ypred)\n",
        "ra = roc_auc_score(ytest, ypred)\n",
        "cm = confusion_matrix(ytest, ypred)\n",
        "cr = classification_report(ytest, ypred)\n",
        "\n",
        "print(f\"Accuracy : {ac}\\nROC : {ra}\\n{cm}\\n\\n{cr}\")\n",
        "# type2 error decreased from 36 to 17,80% ofthe timeif patient is +ve,model will say it +ve."
      ]
    },
    {
      "cell_type": "code",
      "execution_count": 19,
      "id": "3348d37c",
      "metadata": {
        "colab": {
          "base_uri": "https://localhost:8080/"
        },
        "id": "3348d37c",
        "outputId": "17c62300-09ba-4719-e817-7e90d6f15007"
      },
      "outputs": [
        {
          "output_type": "stream",
          "name": "stdout",
          "text": [
            "Training Accuracy - : 0.7728119180633147\n",
            "Testing Accuracy -: 0.7835497835497836\n"
          ]
        }
      ],
      "source": [
        "train = logreg.score(xtrain, ytrain)\n",
        "test = logreg.score(xtest, ytest)\n",
        "\n",
        "print(f\"Training Accuracy - : {train}\\nTesting Accuracy -: {test}\")"
      ]
    },
    {
      "cell_type": "code",
      "execution_count": 20,
      "id": "fef7b087",
      "metadata": {
        "id": "fef7b087"
      },
      "outputs": [],
      "source": [
        "from sklearn.metrics import roc_curve"
      ]
    },
    {
      "cell_type": "code",
      "execution_count": 21,
      "id": "566c6ec2",
      "metadata": {
        "colab": {
          "base_uri": "https://localhost:8080/",
          "height": 295
        },
        "id": "566c6ec2",
        "outputId": "ccfca5c2-f6ec-4c61-950a-e945c73746d5"
      },
      "outputs": [
        {
          "output_type": "display_data",
          "data": {
            "text/plain": [
              "<Figure size 432x288 with 1 Axes>"
            ],
            "image/png": "[encoded data removed]"
          },
          "metadata": {
            "needs_background": "light"
          }
        }
      ],
      "source": [
        "fpr, tpr, thres = roc_curve(ytest, ypredprob)\n",
        "plt.plot(fpr, tpr)\n",
        "\n",
        "plt.title(\"ROC curve for Diabeties Classifier\")\n",
        "plt.xlabel(\"False Positive Rate (1-Specificity)\")\n",
        "plt.ylabel(\"True Positive Rate (Sensitivity)\")\n",
        "plt.grid()\n",
        "plt.show()           "
      ]
    }
  ],
  "metadata": {
    "kernelspec": {
      "display_name": "Python 3",
      "language": "python",
      "name": "python3"
    },
    "language_info": {
      "codemirror_mode": {
        "name": "ipython",
        "version": 3
      },
      "file_extension": ".py",
      "mimetype": "text/x-python",
      "name": "python",
      "nbconvert_exporter": "python",
      "pygments_lexer": "ipython3",
      "version": "3.8.8"
    },
    "colab": {
      "provenance": [],
      "collapsed_sections": []
    }
  },
  "nbformat": 4,
  "nbformat_minor": 5
}