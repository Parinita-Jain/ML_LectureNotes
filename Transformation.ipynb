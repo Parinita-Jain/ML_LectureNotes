{
 "cells": [
  {
   "cell_type": "code",
   "execution_count": 125,
   "id": "80cd40f0",
   "metadata": {},
   "outputs": [],
   "source": [
    "import pandas as pd\n",
    "import numpy as np\n",
    "import seaborn as sns\n",
    "import matplotlib.pyplot as plt\n",
    "\n",
    "import warnings\n",
    "warnings.filterwarnings(\"ignore\")"
   ]
  },
  {
   "cell_type": "code",
   "execution_count": 126,
   "id": "b669ba93",
   "metadata": {},
   "outputs": [],
   "source": [
    "df=pd.read_csv(\"cars.csv\")"
   ]
  },
  {
   "cell_type": "code",
   "execution_count": 127,
   "id": "ef05290b",
   "metadata": {},
   "outputs": [
    {
     "name": "stdout",
     "output_type": "stream",
     "text": [
      "<class 'pandas.core.frame.DataFrame'>\n",
      "RangeIndex: 205 entries, 0 to 204\n",
      "Data columns (total 15 columns):\n",
      " #   Column             Non-Null Count  Dtype  \n",
      "---  ------             --------------  -----  \n",
      " 0   symboling          205 non-null    int64  \n",
      " 1   normalized-losses  205 non-null    object \n",
      " 2   make               205 non-null    object \n",
      " 3   fuel-type          205 non-null    object \n",
      " 4   body-style         205 non-null    object \n",
      " 5   drive-wheels       205 non-null    object \n",
      " 6   engine-location    205 non-null    object \n",
      " 7   width              205 non-null    float64\n",
      " 8   height             205 non-null    float64\n",
      " 9   engine-type        205 non-null    object \n",
      " 10  engine-size        205 non-null    int64  \n",
      " 11  horsepower         205 non-null    object \n",
      " 12  city-mpg           205 non-null    int64  \n",
      " 13  highway-mpg        205 non-null    int64  \n",
      " 14  price              205 non-null    int64  \n",
      "dtypes: float64(2), int64(5), object(8)\n",
      "memory usage: 24.1+ KB\n"
     ]
    }
   ],
   "source": [
    "df.info()"
   ]
  },
  {
   "cell_type": "code",
   "execution_count": 128,
   "id": "1ae5efe8",
   "metadata": {},
   "outputs": [
    {
     "data": {
      "text/plain": [
       "symboling            0\n",
       "normalized-losses    0\n",
       "make                 0\n",
       "fuel-type            0\n",
       "body-style           0\n",
       "drive-wheels         0\n",
       "engine-location      0\n",
       "width                0\n",
       "height               0\n",
       "engine-type          0\n",
       "engine-size          0\n",
       "horsepower           0\n",
       "city-mpg             0\n",
       "highway-mpg          0\n",
       "price                0\n",
       "dtype: int64"
      ]
     },
     "execution_count": 128,
     "metadata": {},
     "output_type": "execute_result"
    }
   ],
   "source": [
    "df.isnull().sum()"
   ]
  },
  {
   "cell_type": "code",
   "execution_count": 129,
   "id": "82e8b04b",
   "metadata": {},
   "outputs": [],
   "source": [
    "from sklearn.impute import SimpleImputer"
   ]
  },
  {
   "cell_type": "code",
   "execution_count": 130,
   "id": "ddb24c08",
   "metadata": {},
   "outputs": [],
   "source": [
    "df[\"normalized-losses\"].replace(\"?\",np.nan,inplace=True)\n",
    "df[\"horsepower\"].replace(\"?\",np.nan,inplace=True)"
   ]
  },
  {
   "cell_type": "code",
   "execution_count": 131,
   "id": "f56e4d64",
   "metadata": {},
   "outputs": [],
   "source": [
    "df[\"normalized-losses\"]=df[\"normalized-losses\"].astype(\"float64\")\n",
    "df[\"horsepower\"]=df[\"horsepower\"].astype(\"float64\")"
   ]
  },
  {
   "cell_type": "code",
   "execution_count": 132,
   "id": "918db36a",
   "metadata": {},
   "outputs": [],
   "source": [
    "si=SimpleImputer(missing_values=np.nan,strategy=\"mean\")\n",
    "df[[\"normalized-losses\",\"horsepower\"]]=si.fit_transform(df[[\"normalized-losses\",\"horsepower\"]])"
   ]
  },
  {
   "cell_type": "code",
   "execution_count": 133,
   "id": "2861fc38",
   "metadata": {},
   "outputs": [
    {
     "data": {
      "text/html": [
       "<div>\n",
       "<style scoped>\n",
       "    .dataframe tbody tr th:only-of-type {\n",
       "        vertical-align: middle;\n",
       "    }\n",
       "\n",
       "    .dataframe tbody tr th {\n",
       "        vertical-align: top;\n",
       "    }\n",
       "\n",
       "    .dataframe thead th {\n",
       "        text-align: right;\n",
       "    }\n",
       "</style>\n",
       "<table border=\"1\" class=\"dataframe\">\n",
       "  <thead>\n",
       "    <tr style=\"text-align: right;\">\n",
       "      <th></th>\n",
       "      <th>symboling</th>\n",
       "      <th>normalized-losses</th>\n",
       "      <th>make</th>\n",
       "      <th>fuel-type</th>\n",
       "      <th>body-style</th>\n",
       "      <th>drive-wheels</th>\n",
       "      <th>engine-location</th>\n",
       "      <th>width</th>\n",
       "      <th>height</th>\n",
       "      <th>engine-type</th>\n",
       "      <th>engine-size</th>\n",
       "      <th>horsepower</th>\n",
       "      <th>city-mpg</th>\n",
       "      <th>highway-mpg</th>\n",
       "      <th>price</th>\n",
       "    </tr>\n",
       "  </thead>\n",
       "  <tbody>\n",
       "    <tr>\n",
       "      <th>0</th>\n",
       "      <td>3</td>\n",
       "      <td>122.0</td>\n",
       "      <td>alfa-romero</td>\n",
       "      <td>gas</td>\n",
       "      <td>convertible</td>\n",
       "      <td>rwd</td>\n",
       "      <td>front</td>\n",
       "      <td>64.1</td>\n",
       "      <td>48.8</td>\n",
       "      <td>dohc</td>\n",
       "      <td>130</td>\n",
       "      <td>111.0</td>\n",
       "      <td>21</td>\n",
       "      <td>27</td>\n",
       "      <td>13495</td>\n",
       "    </tr>\n",
       "    <tr>\n",
       "      <th>1</th>\n",
       "      <td>3</td>\n",
       "      <td>122.0</td>\n",
       "      <td>alfa-romero</td>\n",
       "      <td>gas</td>\n",
       "      <td>convertible</td>\n",
       "      <td>rwd</td>\n",
       "      <td>front</td>\n",
       "      <td>64.1</td>\n",
       "      <td>48.8</td>\n",
       "      <td>dohc</td>\n",
       "      <td>130</td>\n",
       "      <td>111.0</td>\n",
       "      <td>21</td>\n",
       "      <td>27</td>\n",
       "      <td>16500</td>\n",
       "    </tr>\n",
       "    <tr>\n",
       "      <th>2</th>\n",
       "      <td>1</td>\n",
       "      <td>122.0</td>\n",
       "      <td>alfa-romero</td>\n",
       "      <td>gas</td>\n",
       "      <td>hatchback</td>\n",
       "      <td>rwd</td>\n",
       "      <td>front</td>\n",
       "      <td>65.5</td>\n",
       "      <td>52.4</td>\n",
       "      <td>ohcv</td>\n",
       "      <td>152</td>\n",
       "      <td>154.0</td>\n",
       "      <td>19</td>\n",
       "      <td>26</td>\n",
       "      <td>16500</td>\n",
       "    </tr>\n",
       "    <tr>\n",
       "      <th>3</th>\n",
       "      <td>2</td>\n",
       "      <td>164.0</td>\n",
       "      <td>audi</td>\n",
       "      <td>gas</td>\n",
       "      <td>sedan</td>\n",
       "      <td>fwd</td>\n",
       "      <td>front</td>\n",
       "      <td>66.2</td>\n",
       "      <td>54.3</td>\n",
       "      <td>ohc</td>\n",
       "      <td>109</td>\n",
       "      <td>102.0</td>\n",
       "      <td>24</td>\n",
       "      <td>30</td>\n",
       "      <td>13950</td>\n",
       "    </tr>\n",
       "    <tr>\n",
       "      <th>4</th>\n",
       "      <td>2</td>\n",
       "      <td>164.0</td>\n",
       "      <td>audi</td>\n",
       "      <td>gas</td>\n",
       "      <td>sedan</td>\n",
       "      <td>4wd</td>\n",
       "      <td>front</td>\n",
       "      <td>66.4</td>\n",
       "      <td>54.3</td>\n",
       "      <td>ohc</td>\n",
       "      <td>136</td>\n",
       "      <td>115.0</td>\n",
       "      <td>18</td>\n",
       "      <td>22</td>\n",
       "      <td>17450</td>\n",
       "    </tr>\n",
       "    <tr>\n",
       "      <th>...</th>\n",
       "      <td>...</td>\n",
       "      <td>...</td>\n",
       "      <td>...</td>\n",
       "      <td>...</td>\n",
       "      <td>...</td>\n",
       "      <td>...</td>\n",
       "      <td>...</td>\n",
       "      <td>...</td>\n",
       "      <td>...</td>\n",
       "      <td>...</td>\n",
       "      <td>...</td>\n",
       "      <td>...</td>\n",
       "      <td>...</td>\n",
       "      <td>...</td>\n",
       "      <td>...</td>\n",
       "    </tr>\n",
       "    <tr>\n",
       "      <th>200</th>\n",
       "      <td>-1</td>\n",
       "      <td>95.0</td>\n",
       "      <td>volvo</td>\n",
       "      <td>gas</td>\n",
       "      <td>sedan</td>\n",
       "      <td>rwd</td>\n",
       "      <td>front</td>\n",
       "      <td>68.9</td>\n",
       "      <td>55.5</td>\n",
       "      <td>ohc</td>\n",
       "      <td>141</td>\n",
       "      <td>114.0</td>\n",
       "      <td>23</td>\n",
       "      <td>28</td>\n",
       "      <td>16845</td>\n",
       "    </tr>\n",
       "    <tr>\n",
       "      <th>201</th>\n",
       "      <td>-1</td>\n",
       "      <td>95.0</td>\n",
       "      <td>volvo</td>\n",
       "      <td>gas</td>\n",
       "      <td>sedan</td>\n",
       "      <td>rwd</td>\n",
       "      <td>front</td>\n",
       "      <td>68.8</td>\n",
       "      <td>55.5</td>\n",
       "      <td>ohc</td>\n",
       "      <td>141</td>\n",
       "      <td>160.0</td>\n",
       "      <td>19</td>\n",
       "      <td>25</td>\n",
       "      <td>19045</td>\n",
       "    </tr>\n",
       "    <tr>\n",
       "      <th>202</th>\n",
       "      <td>-1</td>\n",
       "      <td>95.0</td>\n",
       "      <td>volvo</td>\n",
       "      <td>gas</td>\n",
       "      <td>sedan</td>\n",
       "      <td>rwd</td>\n",
       "      <td>front</td>\n",
       "      <td>68.9</td>\n",
       "      <td>55.5</td>\n",
       "      <td>ohcv</td>\n",
       "      <td>173</td>\n",
       "      <td>134.0</td>\n",
       "      <td>18</td>\n",
       "      <td>23</td>\n",
       "      <td>21485</td>\n",
       "    </tr>\n",
       "    <tr>\n",
       "      <th>203</th>\n",
       "      <td>-1</td>\n",
       "      <td>95.0</td>\n",
       "      <td>volvo</td>\n",
       "      <td>diesel</td>\n",
       "      <td>sedan</td>\n",
       "      <td>rwd</td>\n",
       "      <td>front</td>\n",
       "      <td>68.9</td>\n",
       "      <td>55.5</td>\n",
       "      <td>ohc</td>\n",
       "      <td>145</td>\n",
       "      <td>106.0</td>\n",
       "      <td>26</td>\n",
       "      <td>27</td>\n",
       "      <td>22470</td>\n",
       "    </tr>\n",
       "    <tr>\n",
       "      <th>204</th>\n",
       "      <td>-1</td>\n",
       "      <td>95.0</td>\n",
       "      <td>volvo</td>\n",
       "      <td>gas</td>\n",
       "      <td>sedan</td>\n",
       "      <td>rwd</td>\n",
       "      <td>front</td>\n",
       "      <td>68.9</td>\n",
       "      <td>55.5</td>\n",
       "      <td>ohc</td>\n",
       "      <td>141</td>\n",
       "      <td>114.0</td>\n",
       "      <td>19</td>\n",
       "      <td>25</td>\n",
       "      <td>22625</td>\n",
       "    </tr>\n",
       "  </tbody>\n",
       "</table>\n",
       "<p>205 rows × 15 columns</p>\n",
       "</div>"
      ],
      "text/plain": [
       "     symboling  normalized-losses         make fuel-type   body-style  \\\n",
       "0            3              122.0  alfa-romero       gas  convertible   \n",
       "1            3              122.0  alfa-romero       gas  convertible   \n",
       "2            1              122.0  alfa-romero       gas    hatchback   \n",
       "3            2              164.0         audi       gas        sedan   \n",
       "4            2              164.0         audi       gas        sedan   \n",
       "..         ...                ...          ...       ...          ...   \n",
       "200         -1               95.0        volvo       gas        sedan   \n",
       "201         -1               95.0        volvo       gas        sedan   \n",
       "202         -1               95.0        volvo       gas        sedan   \n",
       "203         -1               95.0        volvo    diesel        sedan   \n",
       "204         -1               95.0        volvo       gas        sedan   \n",
       "\n",
       "    drive-wheels engine-location  width  height engine-type  engine-size  \\\n",
       "0            rwd           front   64.1    48.8        dohc          130   \n",
       "1            rwd           front   64.1    48.8        dohc          130   \n",
       "2            rwd           front   65.5    52.4        ohcv          152   \n",
       "3            fwd           front   66.2    54.3         ohc          109   \n",
       "4            4wd           front   66.4    54.3         ohc          136   \n",
       "..           ...             ...    ...     ...         ...          ...   \n",
       "200          rwd           front   68.9    55.5         ohc          141   \n",
       "201          rwd           front   68.8    55.5         ohc          141   \n",
       "202          rwd           front   68.9    55.5        ohcv          173   \n",
       "203          rwd           front   68.9    55.5         ohc          145   \n",
       "204          rwd           front   68.9    55.5         ohc          141   \n",
       "\n",
       "     horsepower  city-mpg  highway-mpg  price  \n",
       "0         111.0        21           27  13495  \n",
       "1         111.0        21           27  16500  \n",
       "2         154.0        19           26  16500  \n",
       "3         102.0        24           30  13950  \n",
       "4         115.0        18           22  17450  \n",
       "..          ...       ...          ...    ...  \n",
       "200       114.0        23           28  16845  \n",
       "201       160.0        19           25  19045  \n",
       "202       134.0        18           23  21485  \n",
       "203       106.0        26           27  22470  \n",
       "204       114.0        19           25  22625  \n",
       "\n",
       "[205 rows x 15 columns]"
      ]
     },
     "execution_count": 133,
     "metadata": {},
     "output_type": "execute_result"
    }
   ],
   "source": [
    "df"
   ]
  },
  {
   "cell_type": "code",
   "execution_count": 134,
   "id": "f0bb9d26",
   "metadata": {},
   "outputs": [],
   "source": [
    "features=df.iloc[:,:-1]\n",
    "target=df.iloc[:,-1]"
   ]
  },
  {
   "cell_type": "code",
   "execution_count": 135,
   "id": "81ee84d3",
   "metadata": {},
   "outputs": [
    {
     "data": {
      "text/html": [
       "<div>\n",
       "<style scoped>\n",
       "    .dataframe tbody tr th:only-of-type {\n",
       "        vertical-align: middle;\n",
       "    }\n",
       "\n",
       "    .dataframe tbody tr th {\n",
       "        vertical-align: top;\n",
       "    }\n",
       "\n",
       "    .dataframe thead th {\n",
       "        text-align: right;\n",
       "    }\n",
       "</style>\n",
       "<table border=\"1\" class=\"dataframe\">\n",
       "  <thead>\n",
       "    <tr style=\"text-align: right;\">\n",
       "      <th></th>\n",
       "      <th>symboling</th>\n",
       "      <th>normalized-losses</th>\n",
       "      <th>make</th>\n",
       "      <th>fuel-type</th>\n",
       "      <th>body-style</th>\n",
       "      <th>drive-wheels</th>\n",
       "      <th>engine-location</th>\n",
       "      <th>width</th>\n",
       "      <th>height</th>\n",
       "      <th>engine-type</th>\n",
       "      <th>engine-size</th>\n",
       "      <th>horsepower</th>\n",
       "      <th>city-mpg</th>\n",
       "      <th>highway-mpg</th>\n",
       "    </tr>\n",
       "  </thead>\n",
       "  <tbody>\n",
       "    <tr>\n",
       "      <th>0</th>\n",
       "      <td>3</td>\n",
       "      <td>122.0</td>\n",
       "      <td>alfa-romero</td>\n",
       "      <td>gas</td>\n",
       "      <td>convertible</td>\n",
       "      <td>rwd</td>\n",
       "      <td>front</td>\n",
       "      <td>64.1</td>\n",
       "      <td>48.8</td>\n",
       "      <td>dohc</td>\n",
       "      <td>130</td>\n",
       "      <td>111.0</td>\n",
       "      <td>21</td>\n",
       "      <td>27</td>\n",
       "    </tr>\n",
       "    <tr>\n",
       "      <th>1</th>\n",
       "      <td>3</td>\n",
       "      <td>122.0</td>\n",
       "      <td>alfa-romero</td>\n",
       "      <td>gas</td>\n",
       "      <td>convertible</td>\n",
       "      <td>rwd</td>\n",
       "      <td>front</td>\n",
       "      <td>64.1</td>\n",
       "      <td>48.8</td>\n",
       "      <td>dohc</td>\n",
       "      <td>130</td>\n",
       "      <td>111.0</td>\n",
       "      <td>21</td>\n",
       "      <td>27</td>\n",
       "    </tr>\n",
       "    <tr>\n",
       "      <th>2</th>\n",
       "      <td>1</td>\n",
       "      <td>122.0</td>\n",
       "      <td>alfa-romero</td>\n",
       "      <td>gas</td>\n",
       "      <td>hatchback</td>\n",
       "      <td>rwd</td>\n",
       "      <td>front</td>\n",
       "      <td>65.5</td>\n",
       "      <td>52.4</td>\n",
       "      <td>ohcv</td>\n",
       "      <td>152</td>\n",
       "      <td>154.0</td>\n",
       "      <td>19</td>\n",
       "      <td>26</td>\n",
       "    </tr>\n",
       "    <tr>\n",
       "      <th>3</th>\n",
       "      <td>2</td>\n",
       "      <td>164.0</td>\n",
       "      <td>audi</td>\n",
       "      <td>gas</td>\n",
       "      <td>sedan</td>\n",
       "      <td>fwd</td>\n",
       "      <td>front</td>\n",
       "      <td>66.2</td>\n",
       "      <td>54.3</td>\n",
       "      <td>ohc</td>\n",
       "      <td>109</td>\n",
       "      <td>102.0</td>\n",
       "      <td>24</td>\n",
       "      <td>30</td>\n",
       "    </tr>\n",
       "    <tr>\n",
       "      <th>4</th>\n",
       "      <td>2</td>\n",
       "      <td>164.0</td>\n",
       "      <td>audi</td>\n",
       "      <td>gas</td>\n",
       "      <td>sedan</td>\n",
       "      <td>4wd</td>\n",
       "      <td>front</td>\n",
       "      <td>66.4</td>\n",
       "      <td>54.3</td>\n",
       "      <td>ohc</td>\n",
       "      <td>136</td>\n",
       "      <td>115.0</td>\n",
       "      <td>18</td>\n",
       "      <td>22</td>\n",
       "    </tr>\n",
       "    <tr>\n",
       "      <th>...</th>\n",
       "      <td>...</td>\n",
       "      <td>...</td>\n",
       "      <td>...</td>\n",
       "      <td>...</td>\n",
       "      <td>...</td>\n",
       "      <td>...</td>\n",
       "      <td>...</td>\n",
       "      <td>...</td>\n",
       "      <td>...</td>\n",
       "      <td>...</td>\n",
       "      <td>...</td>\n",
       "      <td>...</td>\n",
       "      <td>...</td>\n",
       "      <td>...</td>\n",
       "    </tr>\n",
       "    <tr>\n",
       "      <th>200</th>\n",
       "      <td>-1</td>\n",
       "      <td>95.0</td>\n",
       "      <td>volvo</td>\n",
       "      <td>gas</td>\n",
       "      <td>sedan</td>\n",
       "      <td>rwd</td>\n",
       "      <td>front</td>\n",
       "      <td>68.9</td>\n",
       "      <td>55.5</td>\n",
       "      <td>ohc</td>\n",
       "      <td>141</td>\n",
       "      <td>114.0</td>\n",
       "      <td>23</td>\n",
       "      <td>28</td>\n",
       "    </tr>\n",
       "    <tr>\n",
       "      <th>201</th>\n",
       "      <td>-1</td>\n",
       "      <td>95.0</td>\n",
       "      <td>volvo</td>\n",
       "      <td>gas</td>\n",
       "      <td>sedan</td>\n",
       "      <td>rwd</td>\n",
       "      <td>front</td>\n",
       "      <td>68.8</td>\n",
       "      <td>55.5</td>\n",
       "      <td>ohc</td>\n",
       "      <td>141</td>\n",
       "      <td>160.0</td>\n",
       "      <td>19</td>\n",
       "      <td>25</td>\n",
       "    </tr>\n",
       "    <tr>\n",
       "      <th>202</th>\n",
       "      <td>-1</td>\n",
       "      <td>95.0</td>\n",
       "      <td>volvo</td>\n",
       "      <td>gas</td>\n",
       "      <td>sedan</td>\n",
       "      <td>rwd</td>\n",
       "      <td>front</td>\n",
       "      <td>68.9</td>\n",
       "      <td>55.5</td>\n",
       "      <td>ohcv</td>\n",
       "      <td>173</td>\n",
       "      <td>134.0</td>\n",
       "      <td>18</td>\n",
       "      <td>23</td>\n",
       "    </tr>\n",
       "    <tr>\n",
       "      <th>203</th>\n",
       "      <td>-1</td>\n",
       "      <td>95.0</td>\n",
       "      <td>volvo</td>\n",
       "      <td>diesel</td>\n",
       "      <td>sedan</td>\n",
       "      <td>rwd</td>\n",
       "      <td>front</td>\n",
       "      <td>68.9</td>\n",
       "      <td>55.5</td>\n",
       "      <td>ohc</td>\n",
       "      <td>145</td>\n",
       "      <td>106.0</td>\n",
       "      <td>26</td>\n",
       "      <td>27</td>\n",
       "    </tr>\n",
       "    <tr>\n",
       "      <th>204</th>\n",
       "      <td>-1</td>\n",
       "      <td>95.0</td>\n",
       "      <td>volvo</td>\n",
       "      <td>gas</td>\n",
       "      <td>sedan</td>\n",
       "      <td>rwd</td>\n",
       "      <td>front</td>\n",
       "      <td>68.9</td>\n",
       "      <td>55.5</td>\n",
       "      <td>ohc</td>\n",
       "      <td>141</td>\n",
       "      <td>114.0</td>\n",
       "      <td>19</td>\n",
       "      <td>25</td>\n",
       "    </tr>\n",
       "  </tbody>\n",
       "</table>\n",
       "<p>205 rows × 14 columns</p>\n",
       "</div>"
      ],
      "text/plain": [
       "     symboling  normalized-losses         make fuel-type   body-style  \\\n",
       "0            3              122.0  alfa-romero       gas  convertible   \n",
       "1            3              122.0  alfa-romero       gas  convertible   \n",
       "2            1              122.0  alfa-romero       gas    hatchback   \n",
       "3            2              164.0         audi       gas        sedan   \n",
       "4            2              164.0         audi       gas        sedan   \n",
       "..         ...                ...          ...       ...          ...   \n",
       "200         -1               95.0        volvo       gas        sedan   \n",
       "201         -1               95.0        volvo       gas        sedan   \n",
       "202         -1               95.0        volvo       gas        sedan   \n",
       "203         -1               95.0        volvo    diesel        sedan   \n",
       "204         -1               95.0        volvo       gas        sedan   \n",
       "\n",
       "    drive-wheels engine-location  width  height engine-type  engine-size  \\\n",
       "0            rwd           front   64.1    48.8        dohc          130   \n",
       "1            rwd           front   64.1    48.8        dohc          130   \n",
       "2            rwd           front   65.5    52.4        ohcv          152   \n",
       "3            fwd           front   66.2    54.3         ohc          109   \n",
       "4            4wd           front   66.4    54.3         ohc          136   \n",
       "..           ...             ...    ...     ...         ...          ...   \n",
       "200          rwd           front   68.9    55.5         ohc          141   \n",
       "201          rwd           front   68.8    55.5         ohc          141   \n",
       "202          rwd           front   68.9    55.5        ohcv          173   \n",
       "203          rwd           front   68.9    55.5         ohc          145   \n",
       "204          rwd           front   68.9    55.5         ohc          141   \n",
       "\n",
       "     horsepower  city-mpg  highway-mpg  \n",
       "0         111.0        21           27  \n",
       "1         111.0        21           27  \n",
       "2         154.0        19           26  \n",
       "3         102.0        24           30  \n",
       "4         115.0        18           22  \n",
       "..          ...       ...          ...  \n",
       "200       114.0        23           28  \n",
       "201       160.0        19           25  \n",
       "202       134.0        18           23  \n",
       "203       106.0        26           27  \n",
       "204       114.0        19           25  \n",
       "\n",
       "[205 rows x 14 columns]"
      ]
     },
     "execution_count": 135,
     "metadata": {},
     "output_type": "execute_result"
    }
   ],
   "source": [
    "features"
   ]
  },
  {
   "cell_type": "code",
   "execution_count": 136,
   "id": "e9816a4f",
   "metadata": {},
   "outputs": [
    {
     "data": {
      "text/plain": [
       "<seaborn.axisgrid.FacetGrid at 0x24c9d5a87f0>"
      ]
     },
     "execution_count": 136,
     "metadata": {},
     "output_type": "execute_result"
    },
    {
     "data": {
      "image/png": "[encoded data removed]",
      "text/plain": [
       "<Figure size 360x360 with 1 Axes>"
      ]
     },
     "metadata": {
      "needs_background": "light"
     },
     "output_type": "display_data"
    }
   ],
   "source": [
    "sns.displot(data=target)"
   ]
  },
  {
   "cell_type": "code",
   "execution_count": 137,
   "id": "4d2de49c",
   "metadata": {},
   "outputs": [
    {
     "data": {
      "text/plain": [
       "<AxesSubplot:xlabel='price'>"
      ]
     },
     "execution_count": 137,
     "metadata": {},
     "output_type": "execute_result"
    },
    {
     "data": {
      "image/png": "[encoded data removed]",
      "text/plain": [
       "<Figure size 432x288 with 1 Axes>"
      ]
     },
     "metadata": {
      "needs_background": "light"
     },
     "output_type": "display_data"
    }
   ],
   "source": [
    "sns.boxplot(data=df,x=target)"
   ]
  },
  {
   "cell_type": "code",
   "execution_count": 138,
   "id": "b51f4dec",
   "metadata": {},
   "outputs": [
    {
     "name": "stdout",
     "output_type": "stream",
     "text": [
      "Requirement already satisfied: plotly in c:\\programdata\\anaconda3\\lib\\site-packages (5.13.1)\n",
      "Requirement already satisfied: tenacity>=6.2.0 in c:\\programdata\\anaconda3\\lib\\site-packages (from plotly) (8.2.2)\n"
     ]
    }
   ],
   "source": [
    "!pip install plotly"
   ]
  },
  {
   "cell_type": "code",
   "execution_count": 139,
   "id": "70a172e4",
   "metadata": {},
   "outputs": [
    {
     "data": {
      "application/vnd.plotly.v1+json": {
       "config": {
        "plotlyServerURL": "https://plot.ly"
       },
       "data": [
        {
         "alignmentgroup": "True",
         "hovertemplate": "variable=%{x}<br>value=%{y}<extra></extra>",
         "legendgroup": "",
         "marker": {
          "color": "#636efa"
         },
         "name": "",
         "notched": false,
         "offsetgroup": "",
         "orientation": "v",
         "showlegend": false,
         "type": "box",
         "x": [
          "price",
          "price",
          "price",
          "price",
          "price",
          "price",
          "price",
          "price",
          "price",
          "price",
          "price",
          "price",
          "price",
          "price",
          "price",
          "price",
          "price",
          "price",
          "price",
          "price",
          "price",
          "price",
          "price",
          "price",
          "price",
          "price",
          "price",
          "price",
          "price",
          "price",
          "price",
          "price",
          "price",
          "price",
          "price",
          "price",
          "price",
          "price",
          "price",
          "price",
          "price",
          "price",
          "price",
          "price",
          "price",
          "price",
          "price",
          "price",
          "price",
          "price",
          "price",
          "price",
          "price",
          "price",
          "price",
          "price",
          "price",
          "price",
          "price",
          "price",
          "price",
          "price",
          "price",
          "price",
          "price",
          "price",
          "price",
          "price",
          "price",
          "price",
          "price",
          "price",
          "price",
          "price",
          "price",
          "price",
          "price",
          "price",
          "price",
          "price",
          "price",
          "price",
          "price",
          "price",
          "price",
          "price",
          "price",
          "price",
          "price",
          "price",
          "price",
          "price",
          "price",
          "price",
          "price",
          "price",
          "price",
          "price",
          "price",
          "price",
          "price",
          "price",
          "price",
          "price",
          "price",
          "price",
          "price",
          "price",
          "price",
          "price",
          "price",
          "price",
          "price",
          "price",
          "price",
          "price",
          "price",
          "price",
          "price",
          "price",
          "price",
          "price",
          "price",
          "price",
          "price",
          "price",
          "price",
          "price",
          "price",
          "price",
          "price",
          "price",
          "price",
          "price",
          "price",
          "price",
          "price",
          "price",
          "price",
          "price",
          "price",
          "price",
          "price",
          "price",
          "price",
          "price",
          "price",
          "price",
          "price",
          "price",
          "price",
          "price",
          "price",
          "price",
          "price",
          "price",
          "price",
          "price",
          "price",
          "price",
          "price",
          "price",
          "price",
          "price",
          "price",
          "price",
          "price",
          "price",
          "price",
          "price",
          "price",
          "price",
          "price",
          "price",
          "price",
          "price",
          "price",
          "price",
          "price",
          "price",
          "price",
          "price",
          "price",
          "price",
          "price",
          "price",
          "price",
          "price",
          "price",
          "price",
          "price",
          "price",
          "price",
          "price",
          "price",
          "price",
          "price",
          "price",
          "price",
          "price",
          "price",
          "price",
          "price",
          "price",
          "price"
         ],
         "x0": " ",
         "xaxis": "x",
         "y": [
          13495,
          16500,
          16500,
          13950,
          17450,
          15250,
          17710,
          18920,
          23875,
          12000,
          16430,
          16925,
          20970,
          21105,
          24565,
          30760,
          41315,
          36880,
          5151,
          6295,
          6575,
          5572,
          6377,
          7957,
          6229,
          6692,
          7609,
          8558,
          8921,
          12964,
          6479,
          6855,
          5399,
          6529,
          7129,
          7295,
          7295,
          7895,
          9095,
          8845,
          10295,
          12945,
          10345,
          6785,
          10000,
          23000,
          11048,
          32250,
          35550,
          36000,
          5195,
          6095,
          6795,
          6695,
          7395,
          10945,
          11845,
          13645,
          15645,
          8845,
          8495,
          10595,
          10245,
          10795,
          11245,
          18280,
          18344,
          25552,
          28248,
          28176,
          31600,
          34184,
          35056,
          40960,
          45400,
          16503,
          5389,
          6189,
          6669,
          7689,
          9959,
          8499,
          12629,
          14869,
          14489,
          6989,
          8189,
          9279,
          9279,
          5499,
          7099,
          6649,
          6849,
          7349,
          7299,
          7799,
          7499,
          7999,
          8249,
          8949,
          9549,
          13499,
          14399,
          13499,
          17199,
          19699,
          18399,
          11900,
          13200,
          12440,
          13860,
          15580,
          16900,
          16695,
          17075,
          16630,
          17950,
          18150,
          5572,
          7957,
          6229,
          6692,
          7609,
          8921,
          12764,
          22018,
          32528,
          34028,
          37028,
          12000,
          9295,
          9895,
          11850,
          12170,
          15040,
          15510,
          18150,
          18620,
          5118,
          7053,
          7603,
          7126,
          7775,
          9960,
          9233,
          11259,
          7463,
          10198,
          8013,
          11694,
          5348,
          6338,
          6488,
          6918,
          7898,
          8778,
          6938,
          7198,
          7898,
          7788,
          7738,
          8358,
          9258,
          8058,
          8238,
          9298,
          9538,
          8449,
          9639,
          9989,
          11199,
          11549,
          17669,
          8948,
          10698,
          9988,
          10898,
          11248,
          16558,
          15998,
          15690,
          15750,
          7775,
          7975,
          7995,
          8195,
          8495,
          9495,
          9995,
          11595,
          9980,
          13295,
          13845,
          12290,
          12940,
          13415,
          15985,
          16515,
          18420,
          18950,
          16845,
          19045,
          21485,
          22470,
          22625
         ],
         "y0": " ",
         "yaxis": "y"
        }
       ],
       "layout": {
        "boxmode": "group",
        "legend": {
         "tracegroupgap": 0
        },
        "margin": {
         "t": 60
        },
        "template": {
         "data": {
          "bar": [
           {
            "error_x": {
             "color": "#2a3f5f"
            },
            "error_y": {
             "color": "#2a3f5f"
            },
            "marker": {
             "line": {
              "color": "#E5ECF6",
              "width": 0.5
             },
             "pattern": {
              "fillmode": "overlay",
              "size": 10,
              "solidity": 0.2
             }
            },
            "type": "bar"
           }
          ],
          "barpolar": [
           {
            "marker": {
             "line": {
              "color": "#E5ECF6",
              "width": 0.5
             },
             "pattern": {
              "fillmode": "overlay",
              "size": 10,
              "solidity": 0.2
             }
            },
            "type": "barpolar"
           }
          ],
          "carpet": [
           {
            "aaxis": {
             "endlinecolor": "#2a3f5f",
             "gridcolor": "white",
             "linecolor": "white",
             "minorgridcolor": "white",
             "startlinecolor": "#2a3f5f"
            },
            "baxis": {
             "endlinecolor": "#2a3f5f",
             "gridcolor": "white",
             "linecolor": "white",
             "minorgridcolor": "white",
             "startlinecolor": "#2a3f5f"
            },
            "type": "carpet"
           }
          ],
          "choropleth": [
           {
            "colorbar": {
             "outlinewidth": 0,
             "ticks": ""
            },
            "type": "choropleth"
           }
          ],
          "contour": [
           {
            "colorbar": {
             "outlinewidth": 0,
             "ticks": ""
            },
            "colorscale": [
             [
              0,
              "#0d0887"
             ],
             [
              0.1111111111111111,
              "#46039f"
             ],
             [
              0.2222222222222222,
              "#7201a8"
             ],
             [
              0.3333333333333333,
              "#9c179e"
             ],
             [
              0.4444444444444444,
              "#bd3786"
             ],
             [
              0.5555555555555556,
              "#d8576b"
             ],
             [
              0.6666666666666666,
              "#ed7953"
             ],
             [
              0.7777777777777778,
              "#fb9f3a"
             ],
             [
              0.8888888888888888,
              "#fdca26"
             ],
             [
              1,
              "#f0f921"
             ]
            ],
            "type": "contour"
           }
          ],
          "contourcarpet": [
           {
            "colorbar": {
             "outlinewidth": 0,
             "ticks": ""
            },
            "type": "contourcarpet"
           }
          ],
          "heatmap": [
           {
            "colorbar": {
             "outlinewidth": 0,
             "ticks": ""
            },
            "colorscale": [
             [
              0,
              "#0d0887"
             ],
             [
              0.1111111111111111,
              "#46039f"
             ],
             [
              0.2222222222222222,
              "#7201a8"
             ],
             [
              0.3333333333333333,
              "#9c179e"
             ],
             [
              0.4444444444444444,
              "#bd3786"
             ],
             [
              0.5555555555555556,
              "#d8576b"
             ],
             [
              0.6666666666666666,
              "#ed7953"
             ],
             [
              0.7777777777777778,
              "#fb9f3a"
             ],
             [
              0.8888888888888888,
              "#fdca26"
             ],
             [
              1,
              "#f0f921"
             ]
            ],
            "type": "heatmap"
           }
          ],
          "heatmapgl": [
           {
            "colorbar": {
             "outlinewidth": 0,
             "ticks": ""
            },
            "colorscale": [
             [
              0,
              "#0d0887"
             ],
             [
              0.1111111111111111,
              "#46039f"
             ],
             [
              0.2222222222222222,
              "#7201a8"
             ],
             [
              0.3333333333333333,
              "#9c179e"
             ],
             [
              0.4444444444444444,
              "#bd3786"
             ],
             [
              0.5555555555555556,
              "#d8576b"
             ],
             [
              0.6666666666666666,
              "#ed7953"
             ],
             [
              0.7777777777777778,
              "#fb9f3a"
             ],
             [
              0.8888888888888888,
              "#fdca26"
             ],
             [
              1,
              "#f0f921"
             ]
            ],
            "type": "heatmapgl"
           }
          ],
          "histogram": [
           {
            "marker": {
             "pattern": {
              "fillmode": "overlay",
              "size": 10,
              "solidity": 0.2
             }
            },
            "type": "histogram"
           }
          ],
          "histogram2d": [
           {
            "colorbar": {
             "outlinewidth": 0,
             "ticks": ""
            },
            "colorscale": [
             [
              0,
              "#0d0887"
             ],
             [
              0.1111111111111111,
              "#46039f"
             ],
             [
              0.2222222222222222,
              "#7201a8"
             ],
             [
              0.3333333333333333,
              "#9c179e"
             ],
             [
              0.4444444444444444,
              "#bd3786"
             ],
             [
              0.5555555555555556,
              "#d8576b"
             ],
             [
              0.6666666666666666,
              "#ed7953"
             ],
             [
              0.7777777777777778,
              "#fb9f3a"
             ],
             [
              0.8888888888888888,
              "#fdca26"
             ],
             [
              1,
              "#f0f921"
             ]
            ],
            "type": "histogram2d"
           }
          ],
          "histogram2dcontour": [
           {
            "colorbar": {
             "outlinewidth": 0,
             "ticks": ""
            },
            "colorscale": [
             [
              0,
              "#0d0887"
             ],
             [
              0.1111111111111111,
              "#46039f"
             ],
             [
              0.2222222222222222,
              "#7201a8"
             ],
             [
              0.3333333333333333,
              "#9c179e"
             ],
             [
              0.4444444444444444,
              "#bd3786"
             ],
             [
              0.5555555555555556,
              "#d8576b"
             ],
             [
              0.6666666666666666,
              "#ed7953"
             ],
             [
              0.7777777777777778,
              "#fb9f3a"
             ],
             [
              0.8888888888888888,
              "#fdca26"
             ],
             [
              1,
              "#f0f921"
             ]
            ],
            "type": "histogram2dcontour"
           }
          ],
          "mesh3d": [
           {
            "colorbar": {
             "outlinewidth": 0,
             "ticks": ""
            },
            "type": "mesh3d"
           }
          ],
          "parcoords": [
           {
            "line": {
             "colorbar": {
              "outlinewidth": 0,
              "ticks": ""
             }
            },
            "type": "parcoords"
           }
          ],
          "pie": [
           {
            "automargin": true,
            "type": "pie"
           }
          ],
          "scatter": [
           {
            "fillpattern": {
             "fillmode": "overlay",
             "size": 10,
             "solidity": 0.2
            },
            "type": "scatter"
           }
          ],
          "scatter3d": [
           {
            "line": {
             "colorbar": {
              "outlinewidth": 0,
              "ticks": ""
             }
            },
            "marker": {
             "colorbar": {
              "outlinewidth": 0,
              "ticks": ""
             }
            },
            "type": "scatter3d"
           }
          ],
          "scattercarpet": [
           {
            "marker": {
             "colorbar": {
              "outlinewidth": 0,
              "ticks": ""
             }
            },
            "type": "scattercarpet"
           }
          ],
          "scattergeo": [
           {
            "marker": {
             "colorbar": {
              "outlinewidth": 0,
              "ticks": ""
             }
            },
            "type": "scattergeo"
           }
          ],
          "scattergl": [
           {
            "marker": {
             "colorbar": {
              "outlinewidth": 0,
              "ticks": ""
             }
            },
            "type": "scattergl"
           }
          ],
          "scattermapbox": [
           {
            "marker": {
             "colorbar": {
              "outlinewidth": 0,
              "ticks": ""
             }
            },
            "type": "scattermapbox"
           }
          ],
          "scatterpolar": [
           {
            "marker": {
             "colorbar": {
              "outlinewidth": 0,
              "ticks": ""
             }
            },
            "type": "scatterpolar"
           }
          ],
          "scatterpolargl": [
           {
            "marker": {
             "colorbar": {
              "outlinewidth": 0,
              "ticks": ""
             }
            },
            "type": "scatterpolargl"
           }
          ],
          "scatterternary": [
           {
            "marker": {
             "colorbar": {
              "outlinewidth": 0,
              "ticks": ""
             }
            },
            "type": "scatterternary"
           }
          ],
          "surface": [
           {
            "colorbar": {
             "outlinewidth": 0,
             "ticks": ""
            },
            "colorscale": [
             [
              0,
              "#0d0887"
             ],
             [
              0.1111111111111111,
              "#46039f"
             ],
             [
              0.2222222222222222,
              "#7201a8"
             ],
             [
              0.3333333333333333,
              "#9c179e"
             ],
             [
              0.4444444444444444,
              "#bd3786"
             ],
             [
              0.5555555555555556,
              "#d8576b"
             ],
             [
              0.6666666666666666,
              "#ed7953"
             ],
             [
              0.7777777777777778,
              "#fb9f3a"
             ],
             [
              0.8888888888888888,
              "#fdca26"
             ],
             [
              1,
              "#f0f921"
             ]
            ],
            "type": "surface"
           }
          ],
          "table": [
           {
            "cells": {
             "fill": {
              "color": "#EBF0F8"
             },
             "line": {
              "color": "white"
             }
            },
            "header": {
             "fill": {
              "color": "#C8D4E3"
             },
             "line": {
              "color": "white"
             }
            },
            "type": "table"
           }
          ]
         },
         "layout": {
          "annotationdefaults": {
           "arrowcolor": "#2a3f5f",
           "arrowhead": 0,
           "arrowwidth": 1
          },
          "autotypenumbers": "strict",
          "coloraxis": {
           "colorbar": {
            "outlinewidth": 0,
            "ticks": ""
           }
          },
          "colorscale": {
           "diverging": [
            [
             0,
             "#8e0152"
            ],
            [
             0.1,
             "#c51b7d"
            ],
            [
             0.2,
             "#de77ae"
            ],
            [
             0.3,
             "#f1b6da"
            ],
            [
             0.4,
             "#fde0ef"
            ],
            [
             0.5,
             "#f7f7f7"
            ],
            [
             0.6,
             "#e6f5d0"
            ],
            [
             0.7,
             "#b8e186"
            ],
            [
             0.8,
             "#7fbc41"
            ],
            [
             0.9,
             "#4d9221"
            ],
            [
             1,
             "#276419"
            ]
           ],
           "sequential": [
            [
             0,
             "#0d0887"
            ],
            [
             0.1111111111111111,
             "#46039f"
            ],
            [
             0.2222222222222222,
             "#7201a8"
            ],
            [
             0.3333333333333333,
             "#9c179e"
            ],
            [
             0.4444444444444444,
             "#bd3786"
            ],
            [
             0.5555555555555556,
             "#d8576b"
            ],
            [
             0.6666666666666666,
             "#ed7953"
            ],
            [
             0.7777777777777778,
             "#fb9f3a"
            ],
            [
             0.8888888888888888,
             "#fdca26"
            ],
            [
             1,
             "#f0f921"
            ]
           ],
           "sequentialminus": [
            [
             0,
             "#0d0887"
            ],
            [
             0.1111111111111111,
             "#46039f"
            ],
            [
             0.2222222222222222,
             "#7201a8"
            ],
            [
             0.3333333333333333,
             "#9c179e"
            ],
            [
             0.4444444444444444,
             "#bd3786"
            ],
            [
             0.5555555555555556,
             "#d8576b"
            ],
            [
             0.6666666666666666,
             "#ed7953"
            ],
            [
             0.7777777777777778,
             "#fb9f3a"
            ],
            [
             0.8888888888888888,
             "#fdca26"
            ],
            [
             1,
             "#f0f921"
            ]
           ]
          },
          "colorway": [
           "#636efa",
           "#EF553B",
           "#00cc96",
           "#ab63fa",
           "#FFA15A",
           "#19d3f3",
           "#FF6692",
           "#B6E880",
           "#FF97FF",
           "#FECB52"
          ],
          "font": {
           "color": "#2a3f5f"
          },
          "geo": {
           "bgcolor": "white",
           "lakecolor": "white",
           "landcolor": "#E5ECF6",
           "showlakes": true,
           "showland": true,
           "subunitcolor": "white"
          },
          "hoverlabel": {
           "align": "left"
          },
          "hovermode": "closest",
          "mapbox": {
           "style": "light"
          },
          "paper_bgcolor": "white",
          "plot_bgcolor": "#E5ECF6",
          "polar": {
           "angularaxis": {
            "gridcolor": "white",
            "linecolor": "white",
            "ticks": ""
           },
           "bgcolor": "#E5ECF6",
           "radialaxis": {
            "gridcolor": "white",
            "linecolor": "white",
            "ticks": ""
           }
          },
          "scene": {
           "xaxis": {
            "backgroundcolor": "#E5ECF6",
            "gridcolor": "white",
            "gridwidth": 2,
            "linecolor": "white",
            "showbackground": true,
            "ticks": "",
            "zerolinecolor": "white"
           },
           "yaxis": {
            "backgroundcolor": "#E5ECF6",
            "gridcolor": "white",
            "gridwidth": 2,
            "linecolor": "white",
            "showbackground": true,
            "ticks": "",
            "zerolinecolor": "white"
           },
           "zaxis": {
            "backgroundcolor": "#E5ECF6",
            "gridcolor": "white",
            "gridwidth": 2,
            "linecolor": "white",
            "showbackground": true,
            "ticks": "",
            "zerolinecolor": "white"
           }
          },
          "shapedefaults": {
           "line": {
            "color": "#2a3f5f"
           }
          },
          "ternary": {
           "aaxis": {
            "gridcolor": "white",
            "linecolor": "white",
            "ticks": ""
           },
           "baxis": {
            "gridcolor": "white",
            "linecolor": "white",
            "ticks": ""
           },
           "bgcolor": "#E5ECF6",
           "caxis": {
            "gridcolor": "white",
            "linecolor": "white",
            "ticks": ""
           }
          },
          "title": {
           "x": 0.05
          },
          "xaxis": {
           "automargin": true,
           "gridcolor": "white",
           "linecolor": "white",
           "ticks": "",
           "title": {
            "standoff": 15
           },
           "zerolinecolor": "white",
           "zerolinewidth": 2
          },
          "yaxis": {
           "automargin": true,
           "gridcolor": "white",
           "linecolor": "white",
           "ticks": "",
           "title": {
            "standoff": 15
           },
           "zerolinecolor": "white",
           "zerolinewidth": 2
          }
         }
        },
        "xaxis": {
         "anchor": "y",
         "domain": [
          0,
          1
         ],
         "title": {
          "text": "variable"
         }
        },
        "yaxis": {
         "anchor": "x",
         "domain": [
          0,
          1
         ],
         "title": {
          "text": "value"
         }
        }
       }
      },
      "text/html": [
       "<div>                            <div id=\"e0d3af21-54fb-462f-a4cb-433f16ac3ff0\" class=\"plotly-graph-div\" style=\"height:525px; width:100%;\"></div>            <script type=\"text/javascript\">                require([\"plotly\"], function(Plotly) {                    window.PLOTLYENV=window.PLOTLYENV || {};                                    if (document.getElementById(\"e0d3af21-54fb-462f-a4cb-433f16ac3ff0\")) {                    Plotly.newPlot(                        \"e0d3af21-54fb-462f-a4cb-433f16ac3ff0\",                        [{\"alignmentgroup\":\"True\",\"hovertemplate\":\"variable=%{x}<br>value=%{y}<extra></extra>\",\"legendgroup\":\"\",\"marker\":{\"color\":\"#636efa\"},\"name\":\"\",\"notched\":false,\"offsetgroup\":\"\",\"orientation\":\"v\",\"showlegend\":false,\"x\":[\"price\",\"price\",\"price\",\"price\",\"price\",\"price\",\"price\",\"price\",\"price\",\"price\",\"price\",\"price\",\"price\",\"price\",\"price\",\"price\",\"price\",\"price\",\"price\",\"price\",\"price\",\"price\",\"price\",\"price\",\"price\",\"price\",\"price\",\"price\",\"price\",\"price\",\"price\",\"price\",\"price\",\"price\",\"price\",\"price\",\"price\",\"price\",\"price\",\"price\",\"price\",\"price\",\"price\",\"price\",\"price\",\"price\",\"price\",\"price\",\"price\",\"price\",\"price\",\"price\",\"price\",\"price\",\"price\",\"price\",\"price\",\"price\",\"price\",\"price\",\"price\",\"price\",\"price\",\"price\",\"price\",\"price\",\"price\",\"price\",\"price\",\"price\",\"price\",\"price\",\"price\",\"price\",\"price\",\"price\",\"price\",\"price\",\"price\",\"price\",\"price\",\"price\",\"price\",\"price\",\"price\",\"price\",\"price\",\"price\",\"price\",\"price\",\"price\",\"price\",\"price\",\"price\",\"price\",\"price\",\"price\",\"price\",\"price\",\"price\",\"price\",\"price\",\"price\",\"price\",\"price\",\"price\",\"price\",\"price\",\"price\",\"price\",\"price\",\"price\",\"price\",\"price\",\"price\",\"price\",\"price\",\"price\",\"price\",\"price\",\"price\",\"price\",\"price\",\"price\",\"price\",\"price\",\"price\",\"price\",\"price\",\"price\",\"price\",\"price\",\"price\",\"price\",\"price\",\"price\",\"price\",\"price\",\"price\",\"price\",\"price\",\"price\",\"price\",\"price\",\"price\",\"price\",\"price\",\"price\",\"price\",\"price\",\"price\",\"price\",\"price\",\"price\",\"price\",\"price\",\"price\",\"price\",\"price\",\"price\",\"price\",\"price\",\"price\",\"price\",\"price\",\"price\",\"price\",\"price\",\"price\",\"price\",\"price\",\"price\",\"price\",\"price\",\"price\",\"price\",\"price\",\"price\",\"price\",\"price\",\"price\",\"price\",\"price\",\"price\",\"price\",\"price\",\"price\",\"price\",\"price\",\"price\",\"price\",\"price\",\"price\",\"price\",\"price\",\"price\",\"price\",\"price\",\"price\",\"price\",\"price\",\"price\",\"price\",\"price\",\"price\"],\"x0\":\" \",\"xaxis\":\"x\",\"y\":[13495,16500,16500,13950,17450,15250,17710,18920,23875,12000,16430,16925,20970,21105,24565,30760,41315,36880,5151,6295,6575,5572,6377,7957,6229,6692,7609,8558,8921,12964,6479,6855,5399,6529,7129,7295,7295,7895,9095,8845,10295,12945,10345,6785,10000,23000,11048,32250,35550,36000,5195,6095,6795,6695,7395,10945,11845,13645,15645,8845,8495,10595,10245,10795,11245,18280,18344,25552,28248,28176,31600,34184,35056,40960,45400,16503,5389,6189,6669,7689,9959,8499,12629,14869,14489,6989,8189,9279,9279,5499,7099,6649,6849,7349,7299,7799,7499,7999,8249,8949,9549,13499,14399,13499,17199,19699,18399,11900,13200,12440,13860,15580,16900,16695,17075,16630,17950,18150,5572,7957,6229,6692,7609,8921,12764,22018,32528,34028,37028,12000,9295,9895,11850,12170,15040,15510,18150,18620,5118,7053,7603,7126,7775,9960,9233,11259,7463,10198,8013,11694,5348,6338,6488,6918,7898,8778,6938,7198,7898,7788,7738,8358,9258,8058,8238,9298,9538,8449,9639,9989,11199,11549,17669,8948,10698,9988,10898,11248,16558,15998,15690,15750,7775,7975,7995,8195,8495,9495,9995,11595,9980,13295,13845,12290,12940,13415,15985,16515,18420,18950,16845,19045,21485,22470,22625],\"y0\":\" \",\"yaxis\":\"y\",\"type\":\"box\"}],                        {\"template\":{\"data\":{\"histogram2dcontour\":[{\"type\":\"histogram2dcontour\",\"colorbar\":{\"outlinewidth\":0,\"ticks\":\"\"},\"colorscale\":[[0.0,\"#0d0887\"],[0.1111111111111111,\"#46039f\"],[0.2222222222222222,\"#7201a8\"],[0.3333333333333333,\"#9c179e\"],[0.4444444444444444,\"#bd3786\"],[0.5555555555555556,\"#d8576b\"],[0.6666666666666666,\"#ed7953\"],[0.7777777777777778,\"#fb9f3a\"],[0.8888888888888888,\"#fdca26\"],[1.0,\"#f0f921\"]]}],\"choropleth\":[{\"type\":\"choropleth\",\"colorbar\":{\"outlinewidth\":0,\"ticks\":\"\"}}],\"histogram2d\":[{\"type\":\"histogram2d\",\"colorbar\":{\"outlinewidth\":0,\"ticks\":\"\"},\"colorscale\":[[0.0,\"#0d0887\"],[0.1111111111111111,\"#46039f\"],[0.2222222222222222,\"#7201a8\"],[0.3333333333333333,\"#9c179e\"],[0.4444444444444444,\"#bd3786\"],[0.5555555555555556,\"#d8576b\"],[0.6666666666666666,\"#ed7953\"],[0.7777777777777778,\"#fb9f3a\"],[0.8888888888888888,\"#fdca26\"],[1.0,\"#f0f921\"]]}],\"heatmap\":[{\"type\":\"heatmap\",\"colorbar\":{\"outlinewidth\":0,\"ticks\":\"\"},\"colorscale\":[[0.0,\"#0d0887\"],[0.1111111111111111,\"#46039f\"],[0.2222222222222222,\"#7201a8\"],[0.3333333333333333,\"#9c179e\"],[0.4444444444444444,\"#bd3786\"],[0.5555555555555556,\"#d8576b\"],[0.6666666666666666,\"#ed7953\"],[0.7777777777777778,\"#fb9f3a\"],[0.8888888888888888,\"#fdca26\"],[1.0,\"#f0f921\"]]}],\"heatmapgl\":[{\"type\":\"heatmapgl\",\"colorbar\":{\"outlinewidth\":0,\"ticks\":\"\"},\"colorscale\":[[0.0,\"#0d0887\"],[0.1111111111111111,\"#46039f\"],[0.2222222222222222,\"#7201a8\"],[0.3333333333333333,\"#9c179e\"],[0.4444444444444444,\"#bd3786\"],[0.5555555555555556,\"#d8576b\"],[0.6666666666666666,\"#ed7953\"],[0.7777777777777778,\"#fb9f3a\"],[0.8888888888888888,\"#fdca26\"],[1.0,\"#f0f921\"]]}],\"contourcarpet\":[{\"type\":\"contourcarpet\",\"colorbar\":{\"outlinewidth\":0,\"ticks\":\"\"}}],\"contour\":[{\"type\":\"contour\",\"colorbar\":{\"outlinewidth\":0,\"ticks\":\"\"},\"colorscale\":[[0.0,\"#0d0887\"],[0.1111111111111111,\"#46039f\"],[0.2222222222222222,\"#7201a8\"],[0.3333333333333333,\"#9c179e\"],[0.4444444444444444,\"#bd3786\"],[0.5555555555555556,\"#d8576b\"],[0.6666666666666666,\"#ed7953\"],[0.7777777777777778,\"#fb9f3a\"],[0.8888888888888888,\"#fdca26\"],[1.0,\"#f0f921\"]]}],\"surface\":[{\"type\":\"surface\",\"colorbar\":{\"outlinewidth\":0,\"ticks\":\"\"},\"colorscale\":[[0.0,\"#0d0887\"],[0.1111111111111111,\"#46039f\"],[0.2222222222222222,\"#7201a8\"],[0.3333333333333333,\"#9c179e\"],[0.4444444444444444,\"#bd3786\"],[0.5555555555555556,\"#d8576b\"],[0.6666666666666666,\"#ed7953\"],[0.7777777777777778,\"#fb9f3a\"],[0.8888888888888888,\"#fdca26\"],[1.0,\"#f0f921\"]]}],\"mesh3d\":[{\"type\":\"mesh3d\",\"colorbar\":{\"outlinewidth\":0,\"ticks\":\"\"}}],\"scatter\":[{\"fillpattern\":{\"fillmode\":\"overlay\",\"size\":10,\"solidity\":0.2},\"type\":\"scatter\"}],\"parcoords\":[{\"type\":\"parcoords\",\"line\":{\"colorbar\":{\"outlinewidth\":0,\"ticks\":\"\"}}}],\"scatterpolargl\":[{\"type\":\"scatterpolargl\",\"marker\":{\"colorbar\":{\"outlinewidth\":0,\"ticks\":\"\"}}}],\"bar\":[{\"error_x\":{\"color\":\"#2a3f5f\"},\"error_y\":{\"color\":\"#2a3f5f\"},\"marker\":{\"line\":{\"color\":\"#E5ECF6\",\"width\":0.5},\"pattern\":{\"fillmode\":\"overlay\",\"size\":10,\"solidity\":0.2}},\"type\":\"bar\"}],\"scattergeo\":[{\"type\":\"scattergeo\",\"marker\":{\"colorbar\":{\"outlinewidth\":0,\"ticks\":\"\"}}}],\"scatterpolar\":[{\"type\":\"scatterpolar\",\"marker\":{\"colorbar\":{\"outlinewidth\":0,\"ticks\":\"\"}}}],\"histogram\":[{\"marker\":{\"pattern\":{\"fillmode\":\"overlay\",\"size\":10,\"solidity\":0.2}},\"type\":\"histogram\"}],\"scattergl\":[{\"type\":\"scattergl\",\"marker\":{\"colorbar\":{\"outlinewidth\":0,\"ticks\":\"\"}}}],\"scatter3d\":[{\"type\":\"scatter3d\",\"line\":{\"colorbar\":{\"outlinewidth\":0,\"ticks\":\"\"}},\"marker\":{\"colorbar\":{\"outlinewidth\":0,\"ticks\":\"\"}}}],\"scattermapbox\":[{\"type\":\"scattermapbox\",\"marker\":{\"colorbar\":{\"outlinewidth\":0,\"ticks\":\"\"}}}],\"scatterternary\":[{\"type\":\"scatterternary\",\"marker\":{\"colorbar\":{\"outlinewidth\":0,\"ticks\":\"\"}}}],\"scattercarpet\":[{\"type\":\"scattercarpet\",\"marker\":{\"colorbar\":{\"outlinewidth\":0,\"ticks\":\"\"}}}],\"carpet\":[{\"aaxis\":{\"endlinecolor\":\"#2a3f5f\",\"gridcolor\":\"white\",\"linecolor\":\"white\",\"minorgridcolor\":\"white\",\"startlinecolor\":\"#2a3f5f\"},\"baxis\":{\"endlinecolor\":\"#2a3f5f\",\"gridcolor\":\"white\",\"linecolor\":\"white\",\"minorgridcolor\":\"white\",\"startlinecolor\":\"#2a3f5f\"},\"type\":\"carpet\"}],\"table\":[{\"cells\":{\"fill\":{\"color\":\"#EBF0F8\"},\"line\":{\"color\":\"white\"}},\"header\":{\"fill\":{\"color\":\"#C8D4E3\"},\"line\":{\"color\":\"white\"}},\"type\":\"table\"}],\"barpolar\":[{\"marker\":{\"line\":{\"color\":\"#E5ECF6\",\"width\":0.5},\"pattern\":{\"fillmode\":\"overlay\",\"size\":10,\"solidity\":0.2}},\"type\":\"barpolar\"}],\"pie\":[{\"automargin\":true,\"type\":\"pie\"}]},\"layout\":{\"autotypenumbers\":\"strict\",\"colorway\":[\"#636efa\",\"#EF553B\",\"#00cc96\",\"#ab63fa\",\"#FFA15A\",\"#19d3f3\",\"#FF6692\",\"#B6E880\",\"#FF97FF\",\"#FECB52\"],\"font\":{\"color\":\"#2a3f5f\"},\"hovermode\":\"closest\",\"hoverlabel\":{\"align\":\"left\"},\"paper_bgcolor\":\"white\",\"plot_bgcolor\":\"#E5ECF6\",\"polar\":{\"bgcolor\":\"#E5ECF6\",\"angularaxis\":{\"gridcolor\":\"white\",\"linecolor\":\"white\",\"ticks\":\"\"},\"radialaxis\":{\"gridcolor\":\"white\",\"linecolor\":\"white\",\"ticks\":\"\"}},\"ternary\":{\"bgcolor\":\"#E5ECF6\",\"aaxis\":{\"gridcolor\":\"white\",\"linecolor\":\"white\",\"ticks\":\"\"},\"baxis\":{\"gridcolor\":\"white\",\"linecolor\":\"white\",\"ticks\":\"\"},\"caxis\":{\"gridcolor\":\"white\",\"linecolor\":\"white\",\"ticks\":\"\"}},\"coloraxis\":{\"colorbar\":{\"outlinewidth\":0,\"ticks\":\"\"}},\"colorscale\":{\"sequential\":[[0.0,\"#0d0887\"],[0.1111111111111111,\"#46039f\"],[0.2222222222222222,\"#7201a8\"],[0.3333333333333333,\"#9c179e\"],[0.4444444444444444,\"#bd3786\"],[0.5555555555555556,\"#d8576b\"],[0.6666666666666666,\"#ed7953\"],[0.7777777777777778,\"#fb9f3a\"],[0.8888888888888888,\"#fdca26\"],[1.0,\"#f0f921\"]],\"sequentialminus\":[[0.0,\"#0d0887\"],[0.1111111111111111,\"#46039f\"],[0.2222222222222222,\"#7201a8\"],[0.3333333333333333,\"#9c179e\"],[0.4444444444444444,\"#bd3786\"],[0.5555555555555556,\"#d8576b\"],[0.6666666666666666,\"#ed7953\"],[0.7777777777777778,\"#fb9f3a\"],[0.8888888888888888,\"#fdca26\"],[1.0,\"#f0f921\"]],\"diverging\":[[0,\"#8e0152\"],[0.1,\"#c51b7d\"],[0.2,\"#de77ae\"],[0.3,\"#f1b6da\"],[0.4,\"#fde0ef\"],[0.5,\"#f7f7f7\"],[0.6,\"#e6f5d0\"],[0.7,\"#b8e186\"],[0.8,\"#7fbc41\"],[0.9,\"#4d9221\"],[1,\"#276419\"]]},\"xaxis\":{\"gridcolor\":\"white\",\"linecolor\":\"white\",\"ticks\":\"\",\"title\":{\"standoff\":15},\"zerolinecolor\":\"white\",\"automargin\":true,\"zerolinewidth\":2},\"yaxis\":{\"gridcolor\":\"white\",\"linecolor\":\"white\",\"ticks\":\"\",\"title\":{\"standoff\":15},\"zerolinecolor\":\"white\",\"automargin\":true,\"zerolinewidth\":2},\"scene\":{\"xaxis\":{\"backgroundcolor\":\"#E5ECF6\",\"gridcolor\":\"white\",\"linecolor\":\"white\",\"showbackground\":true,\"ticks\":\"\",\"zerolinecolor\":\"white\",\"gridwidth\":2},\"yaxis\":{\"backgroundcolor\":\"#E5ECF6\",\"gridcolor\":\"white\",\"linecolor\":\"white\",\"showbackground\":true,\"ticks\":\"\",\"zerolinecolor\":\"white\",\"gridwidth\":2},\"zaxis\":{\"backgroundcolor\":\"#E5ECF6\",\"gridcolor\":\"white\",\"linecolor\":\"white\",\"showbackground\":true,\"ticks\":\"\",\"zerolinecolor\":\"white\",\"gridwidth\":2}},\"shapedefaults\":{\"line\":{\"color\":\"#2a3f5f\"}},\"annotationdefaults\":{\"arrowcolor\":\"#2a3f5f\",\"arrowhead\":0,\"arrowwidth\":1},\"geo\":{\"bgcolor\":\"white\",\"landcolor\":\"#E5ECF6\",\"subunitcolor\":\"white\",\"showland\":true,\"showlakes\":true,\"lakecolor\":\"white\"},\"title\":{\"x\":0.05},\"mapbox\":{\"style\":\"light\"}}},\"xaxis\":{\"anchor\":\"y\",\"domain\":[0.0,1.0],\"title\":{\"text\":\"variable\"}},\"yaxis\":{\"anchor\":\"x\",\"domain\":[0.0,1.0],\"title\":{\"text\":\"value\"}},\"legend\":{\"tracegroupgap\":0},\"margin\":{\"t\":60},\"boxmode\":\"group\"},                        {\"responsive\": true}                    ).then(function(){\n",
       "                            \n",
       "var gd = document.getElementById('e0d3af21-54fb-462f-a4cb-433f16ac3ff0');\n",
       "var x = new MutationObserver(function (mutations, observer) {{\n",
       "        var display = window.getComputedStyle(gd).display;\n",
       "        if (!display || display === 'none') {{\n",
       "            console.log([gd, 'removed!']);\n",
       "            Plotly.purge(gd);\n",
       "            observer.disconnect();\n",
       "        }}\n",
       "}});\n",
       "\n",
       "// Listen for the removal of the full notebook cells\n",
       "var notebookContainer = gd.closest('#notebook-container');\n",
       "if (notebookContainer) {{\n",
       "    x.observe(notebookContainer, {childList: true});\n",
       "}}\n",
       "\n",
       "// Listen for the clearing of the current output cell\n",
       "var outputEl = gd.closest('.output');\n",
       "if (outputEl) {{\n",
       "    x.observe(outputEl, {childList: true});\n",
       "}}\n",
       "\n",
       "                        })                };                });            </script>        </div>"
      ]
     },
     "metadata": {},
     "output_type": "display_data"
    }
   ],
   "source": [
    "import plotly.express as px\n",
    "t=px.data.tips()\n",
    "fig=px.box(target)\n",
    "fig.show()"
   ]
  },
  {
   "cell_type": "code",
   "execution_count": 140,
   "id": "aa6092de",
   "metadata": {},
   "outputs": [
    {
     "data": {
      "application/vnd.plotly.v1+json": {
       "config": {
        "plotlyServerURL": "https://plot.ly"
       },
       "data": [
        {
         "alignmentgroup": "True",
         "hovertemplate": "x=%{x}<br>make=%{y}<extra></extra>",
         "legendgroup": "",
         "marker": {
          "color": "#636efa"
         },
         "name": "",
         "notched": false,
         "offsetgroup": "",
         "orientation": "h",
         "showlegend": false,
         "type": "box",
         "x": [
          13495,
          16500,
          16500,
          13950,
          17450,
          15250,
          17710,
          18920,
          23875,
          12000,
          16430,
          16925,
          20970,
          21105,
          24565,
          30760,
          41315,
          36880,
          5151,
          6295,
          6575,
          5572,
          6377,
          7957,
          6229,
          6692,
          7609,
          8558,
          8921,
          12964,
          6479,
          6855,
          5399,
          6529,
          7129,
          7295,
          7295,
          7895,
          9095,
          8845,
          10295,
          12945,
          10345,
          6785,
          10000,
          23000,
          11048,
          32250,
          35550,
          36000,
          5195,
          6095,
          6795,
          6695,
          7395,
          10945,
          11845,
          13645,
          15645,
          8845,
          8495,
          10595,
          10245,
          10795,
          11245,
          18280,
          18344,
          25552,
          28248,
          28176,
          31600,
          34184,
          35056,
          40960,
          45400,
          16503,
          5389,
          6189,
          6669,
          7689,
          9959,
          8499,
          12629,
          14869,
          14489,
          6989,
          8189,
          9279,
          9279,
          5499,
          7099,
          6649,
          6849,
          7349,
          7299,
          7799,
          7499,
          7999,
          8249,
          8949,
          9549,
          13499,
          14399,
          13499,
          17199,
          19699,
          18399,
          11900,
          13200,
          12440,
          13860,
          15580,
          16900,
          16695,
          17075,
          16630,
          17950,
          18150,
          5572,
          7957,
          6229,
          6692,
          7609,
          8921,
          12764,
          22018,
          32528,
          34028,
          37028,
          12000,
          9295,
          9895,
          11850,
          12170,
          15040,
          15510,
          18150,
          18620,
          5118,
          7053,
          7603,
          7126,
          7775,
          9960,
          9233,
          11259,
          7463,
          10198,
          8013,
          11694,
          5348,
          6338,
          6488,
          6918,
          7898,
          8778,
          6938,
          7198,
          7898,
          7788,
          7738,
          8358,
          9258,
          8058,
          8238,
          9298,
          9538,
          8449,
          9639,
          9989,
          11199,
          11549,
          17669,
          8948,
          10698,
          9988,
          10898,
          11248,
          16558,
          15998,
          15690,
          15750,
          7775,
          7975,
          7995,
          8195,
          8495,
          9495,
          9995,
          11595,
          9980,
          13295,
          13845,
          12290,
          12940,
          13415,
          15985,
          16515,
          18420,
          18950,
          16845,
          19045,
          21485,
          22470,
          22625
         ],
         "x0": " ",
         "xaxis": "x",
         "y": [
          "alfa-romero",
          "alfa-romero",
          "alfa-romero",
          "audi",
          "audi",
          "audi",
          "audi",
          "audi",
          "audi",
          "audi",
          "bmw",
          "bmw",
          "bmw",
          "bmw",
          "bmw",
          "bmw",
          "bmw",
          "bmw",
          "chevrolet",
          "chevrolet",
          "chevrolet",
          "dodge",
          "dodge",
          "dodge",
          "dodge",
          "dodge",
          "dodge",
          "dodge",
          "dodge",
          "dodge",
          "honda",
          "honda",
          "honda",
          "honda",
          "honda",
          "honda",
          "honda",
          "honda",
          "honda",
          "honda",
          "honda",
          "honda",
          "honda",
          "isuzu",
          "isuzu",
          "isuzu",
          "isuzu",
          "jaguar",
          "jaguar",
          "jaguar",
          "mazda",
          "mazda",
          "mazda",
          "mazda",
          "mazda",
          "mazda",
          "mazda",
          "mazda",
          "mazda",
          "mazda",
          "mazda",
          "mazda",
          "mazda",
          "mazda",
          "mazda",
          "mazda",
          "mazda",
          "mercedes-benz",
          "mercedes-benz",
          "mercedes-benz",
          "mercedes-benz",
          "mercedes-benz",
          "mercedes-benz",
          "mercedes-benz",
          "mercedes-benz",
          "mercury",
          "mitsubishi",
          "mitsubishi",
          "mitsubishi",
          "mitsubishi",
          "mitsubishi",
          "mitsubishi",
          "mitsubishi",
          "mitsubishi",
          "mitsubishi",
          "mitsubishi",
          "mitsubishi",
          "mitsubishi",
          "mitsubishi",
          "nissan",
          "nissan",
          "nissan",
          "nissan",
          "nissan",
          "nissan",
          "nissan",
          "nissan",
          "nissan",
          "nissan",
          "nissan",
          "nissan",
          "nissan",
          "nissan",
          "nissan",
          "nissan",
          "nissan",
          "nissan",
          "peugot",
          "peugot",
          "peugot",
          "peugot",
          "peugot",
          "peugot",
          "peugot",
          "peugot",
          "peugot",
          "peugot",
          "peugot",
          "plymouth",
          "plymouth",
          "plymouth",
          "plymouth",
          "plymouth",
          "plymouth",
          "plymouth",
          "porsche",
          "porsche",
          "porsche",
          "porsche",
          "porsche",
          "renault",
          "renault",
          "saab",
          "saab",
          "saab",
          "saab",
          "saab",
          "saab",
          "subaru",
          "subaru",
          "subaru",
          "subaru",
          "subaru",
          "subaru",
          "subaru",
          "subaru",
          "subaru",
          "subaru",
          "subaru",
          "subaru",
          "toyota",
          "toyota",
          "toyota",
          "toyota",
          "toyota",
          "toyota",
          "toyota",
          "toyota",
          "toyota",
          "toyota",
          "toyota",
          "toyota",
          "toyota",
          "toyota",
          "toyota",
          "toyota",
          "toyota",
          "toyota",
          "toyota",
          "toyota",
          "toyota",
          "toyota",
          "toyota",
          "toyota",
          "toyota",
          "toyota",
          "toyota",
          "toyota",
          "toyota",
          "toyota",
          "toyota",
          "toyota",
          "volkswagen",
          "volkswagen",
          "volkswagen",
          "volkswagen",
          "volkswagen",
          "volkswagen",
          "volkswagen",
          "volkswagen",
          "volkswagen",
          "volkswagen",
          "volkswagen",
          "volkswagen",
          "volvo",
          "volvo",
          "volvo",
          "volvo",
          "volvo",
          "volvo",
          "volvo",
          "volvo",
          "volvo",
          "volvo",
          "volvo"
         ],
         "y0": " ",
         "yaxis": "y"
        }
       ],
       "layout": {
        "boxmode": "group",
        "legend": {
         "tracegroupgap": 0
        },
        "margin": {
         "t": 60
        },
        "template": {
         "data": {
          "bar": [
           {
            "error_x": {
             "color": "#2a3f5f"
            },
            "error_y": {
             "color": "#2a3f5f"
            },
            "marker": {
             "line": {
              "color": "#E5ECF6",
              "width": 0.5
             },
             "pattern": {
              "fillmode": "overlay",
              "size": 10,
              "solidity": 0.2
             }
            },
            "type": "bar"
           }
          ],
          "barpolar": [
           {
            "marker": {
             "line": {
              "color": "#E5ECF6",
              "width": 0.5
             },
             "pattern": {
              "fillmode": "overlay",
              "size": 10,
              "solidity": 0.2
             }
            },
            "type": "barpolar"
           }
          ],
          "carpet": [
           {
            "aaxis": {
             "endlinecolor": "#2a3f5f",
             "gridcolor": "white",
             "linecolor": "white",
             "minorgridcolor": "white",
             "startlinecolor": "#2a3f5f"
            },
            "baxis": {
             "endlinecolor": "#2a3f5f",
             "gridcolor": "white",
             "linecolor": "white",
             "minorgridcolor": "white",
             "startlinecolor": "#2a3f5f"
            },
            "type": "carpet"
           }
          ],
          "choropleth": [
           {
            "colorbar": {
             "outlinewidth": 0,
             "ticks": ""
            },
            "type": "choropleth"
           }
          ],
          "contour": [
           {
            "colorbar": {
             "outlinewidth": 0,
             "ticks": ""
            },
            "colorscale": [
             [
              0,
              "#0d0887"
             ],
             [
              0.1111111111111111,
              "#46039f"
             ],
             [
              0.2222222222222222,
              "#7201a8"
             ],
             [
              0.3333333333333333,
              "#9c179e"
             ],
             [
              0.4444444444444444,
              "#bd3786"
             ],
             [
              0.5555555555555556,
              "#d8576b"
             ],
             [
              0.6666666666666666,
              "#ed7953"
             ],
             [
              0.7777777777777778,
              "#fb9f3a"
             ],
             [
              0.8888888888888888,
              "#fdca26"
             ],
             [
              1,
              "#f0f921"
             ]
            ],
            "type": "contour"
           }
          ],
          "contourcarpet": [
           {
            "colorbar": {
             "outlinewidth": 0,
             "ticks": ""
            },
            "type": "contourcarpet"
           }
          ],
          "heatmap": [
           {
            "colorbar": {
             "outlinewidth": 0,
             "ticks": ""
            },
            "colorscale": [
             [
              0,
              "#0d0887"
             ],
             [
              0.1111111111111111,
              "#46039f"
             ],
             [
              0.2222222222222222,
              "#7201a8"
             ],
             [
              0.3333333333333333,
              "#9c179e"
             ],
             [
              0.4444444444444444,
              "#bd3786"
             ],
             [
              0.5555555555555556,
              "#d8576b"
             ],
             [
              0.6666666666666666,
              "#ed7953"
             ],
             [
              0.7777777777777778,
              "#fb9f3a"
             ],
             [
              0.8888888888888888,
              "#fdca26"
             ],
             [
              1,
              "#f0f921"
             ]
            ],
            "type": "heatmap"
           }
          ],
          "heatmapgl": [
           {
            "colorbar": {
             "outlinewidth": 0,
             "ticks": ""
            },
            "colorscale": [
             [
              0,
              "#0d0887"
             ],
             [
              0.1111111111111111,
              "#46039f"
             ],
             [
              0.2222222222222222,
              "#7201a8"
             ],
             [
              0.3333333333333333,
              "#9c179e"
             ],
             [
              0.4444444444444444,
              "#bd3786"
             ],
             [
              0.5555555555555556,
              "#d8576b"
             ],
             [
              0.6666666666666666,
              "#ed7953"
             ],
             [
              0.7777777777777778,
              "#fb9f3a"
             ],
             [
              0.8888888888888888,
              "#fdca26"
             ],
             [
              1,
              "#f0f921"
             ]
            ],
            "type": "heatmapgl"
           }
          ],
          "histogram": [
           {
            "marker": {
             "pattern": {
              "fillmode": "overlay",
              "size": 10,
              "solidity": 0.2
             }
            },
            "type": "histogram"
           }
          ],
          "histogram2d": [
           {
            "colorbar": {
             "outlinewidth": 0,
             "ticks": ""
            },
            "colorscale": [
             [
              0,
              "#0d0887"
             ],
             [
              0.1111111111111111,
              "#46039f"
             ],
             [
              0.2222222222222222,
              "#7201a8"
             ],
             [
              0.3333333333333333,
              "#9c179e"
             ],
             [
              0.4444444444444444,
              "#bd3786"
             ],
             [
              0.5555555555555556,
              "#d8576b"
             ],
             [
              0.6666666666666666,
              "#ed7953"
             ],
             [
              0.7777777777777778,
              "#fb9f3a"
             ],
             [
              0.8888888888888888,
              "#fdca26"
             ],
             [
              1,
              "#f0f921"
             ]
            ],
            "type": "histogram2d"
           }
          ],
          "histogram2dcontour": [
           {
            "colorbar": {
             "outlinewidth": 0,
             "ticks": ""
            },
            "colorscale": [
             [
              0,
              "#0d0887"
             ],
             [
              0.1111111111111111,
              "#46039f"
             ],
             [
              0.2222222222222222,
              "#7201a8"
             ],
             [
              0.3333333333333333,
              "#9c179e"
             ],
             [
              0.4444444444444444,
              "#bd3786"
             ],
             [
              0.5555555555555556,
              "#d8576b"
             ],
             [
              0.6666666666666666,
              "#ed7953"
             ],
             [
              0.7777777777777778,
              "#fb9f3a"
             ],
             [
              0.8888888888888888,
              "#fdca26"
             ],
             [
              1,
              "#f0f921"
             ]
            ],
            "type": "histogram2dcontour"
           }
          ],
          "mesh3d": [
           {
            "colorbar": {
             "outlinewidth": 0,
             "ticks": ""
            },
            "type": "mesh3d"
           }
          ],
          "parcoords": [
           {
            "line": {
             "colorbar": {
              "outlinewidth": 0,
              "ticks": ""
             }
            },
            "type": "parcoords"
           }
          ],
          "pie": [
           {
            "automargin": true,
            "type": "pie"
           }
          ],
          "scatter": [
           {
            "fillpattern": {
             "fillmode": "overlay",
             "size": 10,
             "solidity": 0.2
            },
            "type": "scatter"
           }
          ],
          "scatter3d": [
           {
            "line": {
             "colorbar": {
              "outlinewidth": 0,
              "ticks": ""
             }
            },
            "marker": {
             "colorbar": {
              "outlinewidth": 0,
              "ticks": ""
             }
            },
            "type": "scatter3d"
           }
          ],
          "scattercarpet": [
           {
            "marker": {
             "colorbar": {
              "outlinewidth": 0,
              "ticks": ""
             }
            },
            "type": "scattercarpet"
           }
          ],
          "scattergeo": [
           {
            "marker": {
             "colorbar": {
              "outlinewidth": 0,
              "ticks": ""
             }
            },
            "type": "scattergeo"
           }
          ],
          "scattergl": [
           {
            "marker": {
             "colorbar": {
              "outlinewidth": 0,
              "ticks": ""
             }
            },
            "type": "scattergl"
           }
          ],
          "scattermapbox": [
           {
            "marker": {
             "colorbar": {
              "outlinewidth": 0,
              "ticks": ""
             }
            },
            "type": "scattermapbox"
           }
          ],
          "scatterpolar": [
           {
            "marker": {
             "colorbar": {
              "outlinewidth": 0,
              "ticks": ""
             }
            },
            "type": "scatterpolar"
           }
          ],
          "scatterpolargl": [
           {
            "marker": {
             "colorbar": {
              "outlinewidth": 0,
              "ticks": ""
             }
            },
            "type": "scatterpolargl"
           }
          ],
          "scatterternary": [
           {
            "marker": {
             "colorbar": {
              "outlinewidth": 0,
              "ticks": ""
             }
            },
            "type": "scatterternary"
           }
          ],
          "surface": [
           {
            "colorbar": {
             "outlinewidth": 0,
             "ticks": ""
            },
            "colorscale": [
             [
              0,
              "#0d0887"
             ],
             [
              0.1111111111111111,
              "#46039f"
             ],
             [
              0.2222222222222222,
              "#7201a8"
             ],
             [
              0.3333333333333333,
              "#9c179e"
             ],
             [
              0.4444444444444444,
              "#bd3786"
             ],
             [
              0.5555555555555556,
              "#d8576b"
             ],
             [
              0.6666666666666666,
              "#ed7953"
             ],
             [
              0.7777777777777778,
              "#fb9f3a"
             ],
             [
              0.8888888888888888,
              "#fdca26"
             ],
             [
              1,
              "#f0f921"
             ]
            ],
            "type": "surface"
           }
          ],
          "table": [
           {
            "cells": {
             "fill": {
              "color": "#EBF0F8"
             },
             "line": {
              "color": "white"
             }
            },
            "header": {
             "fill": {
              "color": "#C8D4E3"
             },
             "line": {
              "color": "white"
             }
            },
            "type": "table"
           }
          ]
         },
         "layout": {
          "annotationdefaults": {
           "arrowcolor": "#2a3f5f",
           "arrowhead": 0,
           "arrowwidth": 1
          },
          "autotypenumbers": "strict",
          "coloraxis": {
           "colorbar": {
            "outlinewidth": 0,
            "ticks": ""
           }
          },
          "colorscale": {
           "diverging": [
            [
             0,
             "#8e0152"
            ],
            [
             0.1,
             "#c51b7d"
            ],
            [
             0.2,
             "#de77ae"
            ],
            [
             0.3,
             "#f1b6da"
            ],
            [
             0.4,
             "#fde0ef"
            ],
            [
             0.5,
             "#f7f7f7"
            ],
            [
             0.6,
             "#e6f5d0"
            ],
            [
             0.7,
             "#b8e186"
            ],
            [
             0.8,
             "#7fbc41"
            ],
            [
             0.9,
             "#4d9221"
            ],
            [
             1,
             "#276419"
            ]
           ],
           "sequential": [
            [
             0,
             "#0d0887"
            ],
            [
             0.1111111111111111,
             "#46039f"
            ],
            [
             0.2222222222222222,
             "#7201a8"
            ],
            [
             0.3333333333333333,
             "#9c179e"
            ],
            [
             0.4444444444444444,
             "#bd3786"
            ],
            [
             0.5555555555555556,
             "#d8576b"
            ],
            [
             0.6666666666666666,
             "#ed7953"
            ],
            [
             0.7777777777777778,
             "#fb9f3a"
            ],
            [
             0.8888888888888888,
             "#fdca26"
            ],
            [
             1,
             "#f0f921"
            ]
           ],
           "sequentialminus": [
            [
             0,
             "#0d0887"
            ],
            [
             0.1111111111111111,
             "#46039f"
            ],
            [
             0.2222222222222222,
             "#7201a8"
            ],
            [
             0.3333333333333333,
             "#9c179e"
            ],
            [
             0.4444444444444444,
             "#bd3786"
            ],
            [
             0.5555555555555556,
             "#d8576b"
            ],
            [
             0.6666666666666666,
             "#ed7953"
            ],
            [
             0.7777777777777778,
             "#fb9f3a"
            ],
            [
             0.8888888888888888,
             "#fdca26"
            ],
            [
             1,
             "#f0f921"
            ]
           ]
          },
          "colorway": [
           "#636efa",
           "#EF553B",
           "#00cc96",
           "#ab63fa",
           "#FFA15A",
           "#19d3f3",
           "#FF6692",
           "#B6E880",
           "#FF97FF",
           "#FECB52"
          ],
          "font": {
           "color": "#2a3f5f"
          },
          "geo": {
           "bgcolor": "white",
           "lakecolor": "white",
           "landcolor": "#E5ECF6",
           "showlakes": true,
           "showland": true,
           "subunitcolor": "white"
          },
          "hoverlabel": {
           "align": "left"
          },
          "hovermode": "closest",
          "mapbox": {
           "style": "light"
          },
          "paper_bgcolor": "white",
          "plot_bgcolor": "#E5ECF6",
          "polar": {
           "angularaxis": {
            "gridcolor": "white",
            "linecolor": "white",
            "ticks": ""
           },
           "bgcolor": "#E5ECF6",
           "radialaxis": {
            "gridcolor": "white",
            "linecolor": "white",
            "ticks": ""
           }
          },
          "scene": {
           "xaxis": {
            "backgroundcolor": "#E5ECF6",
            "gridcolor": "white",
            "gridwidth": 2,
            "linecolor": "white",
            "showbackground": true,
            "ticks": "",
            "zerolinecolor": "white"
           },
           "yaxis": {
            "backgroundcolor": "#E5ECF6",
            "gridcolor": "white",
            "gridwidth": 2,
            "linecolor": "white",
            "showbackground": true,
            "ticks": "",
            "zerolinecolor": "white"
           },
           "zaxis": {
            "backgroundcolor": "#E5ECF6",
            "gridcolor": "white",
            "gridwidth": 2,
            "linecolor": "white",
            "showbackground": true,
            "ticks": "",
            "zerolinecolor": "white"
           }
          },
          "shapedefaults": {
           "line": {
            "color": "#2a3f5f"
           }
          },
          "ternary": {
           "aaxis": {
            "gridcolor": "white",
            "linecolor": "white",
            "ticks": ""
           },
           "baxis": {
            "gridcolor": "white",
            "linecolor": "white",
            "ticks": ""
           },
           "bgcolor": "#E5ECF6",
           "caxis": {
            "gridcolor": "white",
            "linecolor": "white",
            "ticks": ""
           }
          },
          "title": {
           "x": 0.05
          },
          "xaxis": {
           "automargin": true,
           "gridcolor": "white",
           "linecolor": "white",
           "ticks": "",
           "title": {
            "standoff": 15
           },
           "zerolinecolor": "white",
           "zerolinewidth": 2
          },
          "yaxis": {
           "automargin": true,
           "gridcolor": "white",
           "linecolor": "white",
           "ticks": "",
           "title": {
            "standoff": 15
           },
           "zerolinecolor": "white",
           "zerolinewidth": 2
          }
         }
        },
        "xaxis": {
         "anchor": "y",
         "domain": [
          0,
          1
         ],
         "title": {
          "text": "x"
         }
        },
        "yaxis": {
         "anchor": "x",
         "domain": [
          0,
          1
         ],
         "title": {
          "text": "make"
         }
        }
       }
      },
      "text/html": [
       "<div>                            <div id=\"b5901744-9a29-4c8d-8c0e-4c7414ea5ea6\" class=\"plotly-graph-div\" style=\"height:525px; width:100%;\"></div>            <script type=\"text/javascript\">                require([\"plotly\"], function(Plotly) {                    window.PLOTLYENV=window.PLOTLYENV || {};                                    if (document.getElementById(\"b5901744-9a29-4c8d-8c0e-4c7414ea5ea6\")) {                    Plotly.newPlot(                        \"b5901744-9a29-4c8d-8c0e-4c7414ea5ea6\",                        [{\"alignmentgroup\":\"True\",\"hovertemplate\":\"x=%{x}<br>make=%{y}<extra></extra>\",\"legendgroup\":\"\",\"marker\":{\"color\":\"#636efa\"},\"name\":\"\",\"notched\":false,\"offsetgroup\":\"\",\"orientation\":\"h\",\"showlegend\":false,\"x\":[13495,16500,16500,13950,17450,15250,17710,18920,23875,12000,16430,16925,20970,21105,24565,30760,41315,36880,5151,6295,6575,5572,6377,7957,6229,6692,7609,8558,8921,12964,6479,6855,5399,6529,7129,7295,7295,7895,9095,8845,10295,12945,10345,6785,10000,23000,11048,32250,35550,36000,5195,6095,6795,6695,7395,10945,11845,13645,15645,8845,8495,10595,10245,10795,11245,18280,18344,25552,28248,28176,31600,34184,35056,40960,45400,16503,5389,6189,6669,7689,9959,8499,12629,14869,14489,6989,8189,9279,9279,5499,7099,6649,6849,7349,7299,7799,7499,7999,8249,8949,9549,13499,14399,13499,17199,19699,18399,11900,13200,12440,13860,15580,16900,16695,17075,16630,17950,18150,5572,7957,6229,6692,7609,8921,12764,22018,32528,34028,37028,12000,9295,9895,11850,12170,15040,15510,18150,18620,5118,7053,7603,7126,7775,9960,9233,11259,7463,10198,8013,11694,5348,6338,6488,6918,7898,8778,6938,7198,7898,7788,7738,8358,9258,8058,8238,9298,9538,8449,9639,9989,11199,11549,17669,8948,10698,9988,10898,11248,16558,15998,15690,15750,7775,7975,7995,8195,8495,9495,9995,11595,9980,13295,13845,12290,12940,13415,15985,16515,18420,18950,16845,19045,21485,22470,22625],\"x0\":\" \",\"xaxis\":\"x\",\"y\":[\"alfa-romero\",\"alfa-romero\",\"alfa-romero\",\"audi\",\"audi\",\"audi\",\"audi\",\"audi\",\"audi\",\"audi\",\"bmw\",\"bmw\",\"bmw\",\"bmw\",\"bmw\",\"bmw\",\"bmw\",\"bmw\",\"chevrolet\",\"chevrolet\",\"chevrolet\",\"dodge\",\"dodge\",\"dodge\",\"dodge\",\"dodge\",\"dodge\",\"dodge\",\"dodge\",\"dodge\",\"honda\",\"honda\",\"honda\",\"honda\",\"honda\",\"honda\",\"honda\",\"honda\",\"honda\",\"honda\",\"honda\",\"honda\",\"honda\",\"isuzu\",\"isuzu\",\"isuzu\",\"isuzu\",\"jaguar\",\"jaguar\",\"jaguar\",\"mazda\",\"mazda\",\"mazda\",\"mazda\",\"mazda\",\"mazda\",\"mazda\",\"mazda\",\"mazda\",\"mazda\",\"mazda\",\"mazda\",\"mazda\",\"mazda\",\"mazda\",\"mazda\",\"mazda\",\"mercedes-benz\",\"mercedes-benz\",\"mercedes-benz\",\"mercedes-benz\",\"mercedes-benz\",\"mercedes-benz\",\"mercedes-benz\",\"mercedes-benz\",\"mercury\",\"mitsubishi\",\"mitsubishi\",\"mitsubishi\",\"mitsubishi\",\"mitsubishi\",\"mitsubishi\",\"mitsubishi\",\"mitsubishi\",\"mitsubishi\",\"mitsubishi\",\"mitsubishi\",\"mitsubishi\",\"mitsubishi\",\"nissan\",\"nissan\",\"nissan\",\"nissan\",\"nissan\",\"nissan\",\"nissan\",\"nissan\",\"nissan\",\"nissan\",\"nissan\",\"nissan\",\"nissan\",\"nissan\",\"nissan\",\"nissan\",\"nissan\",\"nissan\",\"peugot\",\"peugot\",\"peugot\",\"peugot\",\"peugot\",\"peugot\",\"peugot\",\"peugot\",\"peugot\",\"peugot\",\"peugot\",\"plymouth\",\"plymouth\",\"plymouth\",\"plymouth\",\"plymouth\",\"plymouth\",\"plymouth\",\"porsche\",\"porsche\",\"porsche\",\"porsche\",\"porsche\",\"renault\",\"renault\",\"saab\",\"saab\",\"saab\",\"saab\",\"saab\",\"saab\",\"subaru\",\"subaru\",\"subaru\",\"subaru\",\"subaru\",\"subaru\",\"subaru\",\"subaru\",\"subaru\",\"subaru\",\"subaru\",\"subaru\",\"toyota\",\"toyota\",\"toyota\",\"toyota\",\"toyota\",\"toyota\",\"toyota\",\"toyota\",\"toyota\",\"toyota\",\"toyota\",\"toyota\",\"toyota\",\"toyota\",\"toyota\",\"toyota\",\"toyota\",\"toyota\",\"toyota\",\"toyota\",\"toyota\",\"toyota\",\"toyota\",\"toyota\",\"toyota\",\"toyota\",\"toyota\",\"toyota\",\"toyota\",\"toyota\",\"toyota\",\"toyota\",\"volkswagen\",\"volkswagen\",\"volkswagen\",\"volkswagen\",\"volkswagen\",\"volkswagen\",\"volkswagen\",\"volkswagen\",\"volkswagen\",\"volkswagen\",\"volkswagen\",\"volkswagen\",\"volvo\",\"volvo\",\"volvo\",\"volvo\",\"volvo\",\"volvo\",\"volvo\",\"volvo\",\"volvo\",\"volvo\",\"volvo\"],\"y0\":\" \",\"yaxis\":\"y\",\"type\":\"box\"}],                        {\"template\":{\"data\":{\"histogram2dcontour\":[{\"type\":\"histogram2dcontour\",\"colorbar\":{\"outlinewidth\":0,\"ticks\":\"\"},\"colorscale\":[[0.0,\"#0d0887\"],[0.1111111111111111,\"#46039f\"],[0.2222222222222222,\"#7201a8\"],[0.3333333333333333,\"#9c179e\"],[0.4444444444444444,\"#bd3786\"],[0.5555555555555556,\"#d8576b\"],[0.6666666666666666,\"#ed7953\"],[0.7777777777777778,\"#fb9f3a\"],[0.8888888888888888,\"#fdca26\"],[1.0,\"#f0f921\"]]}],\"choropleth\":[{\"type\":\"choropleth\",\"colorbar\":{\"outlinewidth\":0,\"ticks\":\"\"}}],\"histogram2d\":[{\"type\":\"histogram2d\",\"colorbar\":{\"outlinewidth\":0,\"ticks\":\"\"},\"colorscale\":[[0.0,\"#0d0887\"],[0.1111111111111111,\"#46039f\"],[0.2222222222222222,\"#7201a8\"],[0.3333333333333333,\"#9c179e\"],[0.4444444444444444,\"#bd3786\"],[0.5555555555555556,\"#d8576b\"],[0.6666666666666666,\"#ed7953\"],[0.7777777777777778,\"#fb9f3a\"],[0.8888888888888888,\"#fdca26\"],[1.0,\"#f0f921\"]]}],\"heatmap\":[{\"type\":\"heatmap\",\"colorbar\":{\"outlinewidth\":0,\"ticks\":\"\"},\"colorscale\":[[0.0,\"#0d0887\"],[0.1111111111111111,\"#46039f\"],[0.2222222222222222,\"#7201a8\"],[0.3333333333333333,\"#9c179e\"],[0.4444444444444444,\"#bd3786\"],[0.5555555555555556,\"#d8576b\"],[0.6666666666666666,\"#ed7953\"],[0.7777777777777778,\"#fb9f3a\"],[0.8888888888888888,\"#fdca26\"],[1.0,\"#f0f921\"]]}],\"heatmapgl\":[{\"type\":\"heatmapgl\",\"colorbar\":{\"outlinewidth\":0,\"ticks\":\"\"},\"colorscale\":[[0.0,\"#0d0887\"],[0.1111111111111111,\"#46039f\"],[0.2222222222222222,\"#7201a8\"],[0.3333333333333333,\"#9c179e\"],[0.4444444444444444,\"#bd3786\"],[0.5555555555555556,\"#d8576b\"],[0.6666666666666666,\"#ed7953\"],[0.7777777777777778,\"#fb9f3a\"],[0.8888888888888888,\"#fdca26\"],[1.0,\"#f0f921\"]]}],\"contourcarpet\":[{\"type\":\"contourcarpet\",\"colorbar\":{\"outlinewidth\":0,\"ticks\":\"\"}}],\"contour\":[{\"type\":\"contour\",\"colorbar\":{\"outlinewidth\":0,\"ticks\":\"\"},\"colorscale\":[[0.0,\"#0d0887\"],[0.1111111111111111,\"#46039f\"],[0.2222222222222222,\"#7201a8\"],[0.3333333333333333,\"#9c179e\"],[0.4444444444444444,\"#bd3786\"],[0.5555555555555556,\"#d8576b\"],[0.6666666666666666,\"#ed7953\"],[0.7777777777777778,\"#fb9f3a\"],[0.8888888888888888,\"#fdca26\"],[1.0,\"#f0f921\"]]}],\"surface\":[{\"type\":\"surface\",\"colorbar\":{\"outlinewidth\":0,\"ticks\":\"\"},\"colorscale\":[[0.0,\"#0d0887\"],[0.1111111111111111,\"#46039f\"],[0.2222222222222222,\"#7201a8\"],[0.3333333333333333,\"#9c179e\"],[0.4444444444444444,\"#bd3786\"],[0.5555555555555556,\"#d8576b\"],[0.6666666666666666,\"#ed7953\"],[0.7777777777777778,\"#fb9f3a\"],[0.8888888888888888,\"#fdca26\"],[1.0,\"#f0f921\"]]}],\"mesh3d\":[{\"type\":\"mesh3d\",\"colorbar\":{\"outlinewidth\":0,\"ticks\":\"\"}}],\"scatter\":[{\"fillpattern\":{\"fillmode\":\"overlay\",\"size\":10,\"solidity\":0.2},\"type\":\"scatter\"}],\"parcoords\":[{\"type\":\"parcoords\",\"line\":{\"colorbar\":{\"outlinewidth\":0,\"ticks\":\"\"}}}],\"scatterpolargl\":[{\"type\":\"scatterpolargl\",\"marker\":{\"colorbar\":{\"outlinewidth\":0,\"ticks\":\"\"}}}],\"bar\":[{\"error_x\":{\"color\":\"#2a3f5f\"},\"error_y\":{\"color\":\"#2a3f5f\"},\"marker\":{\"line\":{\"color\":\"#E5ECF6\",\"width\":0.5},\"pattern\":{\"fillmode\":\"overlay\",\"size\":10,\"solidity\":0.2}},\"type\":\"bar\"}],\"scattergeo\":[{\"type\":\"scattergeo\",\"marker\":{\"colorbar\":{\"outlinewidth\":0,\"ticks\":\"\"}}}],\"scatterpolar\":[{\"type\":\"scatterpolar\",\"marker\":{\"colorbar\":{\"outlinewidth\":0,\"ticks\":\"\"}}}],\"histogram\":[{\"marker\":{\"pattern\":{\"fillmode\":\"overlay\",\"size\":10,\"solidity\":0.2}},\"type\":\"histogram\"}],\"scattergl\":[{\"type\":\"scattergl\",\"marker\":{\"colorbar\":{\"outlinewidth\":0,\"ticks\":\"\"}}}],\"scatter3d\":[{\"type\":\"scatter3d\",\"line\":{\"colorbar\":{\"outlinewidth\":0,\"ticks\":\"\"}},\"marker\":{\"colorbar\":{\"outlinewidth\":0,\"ticks\":\"\"}}}],\"scattermapbox\":[{\"type\":\"scattermapbox\",\"marker\":{\"colorbar\":{\"outlinewidth\":0,\"ticks\":\"\"}}}],\"scatterternary\":[{\"type\":\"scatterternary\",\"marker\":{\"colorbar\":{\"outlinewidth\":0,\"ticks\":\"\"}}}],\"scattercarpet\":[{\"type\":\"scattercarpet\",\"marker\":{\"colorbar\":{\"outlinewidth\":0,\"ticks\":\"\"}}}],\"carpet\":[{\"aaxis\":{\"endlinecolor\":\"#2a3f5f\",\"gridcolor\":\"white\",\"linecolor\":\"white\",\"minorgridcolor\":\"white\",\"startlinecolor\":\"#2a3f5f\"},\"baxis\":{\"endlinecolor\":\"#2a3f5f\",\"gridcolor\":\"white\",\"linecolor\":\"white\",\"minorgridcolor\":\"white\",\"startlinecolor\":\"#2a3f5f\"},\"type\":\"carpet\"}],\"table\":[{\"cells\":{\"fill\":{\"color\":\"#EBF0F8\"},\"line\":{\"color\":\"white\"}},\"header\":{\"fill\":{\"color\":\"#C8D4E3\"},\"line\":{\"color\":\"white\"}},\"type\":\"table\"}],\"barpolar\":[{\"marker\":{\"line\":{\"color\":\"#E5ECF6\",\"width\":0.5},\"pattern\":{\"fillmode\":\"overlay\",\"size\":10,\"solidity\":0.2}},\"type\":\"barpolar\"}],\"pie\":[{\"automargin\":true,\"type\":\"pie\"}]},\"layout\":{\"autotypenumbers\":\"strict\",\"colorway\":[\"#636efa\",\"#EF553B\",\"#00cc96\",\"#ab63fa\",\"#FFA15A\",\"#19d3f3\",\"#FF6692\",\"#B6E880\",\"#FF97FF\",\"#FECB52\"],\"font\":{\"color\":\"#2a3f5f\"},\"hovermode\":\"closest\",\"hoverlabel\":{\"align\":\"left\"},\"paper_bgcolor\":\"white\",\"plot_bgcolor\":\"#E5ECF6\",\"polar\":{\"bgcolor\":\"#E5ECF6\",\"angularaxis\":{\"gridcolor\":\"white\",\"linecolor\":\"white\",\"ticks\":\"\"},\"radialaxis\":{\"gridcolor\":\"white\",\"linecolor\":\"white\",\"ticks\":\"\"}},\"ternary\":{\"bgcolor\":\"#E5ECF6\",\"aaxis\":{\"gridcolor\":\"white\",\"linecolor\":\"white\",\"ticks\":\"\"},\"baxis\":{\"gridcolor\":\"white\",\"linecolor\":\"white\",\"ticks\":\"\"},\"caxis\":{\"gridcolor\":\"white\",\"linecolor\":\"white\",\"ticks\":\"\"}},\"coloraxis\":{\"colorbar\":{\"outlinewidth\":0,\"ticks\":\"\"}},\"colorscale\":{\"sequential\":[[0.0,\"#0d0887\"],[0.1111111111111111,\"#46039f\"],[0.2222222222222222,\"#7201a8\"],[0.3333333333333333,\"#9c179e\"],[0.4444444444444444,\"#bd3786\"],[0.5555555555555556,\"#d8576b\"],[0.6666666666666666,\"#ed7953\"],[0.7777777777777778,\"#fb9f3a\"],[0.8888888888888888,\"#fdca26\"],[1.0,\"#f0f921\"]],\"sequentialminus\":[[0.0,\"#0d0887\"],[0.1111111111111111,\"#46039f\"],[0.2222222222222222,\"#7201a8\"],[0.3333333333333333,\"#9c179e\"],[0.4444444444444444,\"#bd3786\"],[0.5555555555555556,\"#d8576b\"],[0.6666666666666666,\"#ed7953\"],[0.7777777777777778,\"#fb9f3a\"],[0.8888888888888888,\"#fdca26\"],[1.0,\"#f0f921\"]],\"diverging\":[[0,\"#8e0152\"],[0.1,\"#c51b7d\"],[0.2,\"#de77ae\"],[0.3,\"#f1b6da\"],[0.4,\"#fde0ef\"],[0.5,\"#f7f7f7\"],[0.6,\"#e6f5d0\"],[0.7,\"#b8e186\"],[0.8,\"#7fbc41\"],[0.9,\"#4d9221\"],[1,\"#276419\"]]},\"xaxis\":{\"gridcolor\":\"white\",\"linecolor\":\"white\",\"ticks\":\"\",\"title\":{\"standoff\":15},\"zerolinecolor\":\"white\",\"automargin\":true,\"zerolinewidth\":2},\"yaxis\":{\"gridcolor\":\"white\",\"linecolor\":\"white\",\"ticks\":\"\",\"title\":{\"standoff\":15},\"zerolinecolor\":\"white\",\"automargin\":true,\"zerolinewidth\":2},\"scene\":{\"xaxis\":{\"backgroundcolor\":\"#E5ECF6\",\"gridcolor\":\"white\",\"linecolor\":\"white\",\"showbackground\":true,\"ticks\":\"\",\"zerolinecolor\":\"white\",\"gridwidth\":2},\"yaxis\":{\"backgroundcolor\":\"#E5ECF6\",\"gridcolor\":\"white\",\"linecolor\":\"white\",\"showbackground\":true,\"ticks\":\"\",\"zerolinecolor\":\"white\",\"gridwidth\":2},\"zaxis\":{\"backgroundcolor\":\"#E5ECF6\",\"gridcolor\":\"white\",\"linecolor\":\"white\",\"showbackground\":true,\"ticks\":\"\",\"zerolinecolor\":\"white\",\"gridwidth\":2}},\"shapedefaults\":{\"line\":{\"color\":\"#2a3f5f\"}},\"annotationdefaults\":{\"arrowcolor\":\"#2a3f5f\",\"arrowhead\":0,\"arrowwidth\":1},\"geo\":{\"bgcolor\":\"white\",\"landcolor\":\"#E5ECF6\",\"subunitcolor\":\"white\",\"showland\":true,\"showlakes\":true,\"lakecolor\":\"white\"},\"title\":{\"x\":0.05},\"mapbox\":{\"style\":\"light\"}}},\"xaxis\":{\"anchor\":\"y\",\"domain\":[0.0,1.0],\"title\":{\"text\":\"x\"}},\"yaxis\":{\"anchor\":\"x\",\"domain\":[0.0,1.0],\"title\":{\"text\":\"make\"}},\"legend\":{\"tracegroupgap\":0},\"margin\":{\"t\":60},\"boxmode\":\"group\"},                        {\"responsive\": true}                    ).then(function(){\n",
       "                            \n",
       "var gd = document.getElementById('b5901744-9a29-4c8d-8c0e-4c7414ea5ea6');\n",
       "var x = new MutationObserver(function (mutations, observer) {{\n",
       "        var display = window.getComputedStyle(gd).display;\n",
       "        if (!display || display === 'none') {{\n",
       "            console.log([gd, 'removed!']);\n",
       "            Plotly.purge(gd);\n",
       "            observer.disconnect();\n",
       "        }}\n",
       "}});\n",
       "\n",
       "// Listen for the removal of the full notebook cells\n",
       "var notebookContainer = gd.closest('#notebook-container');\n",
       "if (notebookContainer) {{\n",
       "    x.observe(notebookContainer, {childList: true});\n",
       "}}\n",
       "\n",
       "// Listen for the clearing of the current output cell\n",
       "var outputEl = gd.closest('.output');\n",
       "if (outputEl) {{\n",
       "    x.observe(outputEl, {childList: true});\n",
       "}}\n",
       "\n",
       "                        })                };                });            </script>        </div>"
      ]
     },
     "metadata": {},
     "output_type": "display_data"
    }
   ],
   "source": [
    "t=px.data.tips()\n",
    "fig=px.box(features,x=target,y=\"make\")\n",
    "fig.show()"
   ]
  },
  {
   "cell_type": "code",
   "execution_count": 141,
   "id": "e99551a4",
   "metadata": {},
   "outputs": [
    {
     "data": {
      "text/plain": [
       "<AxesSubplot:xlabel='price', ylabel='make'>"
      ]
     },
     "execution_count": 141,
     "metadata": {},
     "output_type": "execute_result"
    },
    {
     "data": {
      "image/png": "[encoded data removed]",
      "text/plain": [
       "<Figure size 432x288 with 1 Axes>"
      ]
     },
     "metadata": {
      "needs_background": "light"
     },
     "output_type": "display_data"
    }
   ],
   "source": [
    "sns.boxplot(data=features,x=target,y=\"make\")"
   ]
  },
  {
   "cell_type": "code",
   "execution_count": 142,
   "id": "871f146f",
   "metadata": {},
   "outputs": [
    {
     "data": {
      "text/html": [
       "<div>\n",
       "<style scoped>\n",
       "    .dataframe tbody tr th:only-of-type {\n",
       "        vertical-align: middle;\n",
       "    }\n",
       "\n",
       "    .dataframe tbody tr th {\n",
       "        vertical-align: top;\n",
       "    }\n",
       "\n",
       "    .dataframe thead th {\n",
       "        text-align: right;\n",
       "    }\n",
       "</style>\n",
       "<table border=\"1\" class=\"dataframe\">\n",
       "  <thead>\n",
       "    <tr style=\"text-align: right;\">\n",
       "      <th></th>\n",
       "      <th>symboling</th>\n",
       "      <th>normalized-losses</th>\n",
       "      <th>make</th>\n",
       "      <th>fuel-type</th>\n",
       "      <th>body-style</th>\n",
       "      <th>drive-wheels</th>\n",
       "      <th>engine-location</th>\n",
       "      <th>width</th>\n",
       "      <th>height</th>\n",
       "      <th>engine-type</th>\n",
       "      <th>engine-size</th>\n",
       "      <th>horsepower</th>\n",
       "      <th>city-mpg</th>\n",
       "      <th>highway-mpg</th>\n",
       "    </tr>\n",
       "  </thead>\n",
       "  <tbody>\n",
       "    <tr>\n",
       "      <th>29</th>\n",
       "      <td>3</td>\n",
       "      <td>145.0</td>\n",
       "      <td>dodge</td>\n",
       "      <td>gas</td>\n",
       "      <td>hatchback</td>\n",
       "      <td>fwd</td>\n",
       "      <td>front</td>\n",
       "      <td>66.3</td>\n",
       "      <td>50.2</td>\n",
       "      <td>ohc</td>\n",
       "      <td>156</td>\n",
       "      <td>145.0</td>\n",
       "      <td>19</td>\n",
       "      <td>24</td>\n",
       "    </tr>\n",
       "  </tbody>\n",
       "</table>\n",
       "</div>"
      ],
      "text/plain": [
       "    symboling  normalized-losses   make fuel-type body-style drive-wheels  \\\n",
       "29          3              145.0  dodge       gas  hatchback          fwd   \n",
       "\n",
       "   engine-location  width  height engine-type  engine-size  horsepower  \\\n",
       "29           front   66.3    50.2         ohc          156       145.0   \n",
       "\n",
       "    city-mpg  highway-mpg  \n",
       "29        19           24  "
      ]
     },
     "execution_count": 142,
     "metadata": {},
     "output_type": "execute_result"
    }
   ],
   "source": [
    "features[(features[\"make\"]==\"dodge\") & (target>8921)]"
   ]
  },
  {
   "cell_type": "code",
   "execution_count": 143,
   "id": "4fc5991e",
   "metadata": {},
   "outputs": [],
   "source": [
    "features.drop(29,axis=0,inplace=True)"
   ]
  },
  {
   "cell_type": "code",
   "execution_count": 144,
   "id": "c9b74a0b",
   "metadata": {},
   "outputs": [],
   "source": [
    "target.drop(29,axis=0,inplace=True)"
   ]
  },
  {
   "cell_type": "code",
   "execution_count": 145,
   "id": "1060545b",
   "metadata": {},
   "outputs": [
    {
     "data": {
      "text/html": [
       "<div>\n",
       "<style scoped>\n",
       "    .dataframe tbody tr th:only-of-type {\n",
       "        vertical-align: middle;\n",
       "    }\n",
       "\n",
       "    .dataframe tbody tr th {\n",
       "        vertical-align: top;\n",
       "    }\n",
       "\n",
       "    .dataframe thead th {\n",
       "        text-align: right;\n",
       "    }\n",
       "</style>\n",
       "<table border=\"1\" class=\"dataframe\">\n",
       "  <thead>\n",
       "    <tr style=\"text-align: right;\">\n",
       "      <th></th>\n",
       "      <th>symboling</th>\n",
       "      <th>normalized-losses</th>\n",
       "      <th>make</th>\n",
       "      <th>fuel-type</th>\n",
       "      <th>body-style</th>\n",
       "      <th>drive-wheels</th>\n",
       "      <th>engine-location</th>\n",
       "      <th>width</th>\n",
       "      <th>height</th>\n",
       "      <th>engine-type</th>\n",
       "      <th>engine-size</th>\n",
       "      <th>horsepower</th>\n",
       "      <th>city-mpg</th>\n",
       "      <th>highway-mpg</th>\n",
       "    </tr>\n",
       "  </thead>\n",
       "  <tbody>\n",
       "  </tbody>\n",
       "</table>\n",
       "</div>"
      ],
      "text/plain": [
       "Empty DataFrame\n",
       "Columns: [symboling, normalized-losses, make, fuel-type, body-style, drive-wheels, engine-location, width, height, engine-type, engine-size, horsepower, city-mpg, highway-mpg]\n",
       "Index: []"
      ]
     },
     "execution_count": 145,
     "metadata": {},
     "output_type": "execute_result"
    }
   ],
   "source": [
    "features[(features[\"make\"]==\"dodge\") & (target>8921)]"
   ]
  },
  {
   "cell_type": "code",
   "execution_count": 146,
   "id": "0207ef75",
   "metadata": {},
   "outputs": [
    {
     "data": {
      "text/html": [
       "<div>\n",
       "<style scoped>\n",
       "    .dataframe tbody tr th:only-of-type {\n",
       "        vertical-align: middle;\n",
       "    }\n",
       "\n",
       "    .dataframe tbody tr th {\n",
       "        vertical-align: top;\n",
       "    }\n",
       "\n",
       "    .dataframe thead th {\n",
       "        text-align: right;\n",
       "    }\n",
       "</style>\n",
       "<table border=\"1\" class=\"dataframe\">\n",
       "  <thead>\n",
       "    <tr style=\"text-align: right;\">\n",
       "      <th></th>\n",
       "      <th>symboling</th>\n",
       "      <th>normalized-losses</th>\n",
       "      <th>make</th>\n",
       "      <th>fuel-type</th>\n",
       "      <th>body-style</th>\n",
       "      <th>drive-wheels</th>\n",
       "      <th>engine-location</th>\n",
       "      <th>width</th>\n",
       "      <th>height</th>\n",
       "      <th>engine-type</th>\n",
       "      <th>engine-size</th>\n",
       "      <th>horsepower</th>\n",
       "      <th>city-mpg</th>\n",
       "      <th>highway-mpg</th>\n",
       "    </tr>\n",
       "  </thead>\n",
       "  <tbody>\n",
       "    <tr>\n",
       "      <th>172</th>\n",
       "      <td>2</td>\n",
       "      <td>134.0</td>\n",
       "      <td>toyota</td>\n",
       "      <td>gas</td>\n",
       "      <td>convertible</td>\n",
       "      <td>rwd</td>\n",
       "      <td>front</td>\n",
       "      <td>65.6</td>\n",
       "      <td>53.0</td>\n",
       "      <td>ohc</td>\n",
       "      <td>146</td>\n",
       "      <td>116.0</td>\n",
       "      <td>24</td>\n",
       "      <td>30</td>\n",
       "    </tr>\n",
       "    <tr>\n",
       "      <th>178</th>\n",
       "      <td>3</td>\n",
       "      <td>197.0</td>\n",
       "      <td>toyota</td>\n",
       "      <td>gas</td>\n",
       "      <td>hatchback</td>\n",
       "      <td>rwd</td>\n",
       "      <td>front</td>\n",
       "      <td>67.7</td>\n",
       "      <td>52.0</td>\n",
       "      <td>dohc</td>\n",
       "      <td>171</td>\n",
       "      <td>161.0</td>\n",
       "      <td>20</td>\n",
       "      <td>24</td>\n",
       "    </tr>\n",
       "  </tbody>\n",
       "</table>\n",
       "</div>"
      ],
      "text/plain": [
       "     symboling  normalized-losses    make fuel-type   body-style drive-wheels  \\\n",
       "172          2              134.0  toyota       gas  convertible          rwd   \n",
       "178          3              197.0  toyota       gas    hatchback          rwd   \n",
       "\n",
       "    engine-location  width  height engine-type  engine-size  horsepower  \\\n",
       "172           front   65.6    53.0         ohc          146       116.0   \n",
       "178           front   67.7    52.0        dohc          171       161.0   \n",
       "\n",
       "     city-mpg  highway-mpg  \n",
       "172        24           30  \n",
       "178        20           24  "
      ]
     },
     "execution_count": 146,
     "metadata": {},
     "output_type": "execute_result"
    }
   ],
   "source": [
    "features[(features[\"make\"]==\"toyota\") & (target>15998)]"
   ]
  },
  {
   "cell_type": "code",
   "execution_count": 147,
   "id": "ec247621",
   "metadata": {},
   "outputs": [],
   "source": [
    "i=features[(features[\"make\"]==\"toyota\") & (target>15998)].index\n",
    "features.drop(i,axis=0,inplace=True)"
   ]
  },
  {
   "cell_type": "code",
   "execution_count": 148,
   "id": "7887066f",
   "metadata": {},
   "outputs": [],
   "source": [
    "target.drop(i,axis=0,inplace=True)"
   ]
  },
  {
   "cell_type": "code",
   "execution_count": 149,
   "id": "ddce13fc",
   "metadata": {},
   "outputs": [
    {
     "data": {
      "text/html": [
       "<div>\n",
       "<style scoped>\n",
       "    .dataframe tbody tr th:only-of-type {\n",
       "        vertical-align: middle;\n",
       "    }\n",
       "\n",
       "    .dataframe tbody tr th {\n",
       "        vertical-align: top;\n",
       "    }\n",
       "\n",
       "    .dataframe thead th {\n",
       "        text-align: right;\n",
       "    }\n",
       "</style>\n",
       "<table border=\"1\" class=\"dataframe\">\n",
       "  <thead>\n",
       "    <tr style=\"text-align: right;\">\n",
       "      <th></th>\n",
       "      <th>symboling</th>\n",
       "      <th>normalized-losses</th>\n",
       "      <th>make</th>\n",
       "      <th>fuel-type</th>\n",
       "      <th>body-style</th>\n",
       "      <th>drive-wheels</th>\n",
       "      <th>engine-location</th>\n",
       "      <th>width</th>\n",
       "      <th>height</th>\n",
       "      <th>engine-type</th>\n",
       "      <th>engine-size</th>\n",
       "      <th>horsepower</th>\n",
       "      <th>city-mpg</th>\n",
       "      <th>highway-mpg</th>\n",
       "    </tr>\n",
       "  </thead>\n",
       "  <tbody>\n",
       "  </tbody>\n",
       "</table>\n",
       "</div>"
      ],
      "text/plain": [
       "Empty DataFrame\n",
       "Columns: [symboling, normalized-losses, make, fuel-type, body-style, drive-wheels, engine-location, width, height, engine-type, engine-size, horsepower, city-mpg, highway-mpg]\n",
       "Index: []"
      ]
     },
     "execution_count": 149,
     "metadata": {},
     "output_type": "execute_result"
    }
   ],
   "source": [
    "features[(features[\"make\"]==\"toyota\") & (target>15998)]"
   ]
  },
  {
   "cell_type": "code",
   "execution_count": 150,
   "id": "9ab20641",
   "metadata": {},
   "outputs": [],
   "source": [
    "features[(features[\"make\"]==\"honda\") & (target>9395)]\n",
    "features.drop([40,41,42],axis=0,inplace=True)\n",
    "target.drop([40,41,42],axis=0,inplace=True)"
   ]
  },
  {
   "cell_type": "code",
   "execution_count": 151,
   "id": "6ce75d35",
   "metadata": {},
   "outputs": [],
   "source": [
    "i=features[(features[\"make\"]==\"isuzu\") & (target>17000)].index\n",
    "features.drop(i,axis=0,inplace=True)\n",
    "target.drop(i,axis=0,inplace=True)"
   ]
  },
  {
   "cell_type": "code",
   "execution_count": 152,
   "id": "6fdf81e3",
   "metadata": {},
   "outputs": [],
   "source": [
    "i=features[(features[\"make\"]==\"mitsubishi\") & (target>11000)].index\n",
    "features.drop(i,axis=0,inplace=True)\n",
    "target.drop(i,axis=0,inplace=True)"
   ]
  },
  {
   "cell_type": "code",
   "execution_count": 153,
   "id": "2e8ed869",
   "metadata": {},
   "outputs": [],
   "source": [
    "i=features[(features[\"make\"]==\"plymouth\") & (target>8921)].index\n",
    "features.drop(i,axis=0,inplace=True)\n",
    "target.drop(i,axis=0,inplace=True)"
   ]
  },
  {
   "cell_type": "code",
   "execution_count": 154,
   "id": "ed9c3abd",
   "metadata": {},
   "outputs": [],
   "source": [
    "i=features[(features[\"make\"]==\"toyota\") & (target>15000)].index\n",
    "features.drop(i,axis=0,inplace=True)\n",
    "target.drop(i,axis=0,inplace=True)"
   ]
  },
  {
   "cell_type": "code",
   "execution_count": 155,
   "id": "1c033d17",
   "metadata": {},
   "outputs": [
    {
     "data": {
      "text/plain": [
       "<AxesSubplot:xlabel='price', ylabel='make'>"
      ]
     },
     "execution_count": 155,
     "metadata": {},
     "output_type": "execute_result"
    },
    {
     "data": {
      "image/png": "[encoded data removed]",
      "text/plain": [
       "<Figure size 432x288 with 1 Axes>"
      ]
     },
     "metadata": {
      "needs_background": "light"
     },
     "output_type": "display_data"
    }
   ],
   "source": [
    "sns.boxplot(data=features,x=target,y=\"make\")"
   ]
  },
  {
   "cell_type": "code",
   "execution_count": 156,
   "id": "f695e260",
   "metadata": {},
   "outputs": [
    {
     "data": {
      "text/html": [
       "<div>\n",
       "<style scoped>\n",
       "    .dataframe tbody tr th:only-of-type {\n",
       "        vertical-align: middle;\n",
       "    }\n",
       "\n",
       "    .dataframe tbody tr th {\n",
       "        vertical-align: top;\n",
       "    }\n",
       "\n",
       "    .dataframe thead th {\n",
       "        text-align: right;\n",
       "    }\n",
       "</style>\n",
       "<table border=\"1\" class=\"dataframe\">\n",
       "  <thead>\n",
       "    <tr style=\"text-align: right;\">\n",
       "      <th></th>\n",
       "      <th>symboling</th>\n",
       "      <th>normalized-losses</th>\n",
       "      <th>make</th>\n",
       "      <th>fuel-type</th>\n",
       "      <th>body-style</th>\n",
       "      <th>drive-wheels</th>\n",
       "      <th>engine-location</th>\n",
       "      <th>width</th>\n",
       "      <th>height</th>\n",
       "      <th>engine-type</th>\n",
       "      <th>engine-size</th>\n",
       "      <th>horsepower</th>\n",
       "      <th>city-mpg</th>\n",
       "      <th>highway-mpg</th>\n",
       "    </tr>\n",
       "  </thead>\n",
       "  <tbody>\n",
       "    <tr>\n",
       "      <th>75</th>\n",
       "      <td>1</td>\n",
       "      <td>122.0</td>\n",
       "      <td>mercury</td>\n",
       "      <td>gas</td>\n",
       "      <td>hatchback</td>\n",
       "      <td>rwd</td>\n",
       "      <td>front</td>\n",
       "      <td>68.0</td>\n",
       "      <td>54.8</td>\n",
       "      <td>ohc</td>\n",
       "      <td>140</td>\n",
       "      <td>175.0</td>\n",
       "      <td>19</td>\n",
       "      <td>24</td>\n",
       "    </tr>\n",
       "  </tbody>\n",
       "</table>\n",
       "</div>"
      ],
      "text/plain": [
       "    symboling  normalized-losses     make fuel-type body-style drive-wheels  \\\n",
       "75          1              122.0  mercury       gas  hatchback          rwd   \n",
       "\n",
       "   engine-location  width  height engine-type  engine-size  horsepower  \\\n",
       "75           front   68.0    54.8         ohc          140       175.0   \n",
       "\n",
       "    city-mpg  highway-mpg  \n",
       "75        19           24  "
      ]
     },
     "execution_count": 156,
     "metadata": {},
     "output_type": "execute_result"
    }
   ],
   "source": [
    "features[(features[\"make\"]==\"mercury\")]"
   ]
  },
  {
   "cell_type": "code",
   "execution_count": 157,
   "id": "856562c9",
   "metadata": {},
   "outputs": [
    {
     "data": {
      "text/plain": [
       "Int64Index([75], dtype='int64')"
      ]
     },
     "execution_count": 157,
     "metadata": {},
     "output_type": "execute_result"
    }
   ],
   "source": [
    "df[df[\"make\"]==\"mercury\"].index"
   ]
  },
  {
   "cell_type": "code",
   "execution_count": 158,
   "id": "b2b54d26",
   "metadata": {},
   "outputs": [
    {
     "data": {
      "text/plain": [
       "9959"
      ]
     },
     "execution_count": 158,
     "metadata": {},
     "output_type": "execute_result"
    }
   ],
   "source": [
    "target.iloc[75]"
   ]
  },
  {
   "cell_type": "code",
   "execution_count": 159,
   "id": "f7fbe31e",
   "metadata": {},
   "outputs": [
    {
     "data": {
      "text/plain": [
       "symboling                     3\n",
       "normalized-losses         153.0\n",
       "make                 mitsubishi\n",
       "fuel-type                   gas\n",
       "body-style            hatchback\n",
       "drive-wheels                fwd\n",
       "engine-location           front\n",
       "width                      65.4\n",
       "height                     49.4\n",
       "engine-type                 ohc\n",
       "engine-size                 110\n",
       "horsepower                116.0\n",
       "city-mpg                     23\n",
       "highway-mpg                  30\n",
       "Name: 80, dtype: object"
      ]
     },
     "execution_count": 159,
     "metadata": {},
     "output_type": "execute_result"
    }
   ],
   "source": [
    "features.iloc[75,:]"
   ]
  },
  {
   "cell_type": "code",
   "execution_count": 160,
   "id": "722905c9",
   "metadata": {},
   "outputs": [],
   "source": [
    "# Skewness removal"
   ]
  },
  {
   "cell_type": "code",
   "execution_count": 161,
   "id": "b73b2969",
   "metadata": {},
   "outputs": [
    {
     "name": "stdout",
     "output_type": "stream",
     "text": [
      "<class 'pandas.core.frame.DataFrame'>\n",
      "Int64Index: 191 entries, 0 to 204\n",
      "Data columns (total 14 columns):\n",
      " #   Column             Non-Null Count  Dtype  \n",
      "---  ------             --------------  -----  \n",
      " 0   symboling          191 non-null    int64  \n",
      " 1   normalized-losses  191 non-null    float64\n",
      " 2   make               191 non-null    object \n",
      " 3   fuel-type          191 non-null    object \n",
      " 4   body-style         191 non-null    object \n",
      " 5   drive-wheels       191 non-null    object \n",
      " 6   engine-location    191 non-null    object \n",
      " 7   width              191 non-null    float64\n",
      " 8   height             191 non-null    float64\n",
      " 9   engine-type        191 non-null    object \n",
      " 10  engine-size        191 non-null    int64  \n",
      " 11  horsepower         191 non-null    float64\n",
      " 12  city-mpg           191 non-null    int64  \n",
      " 13  highway-mpg        191 non-null    int64  \n",
      "dtypes: float64(4), int64(4), object(6)\n",
      "memory usage: 22.4+ KB\n"
     ]
    }
   ],
   "source": [
    "features.info()"
   ]
  },
  {
   "cell_type": "code",
   "execution_count": 162,
   "id": "61682896",
   "metadata": {},
   "outputs": [],
   "source": [
    "colname=features.select_dtypes([\"float64\",\"int64\"]).columns"
   ]
  },
  {
   "cell_type": "code",
   "execution_count": 163,
   "id": "c1f7ac84",
   "metadata": {},
   "outputs": [
    {
     "data": {
      "text/html": [
       "<div>\n",
       "<style scoped>\n",
       "    .dataframe tbody tr th:only-of-type {\n",
       "        vertical-align: middle;\n",
       "    }\n",
       "\n",
       "    .dataframe tbody tr th {\n",
       "        vertical-align: top;\n",
       "    }\n",
       "\n",
       "    .dataframe thead th {\n",
       "        text-align: right;\n",
       "    }\n",
       "</style>\n",
       "<table border=\"1\" class=\"dataframe\">\n",
       "  <thead>\n",
       "    <tr style=\"text-align: right;\">\n",
       "      <th></th>\n",
       "      <th>symboling</th>\n",
       "      <th>normalized-losses</th>\n",
       "      <th>width</th>\n",
       "      <th>height</th>\n",
       "      <th>engine-size</th>\n",
       "      <th>horsepower</th>\n",
       "      <th>city-mpg</th>\n",
       "      <th>highway-mpg</th>\n",
       "    </tr>\n",
       "  </thead>\n",
       "  <tbody>\n",
       "    <tr>\n",
       "      <th>0</th>\n",
       "      <td>3</td>\n",
       "      <td>122.0</td>\n",
       "      <td>64.1</td>\n",
       "      <td>48.8</td>\n",
       "      <td>130</td>\n",
       "      <td>111.0</td>\n",
       "      <td>21</td>\n",
       "      <td>27</td>\n",
       "    </tr>\n",
       "    <tr>\n",
       "      <th>1</th>\n",
       "      <td>3</td>\n",
       "      <td>122.0</td>\n",
       "      <td>64.1</td>\n",
       "      <td>48.8</td>\n",
       "      <td>130</td>\n",
       "      <td>111.0</td>\n",
       "      <td>21</td>\n",
       "      <td>27</td>\n",
       "    </tr>\n",
       "    <tr>\n",
       "      <th>2</th>\n",
       "      <td>1</td>\n",
       "      <td>122.0</td>\n",
       "      <td>65.5</td>\n",
       "      <td>52.4</td>\n",
       "      <td>152</td>\n",
       "      <td>154.0</td>\n",
       "      <td>19</td>\n",
       "      <td>26</td>\n",
       "    </tr>\n",
       "    <tr>\n",
       "      <th>3</th>\n",
       "      <td>2</td>\n",
       "      <td>164.0</td>\n",
       "      <td>66.2</td>\n",
       "      <td>54.3</td>\n",
       "      <td>109</td>\n",
       "      <td>102.0</td>\n",
       "      <td>24</td>\n",
       "      <td>30</td>\n",
       "    </tr>\n",
       "    <tr>\n",
       "      <th>4</th>\n",
       "      <td>2</td>\n",
       "      <td>164.0</td>\n",
       "      <td>66.4</td>\n",
       "      <td>54.3</td>\n",
       "      <td>136</td>\n",
       "      <td>115.0</td>\n",
       "      <td>18</td>\n",
       "      <td>22</td>\n",
       "    </tr>\n",
       "    <tr>\n",
       "      <th>...</th>\n",
       "      <td>...</td>\n",
       "      <td>...</td>\n",
       "      <td>...</td>\n",
       "      <td>...</td>\n",
       "      <td>...</td>\n",
       "      <td>...</td>\n",
       "      <td>...</td>\n",
       "      <td>...</td>\n",
       "    </tr>\n",
       "    <tr>\n",
       "      <th>200</th>\n",
       "      <td>-1</td>\n",
       "      <td>95.0</td>\n",
       "      <td>68.9</td>\n",
       "      <td>55.5</td>\n",
       "      <td>141</td>\n",
       "      <td>114.0</td>\n",
       "      <td>23</td>\n",
       "      <td>28</td>\n",
       "    </tr>\n",
       "    <tr>\n",
       "      <th>201</th>\n",
       "      <td>-1</td>\n",
       "      <td>95.0</td>\n",
       "      <td>68.8</td>\n",
       "      <td>55.5</td>\n",
       "      <td>141</td>\n",
       "      <td>160.0</td>\n",
       "      <td>19</td>\n",
       "      <td>25</td>\n",
       "    </tr>\n",
       "    <tr>\n",
       "      <th>202</th>\n",
       "      <td>-1</td>\n",
       "      <td>95.0</td>\n",
       "      <td>68.9</td>\n",
       "      <td>55.5</td>\n",
       "      <td>173</td>\n",
       "      <td>134.0</td>\n",
       "      <td>18</td>\n",
       "      <td>23</td>\n",
       "    </tr>\n",
       "    <tr>\n",
       "      <th>203</th>\n",
       "      <td>-1</td>\n",
       "      <td>95.0</td>\n",
       "      <td>68.9</td>\n",
       "      <td>55.5</td>\n",
       "      <td>145</td>\n",
       "      <td>106.0</td>\n",
       "      <td>26</td>\n",
       "      <td>27</td>\n",
       "    </tr>\n",
       "    <tr>\n",
       "      <th>204</th>\n",
       "      <td>-1</td>\n",
       "      <td>95.0</td>\n",
       "      <td>68.9</td>\n",
       "      <td>55.5</td>\n",
       "      <td>141</td>\n",
       "      <td>114.0</td>\n",
       "      <td>19</td>\n",
       "      <td>25</td>\n",
       "    </tr>\n",
       "  </tbody>\n",
       "</table>\n",
       "<p>191 rows × 8 columns</p>\n",
       "</div>"
      ],
      "text/plain": [
       "     symboling  normalized-losses  width  height  engine-size  horsepower  \\\n",
       "0            3              122.0   64.1    48.8          130       111.0   \n",
       "1            3              122.0   64.1    48.8          130       111.0   \n",
       "2            1              122.0   65.5    52.4          152       154.0   \n",
       "3            2              164.0   66.2    54.3          109       102.0   \n",
       "4            2              164.0   66.4    54.3          136       115.0   \n",
       "..         ...                ...    ...     ...          ...         ...   \n",
       "200         -1               95.0   68.9    55.5          141       114.0   \n",
       "201         -1               95.0   68.8    55.5          141       160.0   \n",
       "202         -1               95.0   68.9    55.5          173       134.0   \n",
       "203         -1               95.0   68.9    55.5          145       106.0   \n",
       "204         -1               95.0   68.9    55.5          141       114.0   \n",
       "\n",
       "     city-mpg  highway-mpg  \n",
       "0          21           27  \n",
       "1          21           27  \n",
       "2          19           26  \n",
       "3          24           30  \n",
       "4          18           22  \n",
       "..        ...          ...  \n",
       "200        23           28  \n",
       "201        19           25  \n",
       "202        18           23  \n",
       "203        26           27  \n",
       "204        19           25  \n",
       "\n",
       "[191 rows x 8 columns]"
      ]
     },
     "execution_count": 163,
     "metadata": {},
     "output_type": "execute_result"
    }
   ],
   "source": [
    "features[colname]"
   ]
  },
  {
   "cell_type": "code",
   "execution_count": 164,
   "id": "a44c995e",
   "metadata": {},
   "outputs": [],
   "source": [
    "from scipy.stats import skew"
   ]
  },
  {
   "cell_type": "code",
   "execution_count": 165,
   "id": "b9a0ec0f",
   "metadata": {},
   "outputs": [
    {
     "data": {
      "text/plain": [
       "0.8355271321292326"
      ]
     },
     "execution_count": 165,
     "metadata": {},
     "output_type": "execute_result"
    }
   ],
   "source": [
    "skew(features[\"normalized-losses\"])"
   ]
  },
  {
   "cell_type": "code",
   "execution_count": 166,
   "id": "b0dd76be",
   "metadata": {},
   "outputs": [
    {
     "name": "stdout",
     "output_type": "stream",
     "text": [
      "symboling\n",
      "0.20852128897880182\n"
     ]
    },
    {
     "data": {
      "image/png": "[encoded data removed]",
      "text/plain": [
       "<Figure size 432x288 with 1 Axes>"
      ]
     },
     "metadata": {
      "needs_background": "light"
     },
     "output_type": "display_data"
    },
    {
     "name": "stdout",
     "output_type": "stream",
     "text": [
      "normalized-losses\n",
      "0.8355271321292326\n"
     ]
    },
    {
     "data": {
      "image/png": "[encoded data removed]",
      "text/plain": [
       "<Figure size 432x288 with 1 Axes>"
      ]
     },
     "metadata": {
      "needs_background": "light"
     },
     "output_type": "display_data"
    },
    {
     "name": "stdout",
     "output_type": "stream",
     "text": [
      "width\n",
      "0.9233175535392493\n"
     ]
    },
    {
     "data": {
      "image/png": "[encoded data removed]",
      "text/plain": [
       "<Figure size 432x288 with 1 Axes>"
      ]
     },
     "metadata": {
      "needs_background": "light"
     },
     "output_type": "display_data"
    },
    {
     "name": "stdout",
     "output_type": "stream",
     "text": [
      "height\n",
      "-0.00032469419681068097\n"
     ]
    },
    {
     "data": {
      "image/png": "[encoded data removed]",
      "text/plain": [
       "<Figure size 432x288 with 1 Axes>"
      ]
     },
     "metadata": {
      "needs_background": "light"
     },
     "output_type": "display_data"
    },
    {
     "name": "stdout",
     "output_type": "stream",
     "text": [
      "engine-size\n",
      "2.049142065812302\n"
     ]
    },
    {
     "data": {
      "image/png": "[encoded data removed]",
      "text/plain": [
       "<Figure size 432x288 with 1 Axes>"
      ]
     },
     "metadata": {
      "needs_background": "light"
     },
     "output_type": "display_data"
    },
    {
     "name": "stdout",
     "output_type": "stream",
     "text": [
      "horsepower\n",
      "1.5631842359574493\n"
     ]
    },
    {
     "data": {
      "image/png": "[encoded data removed]",
      "text/plain": [
       "<Figure size 432x288 with 1 Axes>"
      ]
     },
     "metadata": {
      "needs_background": "light"
     },
     "output_type": "display_data"
    },
    {
     "name": "stdout",
     "output_type": "stream",
     "text": [
      "city-mpg\n",
      "0.5923040642413773\n"
     ]
    },
    {
     "data": {
      "image/png": "[encoded data removed]",
      "text/plain": [
       "<Figure size 432x288 with 1 Axes>"
      ]
     },
     "metadata": {
      "needs_background": "light"
     },
     "output_type": "display_data"
    },
    {
     "name": "stdout",
     "output_type": "stream",
     "text": [
      "highway-mpg\n",
      "0.47049709328895595\n"
     ]
    },
    {
     "data": {
      "image/png": "[encoded data removed]",
      "text/plain": [
       "<Figure size 432x288 with 1 Axes>"
      ]
     },
     "metadata": {
      "needs_background": "light"
     },
     "output_type": "display_data"
    }
   ],
   "source": [
    "for col in features[colname]:\n",
    "    print(col)\n",
    "    print(skew(features[col]))\n",
    "    \n",
    "    plt.figure()\n",
    "    sns.distplot(features[col])\n",
    "    plt.show()\n",
    "    "
   ]
  },
  {
   "cell_type": "code",
   "execution_count": 167,
   "id": "17d57cc7",
   "metadata": {},
   "outputs": [
    {
     "data": {
      "text/html": [
       "<div>\n",
       "<style scoped>\n",
       "    .dataframe tbody tr th:only-of-type {\n",
       "        vertical-align: middle;\n",
       "    }\n",
       "\n",
       "    .dataframe tbody tr th {\n",
       "        vertical-align: top;\n",
       "    }\n",
       "\n",
       "    .dataframe thead th {\n",
       "        text-align: right;\n",
       "    }\n",
       "</style>\n",
       "<table border=\"1\" class=\"dataframe\">\n",
       "  <thead>\n",
       "    <tr style=\"text-align: right;\">\n",
       "      <th></th>\n",
       "      <th>symboling</th>\n",
       "      <th>normalized-losses</th>\n",
       "      <th>width</th>\n",
       "      <th>height</th>\n",
       "      <th>engine-size</th>\n",
       "      <th>horsepower</th>\n",
       "      <th>city-mpg</th>\n",
       "      <th>highway-mpg</th>\n",
       "      <th>price</th>\n",
       "    </tr>\n",
       "  </thead>\n",
       "  <tbody>\n",
       "    <tr>\n",
       "      <th>symboling</th>\n",
       "      <td>1.000000</td>\n",
       "      <td>0.465190</td>\n",
       "      <td>-0.232919</td>\n",
       "      <td>-0.541038</td>\n",
       "      <td>-0.105790</td>\n",
       "      <td>0.071389</td>\n",
       "      <td>-0.035823</td>\n",
       "      <td>0.034606</td>\n",
       "      <td>-0.085781</td>\n",
       "    </tr>\n",
       "    <tr>\n",
       "      <th>normalized-losses</th>\n",
       "      <td>0.465190</td>\n",
       "      <td>1.000000</td>\n",
       "      <td>0.084195</td>\n",
       "      <td>-0.370706</td>\n",
       "      <td>0.110997</td>\n",
       "      <td>0.203434</td>\n",
       "      <td>-0.218749</td>\n",
       "      <td>-0.178221</td>\n",
       "      <td>0.133424</td>\n",
       "    </tr>\n",
       "    <tr>\n",
       "      <th>width</th>\n",
       "      <td>-0.232919</td>\n",
       "      <td>0.084195</td>\n",
       "      <td>1.000000</td>\n",
       "      <td>0.279210</td>\n",
       "      <td>0.735433</td>\n",
       "      <td>0.642195</td>\n",
       "      <td>-0.642704</td>\n",
       "      <td>-0.677218</td>\n",
       "      <td>0.718253</td>\n",
       "    </tr>\n",
       "    <tr>\n",
       "      <th>height</th>\n",
       "      <td>-0.541038</td>\n",
       "      <td>-0.370706</td>\n",
       "      <td>0.279210</td>\n",
       "      <td>1.000000</td>\n",
       "      <td>0.067149</td>\n",
       "      <td>-0.110137</td>\n",
       "      <td>-0.048640</td>\n",
       "      <td>-0.107358</td>\n",
       "      <td>0.132444</td>\n",
       "    </tr>\n",
       "    <tr>\n",
       "      <th>engine-size</th>\n",
       "      <td>-0.105790</td>\n",
       "      <td>0.110997</td>\n",
       "      <td>0.735433</td>\n",
       "      <td>0.067149</td>\n",
       "      <td>1.000000</td>\n",
       "      <td>0.810713</td>\n",
       "      <td>-0.653658</td>\n",
       "      <td>-0.677470</td>\n",
       "      <td>0.852995</td>\n",
       "    </tr>\n",
       "    <tr>\n",
       "      <th>horsepower</th>\n",
       "      <td>0.071389</td>\n",
       "      <td>0.203434</td>\n",
       "      <td>0.642195</td>\n",
       "      <td>-0.110137</td>\n",
       "      <td>0.810713</td>\n",
       "      <td>1.000000</td>\n",
       "      <td>-0.803162</td>\n",
       "      <td>-0.770903</td>\n",
       "      <td>0.746589</td>\n",
       "    </tr>\n",
       "    <tr>\n",
       "      <th>city-mpg</th>\n",
       "      <td>-0.035823</td>\n",
       "      <td>-0.218749</td>\n",
       "      <td>-0.642704</td>\n",
       "      <td>-0.048640</td>\n",
       "      <td>-0.653658</td>\n",
       "      <td>-0.803162</td>\n",
       "      <td>1.000000</td>\n",
       "      <td>0.971337</td>\n",
       "      <td>-0.654611</td>\n",
       "    </tr>\n",
       "    <tr>\n",
       "      <th>highway-mpg</th>\n",
       "      <td>0.034606</td>\n",
       "      <td>-0.178221</td>\n",
       "      <td>-0.677218</td>\n",
       "      <td>-0.107358</td>\n",
       "      <td>-0.677470</td>\n",
       "      <td>-0.770903</td>\n",
       "      <td>0.971337</td>\n",
       "      <td>1.000000</td>\n",
       "      <td>-0.679048</td>\n",
       "    </tr>\n",
       "    <tr>\n",
       "      <th>price</th>\n",
       "      <td>-0.085781</td>\n",
       "      <td>0.133424</td>\n",
       "      <td>0.718253</td>\n",
       "      <td>0.132444</td>\n",
       "      <td>0.852995</td>\n",
       "      <td>0.746589</td>\n",
       "      <td>-0.654611</td>\n",
       "      <td>-0.679048</td>\n",
       "      <td>1.000000</td>\n",
       "    </tr>\n",
       "  </tbody>\n",
       "</table>\n",
       "</div>"
      ],
      "text/plain": [
       "                   symboling  normalized-losses     width    height  \\\n",
       "symboling           1.000000           0.465190 -0.232919 -0.541038   \n",
       "normalized-losses   0.465190           1.000000  0.084195 -0.370706   \n",
       "width              -0.232919           0.084195  1.000000  0.279210   \n",
       "height             -0.541038          -0.370706  0.279210  1.000000   \n",
       "engine-size        -0.105790           0.110997  0.735433  0.067149   \n",
       "horsepower          0.071389           0.203434  0.642195 -0.110137   \n",
       "city-mpg           -0.035823          -0.218749 -0.642704 -0.048640   \n",
       "highway-mpg         0.034606          -0.178221 -0.677218 -0.107358   \n",
       "price              -0.085781           0.133424  0.718253  0.132444   \n",
       "\n",
       "                   engine-size  horsepower  city-mpg  highway-mpg     price  \n",
       "symboling            -0.105790    0.071389 -0.035823     0.034606 -0.085781  \n",
       "normalized-losses     0.110997    0.203434 -0.218749    -0.178221  0.133424  \n",
       "width                 0.735433    0.642195 -0.642704    -0.677218  0.718253  \n",
       "height                0.067149   -0.110137 -0.048640    -0.107358  0.132444  \n",
       "engine-size           1.000000    0.810713 -0.653658    -0.677470  0.852995  \n",
       "horsepower            0.810713    1.000000 -0.803162    -0.770903  0.746589  \n",
       "city-mpg             -0.653658   -0.803162  1.000000     0.971337 -0.654611  \n",
       "highway-mpg          -0.677470   -0.770903  0.971337     1.000000 -0.679048  \n",
       "price                 0.852995    0.746589 -0.654611    -0.679048  1.000000  "
      ]
     },
     "execution_count": 167,
     "metadata": {},
     "output_type": "execute_result"
    }
   ],
   "source": [
    "df.corr()"
   ]
  },
  {
   "cell_type": "code",
   "execution_count": 168,
   "id": "d4116472",
   "metadata": {},
   "outputs": [
    {
     "data": {
      "text/plain": [
       "highway-mpg         -0.707122\n",
       "city-mpg            -0.682634\n",
       "symboling           -0.097242\n",
       "normalized-losses    0.127662\n",
       "height               0.146146\n",
       "width                0.732957\n",
       "horsepower           0.771584\n",
       "engine-size          0.870876\n",
       "price                1.000000\n",
       "Name: price, dtype: float64"
      ]
     },
     "execution_count": 168,
     "metadata": {},
     "output_type": "execute_result"
    }
   ],
   "source": [
    "pd.concat([features,target],axis=1).corr()[\"price\"].sort_values()\n",
    "#h-m,w,hp,e-s-highly corr with target"
   ]
  },
  {
   "cell_type": "code",
   "execution_count": 169,
   "id": "675a1f2e",
   "metadata": {},
   "outputs": [],
   "source": [
    "features[\"normalized-losses\"]=np.log(features[\"normalized-losses\"])"
   ]
  },
  {
   "cell_type": "code",
   "execution_count": 170,
   "id": "ee8398fd",
   "metadata": {},
   "outputs": [
    {
     "data": {
      "text/plain": [
       "0.0061510764084907665"
      ]
     },
     "execution_count": 170,
     "metadata": {},
     "output_type": "execute_result"
    }
   ],
   "source": [
    "skew(features[\"normalized-losses\"])"
   ]
  },
  {
   "cell_type": "code",
   "execution_count": 171,
   "id": "d417cc47",
   "metadata": {},
   "outputs": [
    {
     "data": {
      "image/png": "[encoded data removed]",
      "text/plain": [
       "<Figure size 432x288 with 1 Axes>"
      ]
     },
     "metadata": {
      "needs_background": "light"
     },
     "output_type": "display_data"
    }
   ],
   "source": [
    "sns.distplot(features[\"normalized-losses\"])\n",
    "plt.show()"
   ]
  },
  {
   "cell_type": "code",
   "execution_count": 172,
   "id": "7e9c09da",
   "metadata": {},
   "outputs": [
    {
     "data": {
      "text/plain": [
       "-0.07348447982136683"
      ]
     },
     "execution_count": 172,
     "metadata": {},
     "output_type": "execute_result"
    }
   ],
   "source": [
    "skew(np.sqrt(features[\"normalized-losses\"]))"
   ]
  },
  {
   "cell_type": "code",
   "execution_count": 173,
   "id": "7859c28a",
   "metadata": {},
   "outputs": [
    {
     "data": {
      "text/plain": [
       " 0    64\n",
       " 1    53\n",
       " 2    31\n",
       " 3    20\n",
       "-1    20\n",
       "-2     3\n",
       "Name: symboling, dtype: int64"
      ]
     },
     "execution_count": 173,
     "metadata": {},
     "output_type": "execute_result"
    }
   ],
   "source": [
    "features[\"symboling\"].value_counts()"
   ]
  },
  {
   "cell_type": "code",
   "execution_count": 174,
   "id": "1366180f",
   "metadata": {},
   "outputs": [
    {
     "data": {
      "text/plain": [
       "0      1.732051\n",
       "1      1.732051\n",
       "2      1.000000\n",
       "3      1.414214\n",
       "4      1.414214\n",
       "         ...   \n",
       "200         NaN\n",
       "201         NaN\n",
       "202         NaN\n",
       "203         NaN\n",
       "204         NaN\n",
       "Name: symboling, Length: 191, dtype: float64"
      ]
     },
     "execution_count": 174,
     "metadata": {},
     "output_type": "execute_result"
    }
   ],
   "source": [
    "np.sqrt(features[\"symboling\"])"
   ]
  },
  {
   "cell_type": "code",
   "execution_count": 175,
   "id": "8998e79b",
   "metadata": {},
   "outputs": [],
   "source": [
    "# Handling Categorical Values"
   ]
  },
  {
   "cell_type": "code",
   "execution_count": 176,
   "id": "4ee60514",
   "metadata": {},
   "outputs": [],
   "source": [
    "colname=features.select_dtypes([\"object\"]).columns"
   ]
  },
  {
   "cell_type": "code",
   "execution_count": 177,
   "id": "df1c460e",
   "metadata": {},
   "outputs": [
    {
     "data": {
      "text/plain": [
       "Index(['make', 'fuel-type', 'body-style', 'drive-wheels', 'engine-location',\n",
       "       'engine-type'],\n",
       "      dtype='object')"
      ]
     },
     "execution_count": 177,
     "metadata": {},
     "output_type": "execute_result"
    }
   ],
   "source": [
    "colname"
   ]
  },
  {
   "cell_type": "code",
   "execution_count": 178,
   "id": "0eab8b05",
   "metadata": {},
   "outputs": [
    {
     "data": {
      "text/plain": [
       "gas       171\n",
       "diesel     20\n",
       "Name: fuel-type, dtype: int64"
      ]
     },
     "execution_count": 178,
     "metadata": {},
     "output_type": "execute_result"
    }
   ],
   "source": [
    "features[\"fuel-type\"].value_counts()"
   ]
  },
  {
   "cell_type": "code",
   "execution_count": 179,
   "id": "ae494d03",
   "metadata": {},
   "outputs": [
    {
     "data": {
      "text/html": [
       "<div>\n",
       "<style scoped>\n",
       "    .dataframe tbody tr th:only-of-type {\n",
       "        vertical-align: middle;\n",
       "    }\n",
       "\n",
       "    .dataframe tbody tr th {\n",
       "        vertical-align: top;\n",
       "    }\n",
       "\n",
       "    .dataframe thead th {\n",
       "        text-align: right;\n",
       "    }\n",
       "</style>\n",
       "<table border=\"1\" class=\"dataframe\">\n",
       "  <thead>\n",
       "    <tr style=\"text-align: right;\">\n",
       "      <th></th>\n",
       "      <th>diesel</th>\n",
       "      <th>gas</th>\n",
       "    </tr>\n",
       "  </thead>\n",
       "  <tbody>\n",
       "    <tr>\n",
       "      <th>0</th>\n",
       "      <td>0</td>\n",
       "      <td>1</td>\n",
       "    </tr>\n",
       "    <tr>\n",
       "      <th>1</th>\n",
       "      <td>0</td>\n",
       "      <td>1</td>\n",
       "    </tr>\n",
       "    <tr>\n",
       "      <th>2</th>\n",
       "      <td>0</td>\n",
       "      <td>1</td>\n",
       "    </tr>\n",
       "    <tr>\n",
       "      <th>3</th>\n",
       "      <td>0</td>\n",
       "      <td>1</td>\n",
       "    </tr>\n",
       "    <tr>\n",
       "      <th>4</th>\n",
       "      <td>0</td>\n",
       "      <td>1</td>\n",
       "    </tr>\n",
       "    <tr>\n",
       "      <th>...</th>\n",
       "      <td>...</td>\n",
       "      <td>...</td>\n",
       "    </tr>\n",
       "    <tr>\n",
       "      <th>200</th>\n",
       "      <td>0</td>\n",
       "      <td>1</td>\n",
       "    </tr>\n",
       "    <tr>\n",
       "      <th>201</th>\n",
       "      <td>0</td>\n",
       "      <td>1</td>\n",
       "    </tr>\n",
       "    <tr>\n",
       "      <th>202</th>\n",
       "      <td>0</td>\n",
       "      <td>1</td>\n",
       "    </tr>\n",
       "    <tr>\n",
       "      <th>203</th>\n",
       "      <td>1</td>\n",
       "      <td>0</td>\n",
       "    </tr>\n",
       "    <tr>\n",
       "      <th>204</th>\n",
       "      <td>0</td>\n",
       "      <td>1</td>\n",
       "    </tr>\n",
       "  </tbody>\n",
       "</table>\n",
       "<p>191 rows × 2 columns</p>\n",
       "</div>"
      ],
      "text/plain": [
       "     diesel  gas\n",
       "0         0    1\n",
       "1         0    1\n",
       "2         0    1\n",
       "3         0    1\n",
       "4         0    1\n",
       "..      ...  ...\n",
       "200       0    1\n",
       "201       0    1\n",
       "202       0    1\n",
       "203       1    0\n",
       "204       0    1\n",
       "\n",
       "[191 rows x 2 columns]"
      ]
     },
     "execution_count": 179,
     "metadata": {},
     "output_type": "execute_result"
    }
   ],
   "source": [
    "pd.get_dummies(features[\"fuel-type\"])"
   ]
  },
  {
   "cell_type": "code",
   "execution_count": 180,
   "id": "9af7554f",
   "metadata": {},
   "outputs": [
    {
     "data": {
      "text/html": [
       "<div>\n",
       "<style scoped>\n",
       "    .dataframe tbody tr th:only-of-type {\n",
       "        vertical-align: middle;\n",
       "    }\n",
       "\n",
       "    .dataframe tbody tr th {\n",
       "        vertical-align: top;\n",
       "    }\n",
       "\n",
       "    .dataframe thead th {\n",
       "        text-align: right;\n",
       "    }\n",
       "</style>\n",
       "<table border=\"1\" class=\"dataframe\">\n",
       "  <thead>\n",
       "    <tr style=\"text-align: right;\">\n",
       "      <th></th>\n",
       "      <th>alfa-romero</th>\n",
       "      <th>audi</th>\n",
       "      <th>bmw</th>\n",
       "      <th>chevrolet</th>\n",
       "      <th>dodge</th>\n",
       "      <th>honda</th>\n",
       "      <th>isuzu</th>\n",
       "      <th>jaguar</th>\n",
       "      <th>mazda</th>\n",
       "      <th>mercedes-benz</th>\n",
       "      <th>...</th>\n",
       "      <th>nissan</th>\n",
       "      <th>peugot</th>\n",
       "      <th>plymouth</th>\n",
       "      <th>porsche</th>\n",
       "      <th>renault</th>\n",
       "      <th>saab</th>\n",
       "      <th>subaru</th>\n",
       "      <th>toyota</th>\n",
       "      <th>volkswagen</th>\n",
       "      <th>volvo</th>\n",
       "    </tr>\n",
       "  </thead>\n",
       "  <tbody>\n",
       "    <tr>\n",
       "      <th>0</th>\n",
       "      <td>1</td>\n",
       "      <td>0</td>\n",
       "      <td>0</td>\n",
       "      <td>0</td>\n",
       "      <td>0</td>\n",
       "      <td>0</td>\n",
       "      <td>0</td>\n",
       "      <td>0</td>\n",
       "      <td>0</td>\n",
       "      <td>0</td>\n",
       "      <td>...</td>\n",
       "      <td>0</td>\n",
       "      <td>0</td>\n",
       "      <td>0</td>\n",
       "      <td>0</td>\n",
       "      <td>0</td>\n",
       "      <td>0</td>\n",
       "      <td>0</td>\n",
       "      <td>0</td>\n",
       "      <td>0</td>\n",
       "      <td>0</td>\n",
       "    </tr>\n",
       "    <tr>\n",
       "      <th>1</th>\n",
       "      <td>1</td>\n",
       "      <td>0</td>\n",
       "      <td>0</td>\n",
       "      <td>0</td>\n",
       "      <td>0</td>\n",
       "      <td>0</td>\n",
       "      <td>0</td>\n",
       "      <td>0</td>\n",
       "      <td>0</td>\n",
       "      <td>0</td>\n",
       "      <td>...</td>\n",
       "      <td>0</td>\n",
       "      <td>0</td>\n",
       "      <td>0</td>\n",
       "      <td>0</td>\n",
       "      <td>0</td>\n",
       "      <td>0</td>\n",
       "      <td>0</td>\n",
       "      <td>0</td>\n",
       "      <td>0</td>\n",
       "      <td>0</td>\n",
       "    </tr>\n",
       "    <tr>\n",
       "      <th>2</th>\n",
       "      <td>1</td>\n",
       "      <td>0</td>\n",
       "      <td>0</td>\n",
       "      <td>0</td>\n",
       "      <td>0</td>\n",
       "      <td>0</td>\n",
       "      <td>0</td>\n",
       "      <td>0</td>\n",
       "      <td>0</td>\n",
       "      <td>0</td>\n",
       "      <td>...</td>\n",
       "      <td>0</td>\n",
       "      <td>0</td>\n",
       "      <td>0</td>\n",
       "      <td>0</td>\n",
       "      <td>0</td>\n",
       "      <td>0</td>\n",
       "      <td>0</td>\n",
       "      <td>0</td>\n",
       "      <td>0</td>\n",
       "      <td>0</td>\n",
       "    </tr>\n",
       "    <tr>\n",
       "      <th>3</th>\n",
       "      <td>0</td>\n",
       "      <td>1</td>\n",
       "      <td>0</td>\n",
       "      <td>0</td>\n",
       "      <td>0</td>\n",
       "      <td>0</td>\n",
       "      <td>0</td>\n",
       "      <td>0</td>\n",
       "      <td>0</td>\n",
       "      <td>0</td>\n",
       "      <td>...</td>\n",
       "      <td>0</td>\n",
       "      <td>0</td>\n",
       "      <td>0</td>\n",
       "      <td>0</td>\n",
       "      <td>0</td>\n",
       "      <td>0</td>\n",
       "      <td>0</td>\n",
       "      <td>0</td>\n",
       "      <td>0</td>\n",
       "      <td>0</td>\n",
       "    </tr>\n",
       "    <tr>\n",
       "      <th>4</th>\n",
       "      <td>0</td>\n",
       "      <td>1</td>\n",
       "      <td>0</td>\n",
       "      <td>0</td>\n",
       "      <td>0</td>\n",
       "      <td>0</td>\n",
       "      <td>0</td>\n",
       "      <td>0</td>\n",
       "      <td>0</td>\n",
       "      <td>0</td>\n",
       "      <td>...</td>\n",
       "      <td>0</td>\n",
       "      <td>0</td>\n",
       "      <td>0</td>\n",
       "      <td>0</td>\n",
       "      <td>0</td>\n",
       "      <td>0</td>\n",
       "      <td>0</td>\n",
       "      <td>0</td>\n",
       "      <td>0</td>\n",
       "      <td>0</td>\n",
       "    </tr>\n",
       "    <tr>\n",
       "      <th>...</th>\n",
       "      <td>...</td>\n",
       "      <td>...</td>\n",
       "      <td>...</td>\n",
       "      <td>...</td>\n",
       "      <td>...</td>\n",
       "      <td>...</td>\n",
       "      <td>...</td>\n",
       "      <td>...</td>\n",
       "      <td>...</td>\n",
       "      <td>...</td>\n",
       "      <td>...</td>\n",
       "      <td>...</td>\n",
       "      <td>...</td>\n",
       "      <td>...</td>\n",
       "      <td>...</td>\n",
       "      <td>...</td>\n",
       "      <td>...</td>\n",
       "      <td>...</td>\n",
       "      <td>...</td>\n",
       "      <td>...</td>\n",
       "      <td>...</td>\n",
       "    </tr>\n",
       "    <tr>\n",
       "      <th>200</th>\n",
       "      <td>0</td>\n",
       "      <td>0</td>\n",
       "      <td>0</td>\n",
       "      <td>0</td>\n",
       "      <td>0</td>\n",
       "      <td>0</td>\n",
       "      <td>0</td>\n",
       "      <td>0</td>\n",
       "      <td>0</td>\n",
       "      <td>0</td>\n",
       "      <td>...</td>\n",
       "      <td>0</td>\n",
       "      <td>0</td>\n",
       "      <td>0</td>\n",
       "      <td>0</td>\n",
       "      <td>0</td>\n",
       "      <td>0</td>\n",
       "      <td>0</td>\n",
       "      <td>0</td>\n",
       "      <td>0</td>\n",
       "      <td>1</td>\n",
       "    </tr>\n",
       "    <tr>\n",
       "      <th>201</th>\n",
       "      <td>0</td>\n",
       "      <td>0</td>\n",
       "      <td>0</td>\n",
       "      <td>0</td>\n",
       "      <td>0</td>\n",
       "      <td>0</td>\n",
       "      <td>0</td>\n",
       "      <td>0</td>\n",
       "      <td>0</td>\n",
       "      <td>0</td>\n",
       "      <td>...</td>\n",
       "      <td>0</td>\n",
       "      <td>0</td>\n",
       "      <td>0</td>\n",
       "      <td>0</td>\n",
       "      <td>0</td>\n",
       "      <td>0</td>\n",
       "      <td>0</td>\n",
       "      <td>0</td>\n",
       "      <td>0</td>\n",
       "      <td>1</td>\n",
       "    </tr>\n",
       "    <tr>\n",
       "      <th>202</th>\n",
       "      <td>0</td>\n",
       "      <td>0</td>\n",
       "      <td>0</td>\n",
       "      <td>0</td>\n",
       "      <td>0</td>\n",
       "      <td>0</td>\n",
       "      <td>0</td>\n",
       "      <td>0</td>\n",
       "      <td>0</td>\n",
       "      <td>0</td>\n",
       "      <td>...</td>\n",
       "      <td>0</td>\n",
       "      <td>0</td>\n",
       "      <td>0</td>\n",
       "      <td>0</td>\n",
       "      <td>0</td>\n",
       "      <td>0</td>\n",
       "      <td>0</td>\n",
       "      <td>0</td>\n",
       "      <td>0</td>\n",
       "      <td>1</td>\n",
       "    </tr>\n",
       "    <tr>\n",
       "      <th>203</th>\n",
       "      <td>0</td>\n",
       "      <td>0</td>\n",
       "      <td>0</td>\n",
       "      <td>0</td>\n",
       "      <td>0</td>\n",
       "      <td>0</td>\n",
       "      <td>0</td>\n",
       "      <td>0</td>\n",
       "      <td>0</td>\n",
       "      <td>0</td>\n",
       "      <td>...</td>\n",
       "      <td>0</td>\n",
       "      <td>0</td>\n",
       "      <td>0</td>\n",
       "      <td>0</td>\n",
       "      <td>0</td>\n",
       "      <td>0</td>\n",
       "      <td>0</td>\n",
       "      <td>0</td>\n",
       "      <td>0</td>\n",
       "      <td>1</td>\n",
       "    </tr>\n",
       "    <tr>\n",
       "      <th>204</th>\n",
       "      <td>0</td>\n",
       "      <td>0</td>\n",
       "      <td>0</td>\n",
       "      <td>0</td>\n",
       "      <td>0</td>\n",
       "      <td>0</td>\n",
       "      <td>0</td>\n",
       "      <td>0</td>\n",
       "      <td>0</td>\n",
       "      <td>0</td>\n",
       "      <td>...</td>\n",
       "      <td>0</td>\n",
       "      <td>0</td>\n",
       "      <td>0</td>\n",
       "      <td>0</td>\n",
       "      <td>0</td>\n",
       "      <td>0</td>\n",
       "      <td>0</td>\n",
       "      <td>0</td>\n",
       "      <td>0</td>\n",
       "      <td>1</td>\n",
       "    </tr>\n",
       "  </tbody>\n",
       "</table>\n",
       "<p>191 rows × 22 columns</p>\n",
       "</div>"
      ],
      "text/plain": [
       "     alfa-romero  audi  bmw  chevrolet  dodge  honda  isuzu  jaguar  mazda  \\\n",
       "0              1     0    0          0      0      0      0       0      0   \n",
       "1              1     0    0          0      0      0      0       0      0   \n",
       "2              1     0    0          0      0      0      0       0      0   \n",
       "3              0     1    0          0      0      0      0       0      0   \n",
       "4              0     1    0          0      0      0      0       0      0   \n",
       "..           ...   ...  ...        ...    ...    ...    ...     ...    ...   \n",
       "200            0     0    0          0      0      0      0       0      0   \n",
       "201            0     0    0          0      0      0      0       0      0   \n",
       "202            0     0    0          0      0      0      0       0      0   \n",
       "203            0     0    0          0      0      0      0       0      0   \n",
       "204            0     0    0          0      0      0      0       0      0   \n",
       "\n",
       "     mercedes-benz  ...  nissan  peugot  plymouth  porsche  renault  saab  \\\n",
       "0                0  ...       0       0         0        0        0     0   \n",
       "1                0  ...       0       0         0        0        0     0   \n",
       "2                0  ...       0       0         0        0        0     0   \n",
       "3                0  ...       0       0         0        0        0     0   \n",
       "4                0  ...       0       0         0        0        0     0   \n",
       "..             ...  ...     ...     ...       ...      ...      ...   ...   \n",
       "200              0  ...       0       0         0        0        0     0   \n",
       "201              0  ...       0       0         0        0        0     0   \n",
       "202              0  ...       0       0         0        0        0     0   \n",
       "203              0  ...       0       0         0        0        0     0   \n",
       "204              0  ...       0       0         0        0        0     0   \n",
       "\n",
       "     subaru  toyota  volkswagen  volvo  \n",
       "0         0       0           0      0  \n",
       "1         0       0           0      0  \n",
       "2         0       0           0      0  \n",
       "3         0       0           0      0  \n",
       "4         0       0           0      0  \n",
       "..      ...     ...         ...    ...  \n",
       "200       0       0           0      1  \n",
       "201       0       0           0      1  \n",
       "202       0       0           0      1  \n",
       "203       0       0           0      1  \n",
       "204       0       0           0      1  \n",
       "\n",
       "[191 rows x 22 columns]"
      ]
     },
     "execution_count": 180,
     "metadata": {},
     "output_type": "execute_result"
    }
   ],
   "source": [
    "pd.get_dummies(features[\"make\"])"
   ]
  },
  {
   "cell_type": "code",
   "execution_count": 181,
   "id": "aa6fe240",
   "metadata": {},
   "outputs": [
    {
     "data": {
      "text/plain": [
       "22"
      ]
     },
     "execution_count": 181,
     "metadata": {},
     "output_type": "execute_result"
    }
   ],
   "source": [
    "features[\"make\"].nunique()"
   ]
  },
  {
   "cell_type": "code",
   "execution_count": 182,
   "id": "f0aaa748",
   "metadata": {},
   "outputs": [
    {
     "data": {
      "text/plain": [
       "array([[1., 0., 0., ..., 0., 0., 0.],\n",
       "       [1., 0., 0., ..., 0., 0., 0.],\n",
       "       [1., 0., 0., ..., 0., 0., 0.],\n",
       "       ...,\n",
       "       [0., 0., 0., ..., 0., 0., 1.],\n",
       "       [0., 0., 0., ..., 0., 0., 1.],\n",
       "       [0., 0., 0., ..., 0., 0., 1.]])"
      ]
     },
     "execution_count": 182,
     "metadata": {},
     "output_type": "execute_result"
    }
   ],
   "source": [
    "from sklearn.preprocessing import OneHotEncoder\n",
    "ohe=OneHotEncoder()\n",
    "ohe.fit_transform(features[[\"make\"]]).toarray()"
   ]
  },
  {
   "cell_type": "code",
   "execution_count": 183,
   "id": "2a58bf7c",
   "metadata": {},
   "outputs": [],
   "source": [
    "#Label Encoding"
   ]
  },
  {
   "cell_type": "code",
   "execution_count": 184,
   "id": "0aa49f3d",
   "metadata": {},
   "outputs": [],
   "source": [
    "from sklearn.preprocessing import LabelEncoder\n",
    "le=LabelEncoder()"
   ]
  },
  {
   "cell_type": "code",
   "execution_count": 185,
   "id": "5ecf814e",
   "metadata": {},
   "outputs": [
    {
     "data": {
      "text/plain": [
       "array([ 0,  0,  0,  1,  1,  1,  1,  1,  1,  1,  2,  2,  2,  2,  2,  2,  2,\n",
       "        2,  3,  3,  3,  4,  4,  4,  4,  4,  4,  4,  4,  5,  5,  5,  5,  5,\n",
       "        5,  5,  5,  5,  5,  6,  6,  6,  7,  7,  7,  8,  8,  8,  8,  8,  8,\n",
       "        8,  8,  8,  8,  8,  8,  8,  8,  8,  8,  8,  9,  9,  9,  9,  9,  9,\n",
       "        9,  9, 10, 11, 11, 11, 11, 11, 11, 11, 11, 11, 11, 12, 12, 12, 12,\n",
       "       12, 12, 12, 12, 12, 12, 12, 12, 12, 12, 12, 12, 12, 12, 13, 13, 13,\n",
       "       13, 13, 13, 13, 13, 13, 13, 13, 14, 14, 14, 14, 14, 14, 15, 15, 15,\n",
       "       15, 15, 16, 16, 17, 17, 17, 17, 17, 17, 18, 18, 18, 18, 18, 18, 18,\n",
       "       18, 18, 18, 18, 18, 19, 19, 19, 19, 19, 19, 19, 19, 19, 19, 19, 19,\n",
       "       19, 19, 19, 19, 19, 19, 19, 19, 19, 19, 19, 19, 19, 19, 19, 20, 20,\n",
       "       20, 20, 20, 20, 20, 20, 20, 20, 20, 20, 21, 21, 21, 21, 21, 21, 21,\n",
       "       21, 21, 21, 21])"
      ]
     },
     "execution_count": 185,
     "metadata": {},
     "output_type": "execute_result"
    }
   ],
   "source": [
    "le.fit_transform(features[\"make\"])"
   ]
  },
  {
   "cell_type": "code",
   "execution_count": 186,
   "id": "60f47e37",
   "metadata": {},
   "outputs": [],
   "source": [
    "#le.fit_transform(features[[\"make\",\"fuel-type\"]])"
   ]
  },
  {
   "cell_type": "code",
   "execution_count": 187,
   "id": "e7fec920",
   "metadata": {},
   "outputs": [],
   "source": [
    "#ordinal encoding"
   ]
  },
  {
   "cell_type": "code",
   "execution_count": 188,
   "id": "274d9b5f",
   "metadata": {},
   "outputs": [],
   "source": [
    "from sklearn.preprocessing import OrdinalEncoder\n",
    "oe=OrdinalEncoder()"
   ]
  },
  {
   "cell_type": "code",
   "execution_count": 189,
   "id": "fb7e24cf",
   "metadata": {},
   "outputs": [
    {
     "data": {
      "text/plain": [
       "array([[ 0.,  1.],\n",
       "       [ 0.,  1.],\n",
       "       [ 0.,  1.],\n",
       "       [ 1.,  1.],\n",
       "       [ 1.,  1.],\n",
       "       [ 1.,  1.],\n",
       "       [ 1.,  1.],\n",
       "       [ 1.,  1.],\n",
       "       [ 1.,  1.],\n",
       "       [ 1.,  1.],\n",
       "       [ 2.,  1.],\n",
       "       [ 2.,  1.],\n",
       "       [ 2.,  1.],\n",
       "       [ 2.,  1.],\n",
       "       [ 2.,  1.],\n",
       "       [ 2.,  1.],\n",
       "       [ 2.,  1.],\n",
       "       [ 2.,  1.],\n",
       "       [ 3.,  1.],\n",
       "       [ 3.,  1.],\n",
       "       [ 3.,  1.],\n",
       "       [ 4.,  1.],\n",
       "       [ 4.,  1.],\n",
       "       [ 4.,  1.],\n",
       "       [ 4.,  1.],\n",
       "       [ 4.,  1.],\n",
       "       [ 4.,  1.],\n",
       "       [ 4.,  1.],\n",
       "       [ 4.,  1.],\n",
       "       [ 5.,  1.],\n",
       "       [ 5.,  1.],\n",
       "       [ 5.,  1.],\n",
       "       [ 5.,  1.],\n",
       "       [ 5.,  1.],\n",
       "       [ 5.,  1.],\n",
       "       [ 5.,  1.],\n",
       "       [ 5.,  1.],\n",
       "       [ 5.,  1.],\n",
       "       [ 5.,  1.],\n",
       "       [ 6.,  1.],\n",
       "       [ 6.,  1.],\n",
       "       [ 6.,  1.],\n",
       "       [ 7.,  1.],\n",
       "       [ 7.,  1.],\n",
       "       [ 7.,  1.],\n",
       "       [ 8.,  1.],\n",
       "       [ 8.,  1.],\n",
       "       [ 8.,  1.],\n",
       "       [ 8.,  1.],\n",
       "       [ 8.,  1.],\n",
       "       [ 8.,  1.],\n",
       "       [ 8.,  1.],\n",
       "       [ 8.,  1.],\n",
       "       [ 8.,  1.],\n",
       "       [ 8.,  1.],\n",
       "       [ 8.,  1.],\n",
       "       [ 8.,  1.],\n",
       "       [ 8.,  1.],\n",
       "       [ 8.,  0.],\n",
       "       [ 8.,  1.],\n",
       "       [ 8.,  1.],\n",
       "       [ 8.,  0.],\n",
       "       [ 9.,  0.],\n",
       "       [ 9.,  0.],\n",
       "       [ 9.,  0.],\n",
       "       [ 9.,  0.],\n",
       "       [ 9.,  1.],\n",
       "       [ 9.,  1.],\n",
       "       [ 9.,  1.],\n",
       "       [ 9.,  1.],\n",
       "       [10.,  1.],\n",
       "       [11.,  1.],\n",
       "       [11.,  1.],\n",
       "       [11.,  1.],\n",
       "       [11.,  1.],\n",
       "       [11.,  1.],\n",
       "       [11.,  1.],\n",
       "       [11.,  1.],\n",
       "       [11.,  1.],\n",
       "       [11.,  1.],\n",
       "       [11.,  1.],\n",
       "       [12.,  1.],\n",
       "       [12.,  0.],\n",
       "       [12.,  1.],\n",
       "       [12.,  1.],\n",
       "       [12.,  1.],\n",
       "       [12.,  1.],\n",
       "       [12.,  1.],\n",
       "       [12.,  1.],\n",
       "       [12.,  1.],\n",
       "       [12.,  1.],\n",
       "       [12.,  1.],\n",
       "       [12.,  1.],\n",
       "       [12.,  1.],\n",
       "       [12.,  1.],\n",
       "       [12.,  1.],\n",
       "       [12.,  1.],\n",
       "       [12.,  1.],\n",
       "       [12.,  1.],\n",
       "       [13.,  1.],\n",
       "       [13.,  0.],\n",
       "       [13.,  1.],\n",
       "       [13.,  0.],\n",
       "       [13.,  1.],\n",
       "       [13.,  0.],\n",
       "       [13.,  1.],\n",
       "       [13.,  0.],\n",
       "       [13.,  1.],\n",
       "       [13.,  0.],\n",
       "       [13.,  1.],\n",
       "       [14.,  1.],\n",
       "       [14.,  1.],\n",
       "       [14.,  1.],\n",
       "       [14.,  1.],\n",
       "       [14.,  1.],\n",
       "       [14.,  1.],\n",
       "       [15.,  1.],\n",
       "       [15.,  1.],\n",
       "       [15.,  1.],\n",
       "       [15.,  1.],\n",
       "       [15.,  1.],\n",
       "       [16.,  1.],\n",
       "       [16.,  1.],\n",
       "       [17.,  1.],\n",
       "       [17.,  1.],\n",
       "       [17.,  1.],\n",
       "       [17.,  1.],\n",
       "       [17.,  1.],\n",
       "       [17.,  1.],\n",
       "       [18.,  1.],\n",
       "       [18.,  1.],\n",
       "       [18.,  1.],\n",
       "       [18.,  1.],\n",
       "       [18.,  1.],\n",
       "       [18.,  1.],\n",
       "       [18.,  1.],\n",
       "       [18.,  1.],\n",
       "       [18.,  1.],\n",
       "       [18.,  1.],\n",
       "       [18.,  1.],\n",
       "       [18.,  1.],\n",
       "       [19.,  1.],\n",
       "       [19.,  1.],\n",
       "       [19.,  1.],\n",
       "       [19.,  1.],\n",
       "       [19.,  1.],\n",
       "       [19.,  1.],\n",
       "       [19.,  1.],\n",
       "       [19.,  1.],\n",
       "       [19.,  0.],\n",
       "       [19.,  0.],\n",
       "       [19.,  1.],\n",
       "       [19.,  1.],\n",
       "       [19.,  1.],\n",
       "       [19.,  1.],\n",
       "       [19.,  1.],\n",
       "       [19.,  1.],\n",
       "       [19.,  1.],\n",
       "       [19.,  1.],\n",
       "       [19.,  1.],\n",
       "       [19.,  1.],\n",
       "       [19.,  1.],\n",
       "       [19.,  1.],\n",
       "       [19.,  1.],\n",
       "       [19.,  0.],\n",
       "       [19.,  1.],\n",
       "       [19.,  1.],\n",
       "       [19.,  1.],\n",
       "       [20.,  0.],\n",
       "       [20.,  1.],\n",
       "       [20.,  0.],\n",
       "       [20.,  1.],\n",
       "       [20.,  1.],\n",
       "       [20.,  0.],\n",
       "       [20.,  1.],\n",
       "       [20.,  1.],\n",
       "       [20.,  1.],\n",
       "       [20.,  1.],\n",
       "       [20.,  0.],\n",
       "       [20.,  1.],\n",
       "       [21.,  1.],\n",
       "       [21.,  1.],\n",
       "       [21.,  1.],\n",
       "       [21.,  1.],\n",
       "       [21.,  1.],\n",
       "       [21.,  1.],\n",
       "       [21.,  1.],\n",
       "       [21.,  1.],\n",
       "       [21.,  1.],\n",
       "       [21.,  0.],\n",
       "       [21.,  1.]])"
      ]
     },
     "execution_count": 189,
     "metadata": {},
     "output_type": "execute_result"
    }
   ],
   "source": [
    "oe.fit_transform(features[[\"make\",\"fuel-type\"]])"
   ]
  },
  {
   "cell_type": "code",
   "execution_count": 190,
   "id": "a5a0452b",
   "metadata": {},
   "outputs": [
    {
     "data": {
      "text/plain": [
       "Index(['make', 'fuel-type', 'body-style', 'drive-wheels', 'engine-location',\n",
       "       'engine-type'],\n",
       "      dtype='object')"
      ]
     },
     "execution_count": 190,
     "metadata": {},
     "output_type": "execute_result"
    }
   ],
   "source": [
    "colname"
   ]
  },
  {
   "cell_type": "code",
   "execution_count": 191,
   "id": "d8295e89",
   "metadata": {},
   "outputs": [],
   "source": [
    "features[colname]=oe.fit_transform(features[colname])"
   ]
  },
  {
   "cell_type": "code",
   "execution_count": 192,
   "id": "f5e9783a",
   "metadata": {},
   "outputs": [
    {
     "name": "stdout",
     "output_type": "stream",
     "text": [
      "<class 'pandas.core.frame.DataFrame'>\n",
      "Int64Index: 191 entries, 0 to 204\n",
      "Data columns (total 14 columns):\n",
      " #   Column             Non-Null Count  Dtype  \n",
      "---  ------             --------------  -----  \n",
      " 0   symboling          191 non-null    int64  \n",
      " 1   normalized-losses  191 non-null    float64\n",
      " 2   make               191 non-null    float64\n",
      " 3   fuel-type          191 non-null    float64\n",
      " 4   body-style         191 non-null    float64\n",
      " 5   drive-wheels       191 non-null    float64\n",
      " 6   engine-location    191 non-null    float64\n",
      " 7   width              191 non-null    float64\n",
      " 8   height             191 non-null    float64\n",
      " 9   engine-type        191 non-null    float64\n",
      " 10  engine-size        191 non-null    int64  \n",
      " 11  horsepower         191 non-null    float64\n",
      " 12  city-mpg           191 non-null    int64  \n",
      " 13  highway-mpg        191 non-null    int64  \n",
      "dtypes: float64(10), int64(4)\n",
      "memory usage: 22.4 KB\n"
     ]
    }
   ],
   "source": [
    "features.info()"
   ]
  },
  {
   "cell_type": "code",
   "execution_count": 193,
   "id": "93badb10",
   "metadata": {},
   "outputs": [],
   "source": [
    "#Data Scaling"
   ]
  },
  {
   "cell_type": "code",
   "execution_count": 194,
   "id": "98dbcd8c",
   "metadata": {},
   "outputs": [],
   "source": [
    "a=np.array([1,2,3,4,5])\n",
    "b=np.array([10,20,30,40,50])\n",
    "c=np.array([100,200,300,400,500])"
   ]
  },
  {
   "cell_type": "code",
   "execution_count": 195,
   "id": "7659e075",
   "metadata": {},
   "outputs": [],
   "source": [
    "def minmax(arr):\n",
    "    xnew=(arr-arr.min())/(arr.max()-arr.min())\n",
    "    return xnew"
   ]
  },
  {
   "cell_type": "code",
   "execution_count": 196,
   "id": "0b86fb17",
   "metadata": {},
   "outputs": [
    {
     "data": {
      "text/plain": [
       "array([0.  , 0.25, 0.5 , 0.75, 1.  ])"
      ]
     },
     "execution_count": 196,
     "metadata": {},
     "output_type": "execute_result"
    }
   ],
   "source": [
    "minmax(a)"
   ]
  },
  {
   "cell_type": "code",
   "execution_count": 197,
   "id": "cfcd1181",
   "metadata": {},
   "outputs": [
    {
     "data": {
      "text/plain": [
       "array([0.  , 0.25, 0.5 , 0.75, 1.  ])"
      ]
     },
     "execution_count": 197,
     "metadata": {},
     "output_type": "execute_result"
    }
   ],
   "source": [
    "minmax(b)"
   ]
  },
  {
   "cell_type": "code",
   "execution_count": 198,
   "id": "797b22d3",
   "metadata": {},
   "outputs": [
    {
     "data": {
      "text/plain": [
       "array([0.  , 0.25, 0.5 , 0.75, 1.  ])"
      ]
     },
     "execution_count": 198,
     "metadata": {},
     "output_type": "execute_result"
    }
   ],
   "source": [
    "minmax(c)"
   ]
  },
  {
   "cell_type": "code",
   "execution_count": 199,
   "id": "c4ae8ed3",
   "metadata": {},
   "outputs": [],
   "source": [
    "def stddev(arr):\n",
    "    xnew=(arr-arr.mean())/(arr.std())\n",
    "    return xnew"
   ]
  },
  {
   "cell_type": "code",
   "execution_count": 200,
   "id": "04e46e46",
   "metadata": {},
   "outputs": [
    {
     "data": {
      "text/plain": [
       "array([-1.41421356, -0.70710678,  0.        ,  0.70710678,  1.41421356])"
      ]
     },
     "execution_count": 200,
     "metadata": {},
     "output_type": "execute_result"
    }
   ],
   "source": [
    "stddev(a)"
   ]
  },
  {
   "cell_type": "code",
   "execution_count": 201,
   "id": "c7256fa8",
   "metadata": {},
   "outputs": [
    {
     "data": {
      "text/plain": [
       "array([-1.41421356, -0.70710678,  0.        ,  0.70710678,  1.41421356])"
      ]
     },
     "execution_count": 201,
     "metadata": {},
     "output_type": "execute_result"
    }
   ],
   "source": [
    "stddev(b)"
   ]
  },
  {
   "cell_type": "code",
   "execution_count": 202,
   "id": "cbdb1842",
   "metadata": {},
   "outputs": [
    {
     "data": {
      "text/plain": [
       "array([-1.41421356, -0.70710678,  0.        ,  0.70710678,  1.41421356])"
      ]
     },
     "execution_count": 202,
     "metadata": {},
     "output_type": "execute_result"
    }
   ],
   "source": [
    "stddev(c)"
   ]
  },
  {
   "cell_type": "code",
   "execution_count": 203,
   "id": "c1830b79",
   "metadata": {},
   "outputs": [],
   "source": [
    "from sklearn.preprocessing import MinMaxScaler\n",
    "mn=MinMaxScaler()"
   ]
  },
  {
   "cell_type": "code",
   "execution_count": 204,
   "id": "636a6e07",
   "metadata": {},
   "outputs": [
    {
     "data": {
      "text/plain": [
       "array([[1.        , 0.45932177, 0.        , ..., 0.2625    , 0.22222222,\n",
       "        0.28947368],\n",
       "       [1.        , 0.45932177, 0.        , ..., 0.2625    , 0.22222222,\n",
       "        0.28947368],\n",
       "       [0.6       , 0.45932177, 0.        , ..., 0.44166667, 0.16666667,\n",
       "        0.26315789],\n",
       "       ...,\n",
       "       [0.2       , 0.27684005, 1.        , ..., 0.35833333, 0.13888889,\n",
       "        0.18421053],\n",
       "       [0.2       , 0.27684005, 1.        , ..., 0.24166667, 0.36111111,\n",
       "        0.28947368],\n",
       "       [0.2       , 0.27684005, 1.        , ..., 0.275     , 0.16666667,\n",
       "        0.23684211]])"
      ]
     },
     "execution_count": 204,
     "metadata": {},
     "output_type": "execute_result"
    }
   ],
   "source": [
    "mn.fit_transform(features.iloc[:,:])"
   ]
  },
  {
   "cell_type": "code",
   "execution_count": 205,
   "id": "303990d0",
   "metadata": {},
   "outputs": [],
   "source": [
    "from sklearn.preprocessing import StandardScaler\n",
    "ss=StandardScaler()"
   ]
  },
  {
   "cell_type": "code",
   "execution_count": 206,
   "id": "6932946b",
   "metadata": {},
   "outputs": [],
   "source": [
    "features.iloc[:,:]=ss.fit_transform(features.iloc[:,:])"
   ]
  },
  {
   "cell_type": "code",
   "execution_count": 207,
   "id": "4b85d3ab",
   "metadata": {},
   "outputs": [
    {
     "data": {
      "text/html": [
       "<div>\n",
       "<style scoped>\n",
       "    .dataframe tbody tr th:only-of-type {\n",
       "        vertical-align: middle;\n",
       "    }\n",
       "\n",
       "    .dataframe tbody tr th {\n",
       "        vertical-align: top;\n",
       "    }\n",
       "\n",
       "    .dataframe thead th {\n",
       "        text-align: right;\n",
       "    }\n",
       "</style>\n",
       "<table border=\"1\" class=\"dataframe\">\n",
       "  <thead>\n",
       "    <tr style=\"text-align: right;\">\n",
       "      <th></th>\n",
       "      <th>symboling</th>\n",
       "      <th>normalized-losses</th>\n",
       "      <th>make</th>\n",
       "      <th>fuel-type</th>\n",
       "      <th>body-style</th>\n",
       "      <th>drive-wheels</th>\n",
       "      <th>engine-location</th>\n",
       "      <th>width</th>\n",
       "      <th>height</th>\n",
       "      <th>engine-type</th>\n",
       "      <th>engine-size</th>\n",
       "      <th>horsepower</th>\n",
       "      <th>city-mpg</th>\n",
       "      <th>highway-mpg</th>\n",
       "    </tr>\n",
       "  </thead>\n",
       "  <tbody>\n",
       "    <tr>\n",
       "      <th>0</th>\n",
       "      <td>1.857613</td>\n",
       "      <td>0.137829</td>\n",
       "      <td>-1.945079</td>\n",
       "      <td>0.341993</td>\n",
       "      <td>-3.094345</td>\n",
       "      <td>1.219274</td>\n",
       "      <td>-0.126323</td>\n",
       "      <td>-0.826486</td>\n",
       "      <td>-2.073196</td>\n",
       "      <td>-3.088072</td>\n",
       "      <td>0.103548</td>\n",
       "      <td>0.220798</td>\n",
       "      <td>-0.676483</td>\n",
       "      <td>-0.581405</td>\n",
       "    </tr>\n",
       "    <tr>\n",
       "      <th>1</th>\n",
       "      <td>1.857613</td>\n",
       "      <td>0.137829</td>\n",
       "      <td>-1.945079</td>\n",
       "      <td>0.341993</td>\n",
       "      <td>-3.094345</td>\n",
       "      <td>1.219274</td>\n",
       "      <td>-0.126323</td>\n",
       "      <td>-0.826486</td>\n",
       "      <td>-2.073196</td>\n",
       "      <td>-3.088072</td>\n",
       "      <td>0.103548</td>\n",
       "      <td>0.220798</td>\n",
       "      <td>-0.676483</td>\n",
       "      <td>-0.581405</td>\n",
       "    </tr>\n",
       "    <tr>\n",
       "      <th>2</th>\n",
       "      <td>0.184009</td>\n",
       "      <td>0.137829</td>\n",
       "      <td>-1.945079</td>\n",
       "      <td>0.341993</td>\n",
       "      <td>-0.744365</td>\n",
       "      <td>1.219274</td>\n",
       "      <td>-0.126323</td>\n",
       "      <td>-0.186271</td>\n",
       "      <td>-0.596575</td>\n",
       "      <td>1.927419</td>\n",
       "      <td>0.625260</td>\n",
       "      <td>1.312895</td>\n",
       "      <td>-0.981219</td>\n",
       "      <td>-0.726376</td>\n",
       "    </tr>\n",
       "    <tr>\n",
       "      <th>3</th>\n",
       "      <td>1.020811</td>\n",
       "      <td>1.303434</td>\n",
       "      <td>-1.785837</td>\n",
       "      <td>0.341993</td>\n",
       "      <td>0.430625</td>\n",
       "      <td>-0.572121</td>\n",
       "      <td>-0.126323</td>\n",
       "      <td>0.133837</td>\n",
       "      <td>0.182752</td>\n",
       "      <td>-0.078777</td>\n",
       "      <td>-0.394450</td>\n",
       "      <td>-0.007780</td>\n",
       "      <td>-0.219378</td>\n",
       "      <td>-0.146490</td>\n",
       "    </tr>\n",
       "  </tbody>\n",
       "</table>\n",
       "</div>"
      ],
      "text/plain": [
       "   symboling  normalized-losses      make  fuel-type  body-style  \\\n",
       "0   1.857613           0.137829 -1.945079   0.341993   -3.094345   \n",
       "1   1.857613           0.137829 -1.945079   0.341993   -3.094345   \n",
       "2   0.184009           0.137829 -1.945079   0.341993   -0.744365   \n",
       "3   1.020811           1.303434 -1.785837   0.341993    0.430625   \n",
       "\n",
       "   drive-wheels  engine-location     width    height  engine-type  \\\n",
       "0      1.219274        -0.126323 -0.826486 -2.073196    -3.088072   \n",
       "1      1.219274        -0.126323 -0.826486 -2.073196    -3.088072   \n",
       "2      1.219274        -0.126323 -0.186271 -0.596575     1.927419   \n",
       "3     -0.572121        -0.126323  0.133837  0.182752    -0.078777   \n",
       "\n",
       "   engine-size  horsepower  city-mpg  highway-mpg  \n",
       "0     0.103548    0.220798 -0.676483    -0.581405  \n",
       "1     0.103548    0.220798 -0.676483    -0.581405  \n",
       "2     0.625260    1.312895 -0.981219    -0.726376  \n",
       "3    -0.394450   -0.007780 -0.219378    -0.146490  "
      ]
     },
     "execution_count": 207,
     "metadata": {},
     "output_type": "execute_result"
    }
   ],
   "source": [
    "features.head(4)"
   ]
  },
  {
   "cell_type": "code",
   "execution_count": 208,
   "id": "2139a7a9",
   "metadata": {},
   "outputs": [],
   "source": [
    "# feature engineering"
   ]
  },
  {
   "cell_type": "code",
   "execution_count": 209,
   "id": "168711ec",
   "metadata": {},
   "outputs": [],
   "source": [
    "features[\"area\"]=features[\"width\"]*features[\"height\"]"
   ]
  },
  {
   "cell_type": "code",
   "execution_count": 210,
   "id": "511991f7",
   "metadata": {},
   "outputs": [
    {
     "data": {
      "text/html": [
       "<div>\n",
       "<style scoped>\n",
       "    .dataframe tbody tr th:only-of-type {\n",
       "        vertical-align: middle;\n",
       "    }\n",
       "\n",
       "    .dataframe tbody tr th {\n",
       "        vertical-align: top;\n",
       "    }\n",
       "\n",
       "    .dataframe thead th {\n",
       "        text-align: right;\n",
       "    }\n",
       "</style>\n",
       "<table border=\"1\" class=\"dataframe\">\n",
       "  <thead>\n",
       "    <tr style=\"text-align: right;\">\n",
       "      <th></th>\n",
       "      <th>symboling</th>\n",
       "      <th>normalized-losses</th>\n",
       "      <th>make</th>\n",
       "      <th>fuel-type</th>\n",
       "      <th>body-style</th>\n",
       "      <th>drive-wheels</th>\n",
       "      <th>engine-location</th>\n",
       "      <th>width</th>\n",
       "      <th>height</th>\n",
       "      <th>engine-type</th>\n",
       "      <th>engine-size</th>\n",
       "      <th>horsepower</th>\n",
       "      <th>city-mpg</th>\n",
       "      <th>highway-mpg</th>\n",
       "      <th>area</th>\n",
       "    </tr>\n",
       "  </thead>\n",
       "  <tbody>\n",
       "    <tr>\n",
       "      <th>0</th>\n",
       "      <td>1.857613</td>\n",
       "      <td>0.137829</td>\n",
       "      <td>-1.945079</td>\n",
       "      <td>0.341993</td>\n",
       "      <td>-3.094345</td>\n",
       "      <td>1.219274</td>\n",
       "      <td>-0.126323</td>\n",
       "      <td>-0.826486</td>\n",
       "      <td>-2.073196</td>\n",
       "      <td>-3.088072</td>\n",
       "      <td>0.103548</td>\n",
       "      <td>0.220798</td>\n",
       "      <td>-0.676483</td>\n",
       "      <td>-0.581405</td>\n",
       "      <td>1.713467</td>\n",
       "    </tr>\n",
       "    <tr>\n",
       "      <th>1</th>\n",
       "      <td>1.857613</td>\n",
       "      <td>0.137829</td>\n",
       "      <td>-1.945079</td>\n",
       "      <td>0.341993</td>\n",
       "      <td>-3.094345</td>\n",
       "      <td>1.219274</td>\n",
       "      <td>-0.126323</td>\n",
       "      <td>-0.826486</td>\n",
       "      <td>-2.073196</td>\n",
       "      <td>-3.088072</td>\n",
       "      <td>0.103548</td>\n",
       "      <td>0.220798</td>\n",
       "      <td>-0.676483</td>\n",
       "      <td>-0.581405</td>\n",
       "      <td>1.713467</td>\n",
       "    </tr>\n",
       "    <tr>\n",
       "      <th>2</th>\n",
       "      <td>0.184009</td>\n",
       "      <td>0.137829</td>\n",
       "      <td>-1.945079</td>\n",
       "      <td>0.341993</td>\n",
       "      <td>-0.744365</td>\n",
       "      <td>1.219274</td>\n",
       "      <td>-0.126323</td>\n",
       "      <td>-0.186271</td>\n",
       "      <td>-0.596575</td>\n",
       "      <td>1.927419</td>\n",
       "      <td>0.625260</td>\n",
       "      <td>1.312895</td>\n",
       "      <td>-0.981219</td>\n",
       "      <td>-0.726376</td>\n",
       "      <td>0.111124</td>\n",
       "    </tr>\n",
       "    <tr>\n",
       "      <th>3</th>\n",
       "      <td>1.020811</td>\n",
       "      <td>1.303434</td>\n",
       "      <td>-1.785837</td>\n",
       "      <td>0.341993</td>\n",
       "      <td>0.430625</td>\n",
       "      <td>-0.572121</td>\n",
       "      <td>-0.126323</td>\n",
       "      <td>0.133837</td>\n",
       "      <td>0.182752</td>\n",
       "      <td>-0.078777</td>\n",
       "      <td>-0.394450</td>\n",
       "      <td>-0.007780</td>\n",
       "      <td>-0.219378</td>\n",
       "      <td>-0.146490</td>\n",
       "      <td>0.024459</td>\n",
       "    </tr>\n",
       "  </tbody>\n",
       "</table>\n",
       "</div>"
      ],
      "text/plain": [
       "   symboling  normalized-losses      make  fuel-type  body-style  \\\n",
       "0   1.857613           0.137829 -1.945079   0.341993   -3.094345   \n",
       "1   1.857613           0.137829 -1.945079   0.341993   -3.094345   \n",
       "2   0.184009           0.137829 -1.945079   0.341993   -0.744365   \n",
       "3   1.020811           1.303434 -1.785837   0.341993    0.430625   \n",
       "\n",
       "   drive-wheels  engine-location     width    height  engine-type  \\\n",
       "0      1.219274        -0.126323 -0.826486 -2.073196    -3.088072   \n",
       "1      1.219274        -0.126323 -0.826486 -2.073196    -3.088072   \n",
       "2      1.219274        -0.126323 -0.186271 -0.596575     1.927419   \n",
       "3     -0.572121        -0.126323  0.133837  0.182752    -0.078777   \n",
       "\n",
       "   engine-size  horsepower  city-mpg  highway-mpg      area  \n",
       "0     0.103548    0.220798 -0.676483    -0.581405  1.713467  \n",
       "1     0.103548    0.220798 -0.676483    -0.581405  1.713467  \n",
       "2     0.625260    1.312895 -0.981219    -0.726376  0.111124  \n",
       "3    -0.394450   -0.007780 -0.219378    -0.146490  0.024459  "
      ]
     },
     "execution_count": 210,
     "metadata": {},
     "output_type": "execute_result"
    }
   ],
   "source": [
    "features.head(4)"
   ]
  },
  {
   "cell_type": "code",
   "execution_count": 211,
   "id": "94344f0e",
   "metadata": {},
   "outputs": [
    {
     "data": {
      "text/html": [
       "<div>\n",
       "<style scoped>\n",
       "    .dataframe tbody tr th:only-of-type {\n",
       "        vertical-align: middle;\n",
       "    }\n",
       "\n",
       "    .dataframe tbody tr th {\n",
       "        vertical-align: top;\n",
       "    }\n",
       "\n",
       "    .dataframe thead th {\n",
       "        text-align: right;\n",
       "    }\n",
       "</style>\n",
       "<table border=\"1\" class=\"dataframe\">\n",
       "  <thead>\n",
       "    <tr style=\"text-align: right;\">\n",
       "      <th></th>\n",
       "      <th>symboling</th>\n",
       "      <th>normalized-losses</th>\n",
       "      <th>make</th>\n",
       "      <th>fuel-type</th>\n",
       "      <th>body-style</th>\n",
       "      <th>drive-wheels</th>\n",
       "      <th>engine-location</th>\n",
       "      <th>engine-type</th>\n",
       "      <th>engine-size</th>\n",
       "      <th>horsepower</th>\n",
       "      <th>city-mpg</th>\n",
       "      <th>highway-mpg</th>\n",
       "      <th>area</th>\n",
       "    </tr>\n",
       "  </thead>\n",
       "  <tbody>\n",
       "    <tr>\n",
       "      <th>0</th>\n",
       "      <td>1.857613</td>\n",
       "      <td>0.137829</td>\n",
       "      <td>-1.945079</td>\n",
       "      <td>0.341993</td>\n",
       "      <td>-3.094345</td>\n",
       "      <td>1.219274</td>\n",
       "      <td>-0.126323</td>\n",
       "      <td>-3.088072</td>\n",
       "      <td>0.103548</td>\n",
       "      <td>0.220798</td>\n",
       "      <td>-0.676483</td>\n",
       "      <td>-0.581405</td>\n",
       "      <td>1.713467</td>\n",
       "    </tr>\n",
       "    <tr>\n",
       "      <th>1</th>\n",
       "      <td>1.857613</td>\n",
       "      <td>0.137829</td>\n",
       "      <td>-1.945079</td>\n",
       "      <td>0.341993</td>\n",
       "      <td>-3.094345</td>\n",
       "      <td>1.219274</td>\n",
       "      <td>-0.126323</td>\n",
       "      <td>-3.088072</td>\n",
       "      <td>0.103548</td>\n",
       "      <td>0.220798</td>\n",
       "      <td>-0.676483</td>\n",
       "      <td>-0.581405</td>\n",
       "      <td>1.713467</td>\n",
       "    </tr>\n",
       "    <tr>\n",
       "      <th>2</th>\n",
       "      <td>0.184009</td>\n",
       "      <td>0.137829</td>\n",
       "      <td>-1.945079</td>\n",
       "      <td>0.341993</td>\n",
       "      <td>-0.744365</td>\n",
       "      <td>1.219274</td>\n",
       "      <td>-0.126323</td>\n",
       "      <td>1.927419</td>\n",
       "      <td>0.625260</td>\n",
       "      <td>1.312895</td>\n",
       "      <td>-0.981219</td>\n",
       "      <td>-0.726376</td>\n",
       "      <td>0.111124</td>\n",
       "    </tr>\n",
       "    <tr>\n",
       "      <th>3</th>\n",
       "      <td>1.020811</td>\n",
       "      <td>1.303434</td>\n",
       "      <td>-1.785837</td>\n",
       "      <td>0.341993</td>\n",
       "      <td>0.430625</td>\n",
       "      <td>-0.572121</td>\n",
       "      <td>-0.126323</td>\n",
       "      <td>-0.078777</td>\n",
       "      <td>-0.394450</td>\n",
       "      <td>-0.007780</td>\n",
       "      <td>-0.219378</td>\n",
       "      <td>-0.146490</td>\n",
       "      <td>0.024459</td>\n",
       "    </tr>\n",
       "    <tr>\n",
       "      <th>4</th>\n",
       "      <td>1.020811</td>\n",
       "      <td>1.303434</td>\n",
       "      <td>-1.785837</td>\n",
       "      <td>0.341993</td>\n",
       "      <td>0.430625</td>\n",
       "      <td>-2.363516</td>\n",
       "      <td>-0.126323</td>\n",
       "      <td>-0.078777</td>\n",
       "      <td>0.245833</td>\n",
       "      <td>0.322388</td>\n",
       "      <td>-1.133588</td>\n",
       "      <td>-1.306263</td>\n",
       "      <td>0.041173</td>\n",
       "    </tr>\n",
       "    <tr>\n",
       "      <th>...</th>\n",
       "      <td>...</td>\n",
       "      <td>...</td>\n",
       "      <td>...</td>\n",
       "      <td>...</td>\n",
       "      <td>...</td>\n",
       "      <td>...</td>\n",
       "      <td>...</td>\n",
       "      <td>...</td>\n",
       "      <td>...</td>\n",
       "      <td>...</td>\n",
       "      <td>...</td>\n",
       "      <td>...</td>\n",
       "      <td>...</td>\n",
       "    </tr>\n",
       "    <tr>\n",
       "      <th>200</th>\n",
       "      <td>-1.489596</td>\n",
       "      <td>-0.847717</td>\n",
       "      <td>1.398989</td>\n",
       "      <td>0.341993</td>\n",
       "      <td>0.430625</td>\n",
       "      <td>1.219274</td>\n",
       "      <td>-0.126323</td>\n",
       "      <td>-0.078777</td>\n",
       "      <td>0.364404</td>\n",
       "      <td>0.296991</td>\n",
       "      <td>-0.371747</td>\n",
       "      <td>-0.436433</td>\n",
       "      <td>0.923707</td>\n",
       "    </tr>\n",
       "    <tr>\n",
       "      <th>201</th>\n",
       "      <td>-1.489596</td>\n",
       "      <td>-0.847717</td>\n",
       "      <td>1.398989</td>\n",
       "      <td>0.341993</td>\n",
       "      <td>0.430625</td>\n",
       "      <td>1.219274</td>\n",
       "      <td>-0.126323</td>\n",
       "      <td>-0.078777</td>\n",
       "      <td>0.364404</td>\n",
       "      <td>1.465281</td>\n",
       "      <td>-0.981219</td>\n",
       "      <td>-0.871348</td>\n",
       "      <td>0.892842</td>\n",
       "    </tr>\n",
       "    <tr>\n",
       "      <th>202</th>\n",
       "      <td>-1.489596</td>\n",
       "      <td>-0.847717</td>\n",
       "      <td>1.398989</td>\n",
       "      <td>0.341993</td>\n",
       "      <td>0.430625</td>\n",
       "      <td>1.219274</td>\n",
       "      <td>-0.126323</td>\n",
       "      <td>1.927419</td>\n",
       "      <td>1.123258</td>\n",
       "      <td>0.804943</td>\n",
       "      <td>-1.133588</td>\n",
       "      <td>-1.161291</td>\n",
       "      <td>0.923707</td>\n",
       "    </tr>\n",
       "    <tr>\n",
       "      <th>203</th>\n",
       "      <td>-1.489596</td>\n",
       "      <td>-0.847717</td>\n",
       "      <td>1.398989</td>\n",
       "      <td>-2.924038</td>\n",
       "      <td>0.430625</td>\n",
       "      <td>1.219274</td>\n",
       "      <td>-0.126323</td>\n",
       "      <td>-0.078777</td>\n",
       "      <td>0.459261</td>\n",
       "      <td>0.093810</td>\n",
       "      <td>0.085358</td>\n",
       "      <td>-0.581405</td>\n",
       "      <td>0.923707</td>\n",
       "    </tr>\n",
       "    <tr>\n",
       "      <th>204</th>\n",
       "      <td>-1.489596</td>\n",
       "      <td>-0.847717</td>\n",
       "      <td>1.398989</td>\n",
       "      <td>0.341993</td>\n",
       "      <td>0.430625</td>\n",
       "      <td>1.219274</td>\n",
       "      <td>-0.126323</td>\n",
       "      <td>-0.078777</td>\n",
       "      <td>0.364404</td>\n",
       "      <td>0.296991</td>\n",
       "      <td>-0.981219</td>\n",
       "      <td>-0.871348</td>\n",
       "      <td>0.923707</td>\n",
       "    </tr>\n",
       "  </tbody>\n",
       "</table>\n",
       "<p>191 rows × 13 columns</p>\n",
       "</div>"
      ],
      "text/plain": [
       "     symboling  normalized-losses      make  fuel-type  body-style  \\\n",
       "0     1.857613           0.137829 -1.945079   0.341993   -3.094345   \n",
       "1     1.857613           0.137829 -1.945079   0.341993   -3.094345   \n",
       "2     0.184009           0.137829 -1.945079   0.341993   -0.744365   \n",
       "3     1.020811           1.303434 -1.785837   0.341993    0.430625   \n",
       "4     1.020811           1.303434 -1.785837   0.341993    0.430625   \n",
       "..         ...                ...       ...        ...         ...   \n",
       "200  -1.489596          -0.847717  1.398989   0.341993    0.430625   \n",
       "201  -1.489596          -0.847717  1.398989   0.341993    0.430625   \n",
       "202  -1.489596          -0.847717  1.398989   0.341993    0.430625   \n",
       "203  -1.489596          -0.847717  1.398989  -2.924038    0.430625   \n",
       "204  -1.489596          -0.847717  1.398989   0.341993    0.430625   \n",
       "\n",
       "     drive-wheels  engine-location  engine-type  engine-size  horsepower  \\\n",
       "0        1.219274        -0.126323    -3.088072     0.103548    0.220798   \n",
       "1        1.219274        -0.126323    -3.088072     0.103548    0.220798   \n",
       "2        1.219274        -0.126323     1.927419     0.625260    1.312895   \n",
       "3       -0.572121        -0.126323    -0.078777    -0.394450   -0.007780   \n",
       "4       -2.363516        -0.126323    -0.078777     0.245833    0.322388   \n",
       "..            ...              ...          ...          ...         ...   \n",
       "200      1.219274        -0.126323    -0.078777     0.364404    0.296991   \n",
       "201      1.219274        -0.126323    -0.078777     0.364404    1.465281   \n",
       "202      1.219274        -0.126323     1.927419     1.123258    0.804943   \n",
       "203      1.219274        -0.126323    -0.078777     0.459261    0.093810   \n",
       "204      1.219274        -0.126323    -0.078777     0.364404    0.296991   \n",
       "\n",
       "     city-mpg  highway-mpg      area  \n",
       "0   -0.676483    -0.581405  1.713467  \n",
       "1   -0.676483    -0.581405  1.713467  \n",
       "2   -0.981219    -0.726376  0.111124  \n",
       "3   -0.219378    -0.146490  0.024459  \n",
       "4   -1.133588    -1.306263  0.041173  \n",
       "..        ...          ...       ...  \n",
       "200 -0.371747    -0.436433  0.923707  \n",
       "201 -0.981219    -0.871348  0.892842  \n",
       "202 -1.133588    -1.161291  0.923707  \n",
       "203  0.085358    -0.581405  0.923707  \n",
       "204 -0.981219    -0.871348  0.923707  \n",
       "\n",
       "[191 rows x 13 columns]"
      ]
     },
     "execution_count": 211,
     "metadata": {},
     "output_type": "execute_result"
    }
   ],
   "source": [
    "features.drop([\"width\",\"height\"],axis=1)"
   ]
  },
  {
   "cell_type": "code",
   "execution_count": 212,
   "id": "ca741bd3",
   "metadata": {},
   "outputs": [
    {
     "data": {
      "text/html": [
       "<div>\n",
       "<style scoped>\n",
       "    .dataframe tbody tr th:only-of-type {\n",
       "        vertical-align: middle;\n",
       "    }\n",
       "\n",
       "    .dataframe tbody tr th {\n",
       "        vertical-align: top;\n",
       "    }\n",
       "\n",
       "    .dataframe thead th {\n",
       "        text-align: right;\n",
       "    }\n",
       "</style>\n",
       "<table border=\"1\" class=\"dataframe\">\n",
       "  <thead>\n",
       "    <tr style=\"text-align: right;\">\n",
       "      <th></th>\n",
       "      <th>symboling</th>\n",
       "      <th>normalized-losses</th>\n",
       "      <th>make</th>\n",
       "      <th>fuel-type</th>\n",
       "      <th>body-style</th>\n",
       "      <th>drive-wheels</th>\n",
       "      <th>engine-location</th>\n",
       "      <th>width</th>\n",
       "      <th>height</th>\n",
       "      <th>engine-type</th>\n",
       "      <th>engine-size</th>\n",
       "      <th>horsepower</th>\n",
       "      <th>city-mpg</th>\n",
       "      <th>highway-mpg</th>\n",
       "      <th>area</th>\n",
       "    </tr>\n",
       "  </thead>\n",
       "  <tbody>\n",
       "    <tr>\n",
       "      <th>0</th>\n",
       "      <td>1.857613</td>\n",
       "      <td>0.137829</td>\n",
       "      <td>-1.945079</td>\n",
       "      <td>0.341993</td>\n",
       "      <td>-3.094345</td>\n",
       "      <td>1.219274</td>\n",
       "      <td>-0.126323</td>\n",
       "      <td>-0.826486</td>\n",
       "      <td>-2.073196</td>\n",
       "      <td>-3.088072</td>\n",
       "      <td>0.103548</td>\n",
       "      <td>0.220798</td>\n",
       "      <td>-0.676483</td>\n",
       "      <td>-0.581405</td>\n",
       "      <td>1.713467</td>\n",
       "    </tr>\n",
       "    <tr>\n",
       "      <th>1</th>\n",
       "      <td>1.857613</td>\n",
       "      <td>0.137829</td>\n",
       "      <td>-1.945079</td>\n",
       "      <td>0.341993</td>\n",
       "      <td>-3.094345</td>\n",
       "      <td>1.219274</td>\n",
       "      <td>-0.126323</td>\n",
       "      <td>-0.826486</td>\n",
       "      <td>-2.073196</td>\n",
       "      <td>-3.088072</td>\n",
       "      <td>0.103548</td>\n",
       "      <td>0.220798</td>\n",
       "      <td>-0.676483</td>\n",
       "      <td>-0.581405</td>\n",
       "      <td>1.713467</td>\n",
       "    </tr>\n",
       "  </tbody>\n",
       "</table>\n",
       "</div>"
      ],
      "text/plain": [
       "   symboling  normalized-losses      make  fuel-type  body-style  \\\n",
       "0   1.857613           0.137829 -1.945079   0.341993   -3.094345   \n",
       "1   1.857613           0.137829 -1.945079   0.341993   -3.094345   \n",
       "\n",
       "   drive-wheels  engine-location     width    height  engine-type  \\\n",
       "0      1.219274        -0.126323 -0.826486 -2.073196    -3.088072   \n",
       "1      1.219274        -0.126323 -0.826486 -2.073196    -3.088072   \n",
       "\n",
       "   engine-size  horsepower  city-mpg  highway-mpg      area  \n",
       "0     0.103548    0.220798 -0.676483    -0.581405  1.713467  \n",
       "1     0.103548    0.220798 -0.676483    -0.581405  1.713467  "
      ]
     },
     "execution_count": 212,
     "metadata": {},
     "output_type": "execute_result"
    }
   ],
   "source": [
    "features.head(2)"
   ]
  },
  {
   "cell_type": "code",
   "execution_count": 213,
   "id": "2a05ce36",
   "metadata": {},
   "outputs": [],
   "source": [
    "#train test split"
   ]
  },
  {
   "cell_type": "code",
   "execution_count": 214,
   "id": "99281cd4",
   "metadata": {},
   "outputs": [],
   "source": [
    "from sklearn.model_selection import train_test_split\n",
    "xtrain,xtest,ytrain,ytest=train_test_split(features,target,test_size=0.2,random_state=1)"
   ]
  },
  {
   "cell_type": "code",
   "execution_count": 215,
   "id": "030863c8",
   "metadata": {},
   "outputs": [],
   "source": [
    "pet=[\"cat\",\"dog\",\"fish\",\"turtle\"]"
   ]
  },
  {
   "cell_type": "code",
   "execution_count": 216,
   "id": "777ef869",
   "metadata": {},
   "outputs": [],
   "source": [
    "a,b,c,d=pet"
   ]
  },
  {
   "cell_type": "code",
   "execution_count": 217,
   "id": "4482eb96",
   "metadata": {},
   "outputs": [
    {
     "name": "stdout",
     "output_type": "stream",
     "text": [
      "cat dog fish turtle\n"
     ]
    }
   ],
   "source": [
    "print(a,b,c,d)"
   ]
  },
  {
   "cell_type": "code",
   "execution_count": 218,
   "id": "f3d1f33b",
   "metadata": {},
   "outputs": [
    {
     "data": {
      "text/plain": [
       "(152, 15)"
      ]
     },
     "execution_count": 218,
     "metadata": {},
     "output_type": "execute_result"
    }
   ],
   "source": [
    "xtrain.shape"
   ]
  },
  {
   "cell_type": "code",
   "execution_count": 219,
   "id": "84a7e61a",
   "metadata": {},
   "outputs": [
    {
     "data": {
      "text/plain": [
       "(39, 15)"
      ]
     },
     "execution_count": 219,
     "metadata": {},
     "output_type": "execute_result"
    }
   ],
   "source": [
    "xtest.shape"
   ]
  },
  {
   "cell_type": "code",
   "execution_count": 220,
   "id": "63d9c703",
   "metadata": {},
   "outputs": [
    {
     "data": {
      "text/plain": [
       "(152,)"
      ]
     },
     "execution_count": 220,
     "metadata": {},
     "output_type": "execute_result"
    }
   ],
   "source": [
    "ytrain.shape"
   ]
  },
  {
   "cell_type": "code",
   "execution_count": 221,
   "id": "05fe02fb",
   "metadata": {},
   "outputs": [
    {
     "data": {
      "text/plain": [
       "(39,)"
      ]
     },
     "execution_count": 221,
     "metadata": {},
     "output_type": "execute_result"
    }
   ],
   "source": [
    "ytest.shape"
   ]
  },
  {
   "cell_type": "code",
   "execution_count": null,
   "id": "f6f4aa4f",
   "metadata": {},
   "outputs": [],
   "source": []
  }
 ],
 "metadata": {
  "kernelspec": {
   "display_name": "Python 3 (ipykernel)",
   "language": "python",
   "name": "python3"
  },
  "language_info": {
   "codemirror_mode": {
    "name": "ipython",
    "version": 3
   },
   "file_extension": ".py",
   "mimetype": "text/x-python",
   "name": "python",
   "nbconvert_exporter": "python",
   "pygments_lexer": "ipython3",
   "version": "3.9.7"
  }
 },
 "nbformat": 4,
 "nbformat_minor": 5
}
