{
  "nbformat": 4,
  "nbformat_minor": 0,
  "metadata": {
    "colab": {
      "provenance": []
    },
    "kernelspec": {
      "name": "python3",
      "display_name": "Python 3"
    },
    "language_info": {
      "name": "python"
    }
  },
  "cells": [
    {
      "cell_type": "markdown",
      "source": [
        "PCA on Unsupervised Learning"
      ],
      "metadata": {
        "id": "UkvqGsi8Y9sG"
      }
    },
    {
      "cell_type": "code",
      "execution_count": null,
      "metadata": {
        "id": "8nH3atccuq--"
      },
      "outputs": [],
      "source": [
        "import numpy as np\n",
        "import pandas as pd\n",
        "import matplotlib.pyplot as plt\n",
        "\n",
        "from sklearn.cluster import KMeans\n",
        "import seaborn as sns"
      ]
    },
    {
      "cell_type": "code",
      "source": [
        "df=pd.read_excel(\"University_Clustering.xlsx\")"
      ],
      "metadata": {
        "id": "VE8kGdpAuxZS"
      },
      "execution_count": null,
      "outputs": []
    },
    {
      "cell_type": "code",
      "source": [
        "df"
      ],
      "metadata": {
        "colab": {
          "base_uri": "https://localhost:8080/",
          "height": 833
        },
        "id": "aKt6r2FwuxbM",
        "outputId": "ac53f456-76c8-495a-8747-d062ba25e022"
      },
      "execution_count": null,
      "outputs": [
        {
          "output_type": "execute_result",
          "data": {
            "text/plain": [
              "            Univ State   SAT  Top10  Accept  SFRatio  Expenses  GradRate\n",
              "0          Brown    RI  1310     89      22       13     22704        94\n",
              "1        CalTech    CA  1415    100      25        6     63575        81\n",
              "2            CMU    PA  1260     62      59        9     25026        72\n",
              "3       Columbia    NY  1310     76      24       12     31510        88\n",
              "4        Cornell    NY  1280     83      33       13     21864        90\n",
              "5      Dartmouth    NH  1340     89      23       10     32162        95\n",
              "6           Duke    NC  1315     90      30       12     31585        95\n",
              "7     Georgetown    DC  1255     74      24       12     20126        92\n",
              "8        Harvard    MA  1400     91      14       11     39525        97\n",
              "9   JohnsHopkins    MD  1305     75      44        7     58691        87\n",
              "10           MIT    MA  1380     94      30       10     34870        91\n",
              "11  Northwestern    IL  1260     85      39       11     28052        89\n",
              "12     NotreDame    IN  1255     81      42       13     15122        94\n",
              "13     PennState    PA  1081     38      54       18     10185        80\n",
              "14     Princeton    NJ  1375     91      14        8     30220        95\n",
              "15        Purdue    IN  1005     28      90       19      9066        69\n",
              "16      Stanford    CA  1360     90      20       12     36450        93\n",
              "17      TexasA&M    TX  1075     49      67       25      8704        67\n",
              "18    UCBerkeley    CA  1240     95      40       17     15140        78\n",
              "19      UChicago    IL  1290     75      50       13     38380        87\n",
              "20     UMichigan    MI  1180     65      68       16     15470        85\n",
              "21         UPenn    PA  1285     80      36       11     27553        90\n",
              "22           UVA    VA  1225     77      44       14     13349        92\n",
              "23    UWisconsin    WI  1085     40      69       15     11857        71\n",
              "24          Yale    CT  1375     95      19       11     43514        96"
            ],
            "text/html": [
              "\n",
              "  <div id=\"df-d2210a1c-77dc-4393-a0d4-7dad4b5cc05e\">\n",
              "    <div class=\"colab-df-container\">\n",
              "      <div>\n",
              "<style scoped>\n",
              "    .dataframe tbody tr th:only-of-type {\n",
              "        vertical-align: middle;\n",
              "    }\n",
              "\n",
              "    .dataframe tbody tr th {\n",
              "        vertical-align: top;\n",
              "    }\n",
              "\n",
              "    .dataframe thead th {\n",
              "        text-align: right;\n",
              "    }\n",
              "</style>\n",
              "<table border=\"1\" class=\"dataframe\">\n",
              "  <thead>\n",
              "    <tr style=\"text-align: right;\">\n",
              "      <th></th>\n",
              "      <th>Univ</th>\n",
              "      <th>State</th>\n",
              "      <th>SAT</th>\n",
              "      <th>Top10</th>\n",
              "      <th>Accept</th>\n",
              "      <th>SFRatio</th>\n",
              "      <th>Expenses</th>\n",
              "      <th>GradRate</th>\n",
              "    </tr>\n",
              "  </thead>\n",
              "  <tbody>\n",
              "    <tr>\n",
              "      <th>0</th>\n",
              "      <td>Brown</td>\n",
              "      <td>RI</td>\n",
              "      <td>1310</td>\n",
              "      <td>89</td>\n",
              "      <td>22</td>\n",
              "      <td>13</td>\n",
              "      <td>22704</td>\n",
              "      <td>94</td>\n",
              "    </tr>\n",
              "    <tr>\n",
              "      <th>1</th>\n",
              "      <td>CalTech</td>\n",
              "      <td>CA</td>\n",
              "      <td>1415</td>\n",
              "      <td>100</td>\n",
              "      <td>25</td>\n",
              "      <td>6</td>\n",
              "      <td>63575</td>\n",
              "      <td>81</td>\n",
              "    </tr>\n",
              "    <tr>\n",
              "      <th>2</th>\n",
              "      <td>CMU</td>\n",
              "      <td>PA</td>\n",
              "      <td>1260</td>\n",
              "      <td>62</td>\n",
              "      <td>59</td>\n",
              "      <td>9</td>\n",
              "      <td>25026</td>\n",
              "      <td>72</td>\n",
              "    </tr>\n",
              "    <tr>\n",
              "      <th>3</th>\n",
              "      <td>Columbia</td>\n",
              "      <td>NY</td>\n",
              "      <td>1310</td>\n",
              "      <td>76</td>\n",
              "      <td>24</td>\n",
              "      <td>12</td>\n",
              "      <td>31510</td>\n",
              "      <td>88</td>\n",
              "    </tr>\n",
              "    <tr>\n",
              "      <th>4</th>\n",
              "      <td>Cornell</td>\n",
              "      <td>NY</td>\n",
              "      <td>1280</td>\n",
              "      <td>83</td>\n",
              "      <td>33</td>\n",
              "      <td>13</td>\n",
              "      <td>21864</td>\n",
              "      <td>90</td>\n",
              "    </tr>\n",
              "    <tr>\n",
              "      <th>5</th>\n",
              "      <td>Dartmouth</td>\n",
              "      <td>NH</td>\n",
              "      <td>1340</td>\n",
              "      <td>89</td>\n",
              "      <td>23</td>\n",
              "      <td>10</td>\n",
              "      <td>32162</td>\n",
              "      <td>95</td>\n",
              "    </tr>\n",
              "    <tr>\n",
              "      <th>6</th>\n",
              "      <td>Duke</td>\n",
              "      <td>NC</td>\n",
              "      <td>1315</td>\n",
              "      <td>90</td>\n",
              "      <td>30</td>\n",
              "      <td>12</td>\n",
              "      <td>31585</td>\n",
              "      <td>95</td>\n",
              "    </tr>\n",
              "    <tr>\n",
              "      <th>7</th>\n",
              "      <td>Georgetown</td>\n",
              "      <td>DC</td>\n",
              "      <td>1255</td>\n",
              "      <td>74</td>\n",
              "      <td>24</td>\n",
              "      <td>12</td>\n",
              "      <td>20126</td>\n",
              "      <td>92</td>\n",
              "    </tr>\n",
              "    <tr>\n",
              "      <th>8</th>\n",
              "      <td>Harvard</td>\n",
              "      <td>MA</td>\n",
              "      <td>1400</td>\n",
              "      <td>91</td>\n",
              "      <td>14</td>\n",
              "      <td>11</td>\n",
              "      <td>39525</td>\n",
              "      <td>97</td>\n",
              "    </tr>\n",
              "    <tr>\n",
              "      <th>9</th>\n",
              "      <td>JohnsHopkins</td>\n",
              "      <td>MD</td>\n",
              "      <td>1305</td>\n",
              "      <td>75</td>\n",
              "      <td>44</td>\n",
              "      <td>7</td>\n",
              "      <td>58691</td>\n",
              "      <td>87</td>\n",
              "    </tr>\n",
              "    <tr>\n",
              "      <th>10</th>\n",
              "      <td>MIT</td>\n",
              "      <td>MA</td>\n",
              "      <td>1380</td>\n",
              "      <td>94</td>\n",
              "      <td>30</td>\n",
              "      <td>10</td>\n",
              "      <td>34870</td>\n",
              "      <td>91</td>\n",
              "    </tr>\n",
              "    <tr>\n",
              "      <th>11</th>\n",
              "      <td>Northwestern</td>\n",
              "      <td>IL</td>\n",
              "      <td>1260</td>\n",
              "      <td>85</td>\n",
              "      <td>39</td>\n",
              "      <td>11</td>\n",
              "      <td>28052</td>\n",
              "      <td>89</td>\n",
              "    </tr>\n",
              "    <tr>\n",
              "      <th>12</th>\n",
              "      <td>NotreDame</td>\n",
              "      <td>IN</td>\n",
              "      <td>1255</td>\n",
              "      <td>81</td>\n",
              "      <td>42</td>\n",
              "      <td>13</td>\n",
              "      <td>15122</td>\n",
              "      <td>94</td>\n",
              "    </tr>\n",
              "    <tr>\n",
              "      <th>13</th>\n",
              "      <td>PennState</td>\n",
              "      <td>PA</td>\n",
              "      <td>1081</td>\n",
              "      <td>38</td>\n",
              "      <td>54</td>\n",
              "      <td>18</td>\n",
              "      <td>10185</td>\n",
              "      <td>80</td>\n",
              "    </tr>\n",
              "    <tr>\n",
              "      <th>14</th>\n",
              "      <td>Princeton</td>\n",
              "      <td>NJ</td>\n",
              "      <td>1375</td>\n",
              "      <td>91</td>\n",
              "      <td>14</td>\n",
              "      <td>8</td>\n",
              "      <td>30220</td>\n",
              "      <td>95</td>\n",
              "    </tr>\n",
              "    <tr>\n",
              "      <th>15</th>\n",
              "      <td>Purdue</td>\n",
              "      <td>IN</td>\n",
              "      <td>1005</td>\n",
              "      <td>28</td>\n",
              "      <td>90</td>\n",
              "      <td>19</td>\n",
              "      <td>9066</td>\n",
              "      <td>69</td>\n",
              "    </tr>\n",
              "    <tr>\n",
              "      <th>16</th>\n",
              "      <td>Stanford</td>\n",
              "      <td>CA</td>\n",
              "      <td>1360</td>\n",
              "      <td>90</td>\n",
              "      <td>20</td>\n",
              "      <td>12</td>\n",
              "      <td>36450</td>\n",
              "      <td>93</td>\n",
              "    </tr>\n",
              "    <tr>\n",
              "      <th>17</th>\n",
              "      <td>TexasA&amp;M</td>\n",
              "      <td>TX</td>\n",
              "      <td>1075</td>\n",
              "      <td>49</td>\n",
              "      <td>67</td>\n",
              "      <td>25</td>\n",
              "      <td>8704</td>\n",
              "      <td>67</td>\n",
              "    </tr>\n",
              "    <tr>\n",
              "      <th>18</th>\n",
              "      <td>UCBerkeley</td>\n",
              "      <td>CA</td>\n",
              "      <td>1240</td>\n",
              "      <td>95</td>\n",
              "      <td>40</td>\n",
              "      <td>17</td>\n",
              "      <td>15140</td>\n",
              "      <td>78</td>\n",
              "    </tr>\n",
              "    <tr>\n",
              "      <th>19</th>\n",
              "      <td>UChicago</td>\n",
              "      <td>IL</td>\n",
              "      <td>1290</td>\n",
              "      <td>75</td>\n",
              "      <td>50</td>\n",
              "      <td>13</td>\n",
              "      <td>38380</td>\n",
              "      <td>87</td>\n",
              "    </tr>\n",
              "    <tr>\n",
              "      <th>20</th>\n",
              "      <td>UMichigan</td>\n",
              "      <td>MI</td>\n",
              "      <td>1180</td>\n",
              "      <td>65</td>\n",
              "      <td>68</td>\n",
              "      <td>16</td>\n",
              "      <td>15470</td>\n",
              "      <td>85</td>\n",
              "    </tr>\n",
              "    <tr>\n",
              "      <th>21</th>\n",
              "      <td>UPenn</td>\n",
              "      <td>PA</td>\n",
              "      <td>1285</td>\n",
              "      <td>80</td>\n",
              "      <td>36</td>\n",
              "      <td>11</td>\n",
              "      <td>27553</td>\n",
              "      <td>90</td>\n",
              "    </tr>\n",
              "    <tr>\n",
              "      <th>22</th>\n",
              "      <td>UVA</td>\n",
              "      <td>VA</td>\n",
              "      <td>1225</td>\n",
              "      <td>77</td>\n",
              "      <td>44</td>\n",
              "      <td>14</td>\n",
              "      <td>13349</td>\n",
              "      <td>92</td>\n",
              "    </tr>\n",
              "    <tr>\n",
              "      <th>23</th>\n",
              "      <td>UWisconsin</td>\n",
              "      <td>WI</td>\n",
              "      <td>1085</td>\n",
              "      <td>40</td>\n",
              "      <td>69</td>\n",
              "      <td>15</td>\n",
              "      <td>11857</td>\n",
              "      <td>71</td>\n",
              "    </tr>\n",
              "    <tr>\n",
              "      <th>24</th>\n",
              "      <td>Yale</td>\n",
              "      <td>CT</td>\n",
              "      <td>1375</td>\n",
              "      <td>95</td>\n",
              "      <td>19</td>\n",
              "      <td>11</td>\n",
              "      <td>43514</td>\n",
              "      <td>96</td>\n",
              "    </tr>\n",
              "  </tbody>\n",
              "</table>\n",
              "</div>\n",
              "      <button class=\"colab-df-convert\" onclick=\"convertToInteractive('df-d2210a1c-77dc-4393-a0d4-7dad4b5cc05e')\"\n",
              "              title=\"Convert this dataframe to an interactive table.\"\n",
              "              style=\"display:none;\">\n",
              "        \n",
              "  <svg xmlns=\"http://www.w3.org/2000/svg\" height=\"24px\"viewBox=\"0 0 24 24\"\n",
              "       width=\"24px\">\n",
              "    <path d=\"M0 0h24v24H0V0z\" fill=\"none\"/>\n",
              "    <path d=\"M18.56 5.44l.94 2.06.94-2.06 2.06-.94-2.06-.94-.94-2.06-.94 2.06-2.06.94zm-11 1L8.5 8.5l.94-2.06 2.06-.94-2.06-.94L8.5 2.5l-.94 2.06-2.06.94zm10 10l.94 2.06.94-2.06 2.06-.94-2.06-.94-.94-2.06-.94 2.06-2.06.94z\"/><path d=\"M17.41 7.96l-1.37-1.37c-.4-.4-.92-.59-1.43-.59-.52 0-1.04.2-1.43.59L10.3 9.45l-7.72 7.72c-.78.78-.78 2.05 0 2.83L4 21.41c.39.39.9.59 1.41.59.51 0 1.02-.2 1.41-.59l7.78-7.78 2.81-2.81c.8-.78.8-2.07 0-2.86zM5.41 20L4 18.59l7.72-7.72 1.47 1.35L5.41 20z\"/>\n",
              "  </svg>\n",
              "      </button>\n",
              "      \n",
              "  <style>\n",
              "    .colab-df-container {\n",
              "      display:flex;\n",
              "      flex-wrap:wrap;\n",
              "      gap: 12px;\n",
              "    }\n",
              "\n",
              "    .colab-df-convert {\n",
              "      background-color: #E8F0FE;\n",
              "      border: none;\n",
              "      border-radius: 50%;\n",
              "      cursor: pointer;\n",
              "      display: none;\n",
              "      fill: #1967D2;\n",
              "      height: 32px;\n",
              "      padding: 0 0 0 0;\n",
              "      width: 32px;\n",
              "    }\n",
              "\n",
              "    .colab-df-convert:hover {\n",
              "      background-color: #E2EBFA;\n",
              "      box-shadow: 0px 1px 2px rgba(60, 64, 67, 0.3), 0px 1px 3px 1px rgba(60, 64, 67, 0.15);\n",
              "      fill: #174EA6;\n",
              "    }\n",
              "\n",
              "    [theme=dark] .colab-df-convert {\n",
              "      background-color: #3B4455;\n",
              "      fill: #D2E3FC;\n",
              "    }\n",
              "\n",
              "    [theme=dark] .colab-df-convert:hover {\n",
              "      background-color: #434B5C;\n",
              "      box-shadow: 0px 1px 3px 1px rgba(0, 0, 0, 0.15);\n",
              "      filter: drop-shadow(0px 1px 2px rgba(0, 0, 0, 0.3));\n",
              "      fill: #FFFFFF;\n",
              "    }\n",
              "  </style>\n",
              "\n",
              "      <script>\n",
              "        const buttonEl =\n",
              "          document.querySelector('#df-d2210a1c-77dc-4393-a0d4-7dad4b5cc05e button.colab-df-convert');\n",
              "        buttonEl.style.display =\n",
              "          google.colab.kernel.accessAllowed ? 'block' : 'none';\n",
              "\n",
              "        async function convertToInteractive(key) {\n",
              "          const element = document.querySelector('#df-d2210a1c-77dc-4393-a0d4-7dad4b5cc05e');\n",
              "          const dataTable =\n",
              "            await google.colab.kernel.invokeFunction('convertToInteractive',\n",
              "                                                     [key], {});\n",
              "          if (!dataTable) return;\n",
              "\n",
              "          const docLinkHtml = 'Like what you see? Visit the ' +\n",
              "            '<a target=\"_blank\" href=https://colab.research.google.com/notebooks/data_table.ipynb>data table notebook</a>'\n",
              "            + ' to learn more about interactive tables.';\n",
              "          element.innerHTML = '';\n",
              "          dataTable['output_type'] = 'display_data';\n",
              "          await google.colab.output.renderOutput(dataTable, element);\n",
              "          const docLink = document.createElement('div');\n",
              "          docLink.innerHTML = docLinkHtml;\n",
              "          element.appendChild(docLink);\n",
              "        }\n",
              "      </script>\n",
              "    </div>\n",
              "  </div>\n",
              "  "
            ]
          },
          "metadata": {},
          "execution_count": 26
        }
      ]
    },
    {
      "cell_type": "code",
      "source": [
        "df.drop(\"State\",axis=1,inplace=True)"
      ],
      "metadata": {
        "id": "VNHBZlojuxdo"
      },
      "execution_count": null,
      "outputs": []
    },
    {
      "cell_type": "code",
      "source": [
        "df.shape"
      ],
      "metadata": {
        "colab": {
          "base_uri": "https://localhost:8080/"
        },
        "id": "TFbLWJr_uxf0",
        "outputId": "cd531acd-a2ac-4938-e8f2-d694bb08fa8a"
      },
      "execution_count": null,
      "outputs": [
        {
          "output_type": "execute_result",
          "data": {
            "text/plain": [
              "(25, 7)"
            ]
          },
          "metadata": {},
          "execution_count": 28
        }
      ]
    },
    {
      "cell_type": "code",
      "source": [
        "df.info()"
      ],
      "metadata": {
        "colab": {
          "base_uri": "https://localhost:8080/"
        },
        "id": "EGh0poIHuxhy",
        "outputId": "2599fb6e-6ab9-4f5d-8b81-a3cd9d8ddbfd"
      },
      "execution_count": null,
      "outputs": [
        {
          "output_type": "stream",
          "name": "stdout",
          "text": [
            "<class 'pandas.core.frame.DataFrame'>\n",
            "RangeIndex: 25 entries, 0 to 24\n",
            "Data columns (total 7 columns):\n",
            " #   Column    Non-Null Count  Dtype \n",
            "---  ------    --------------  ----- \n",
            " 0   Univ      25 non-null     object\n",
            " 1   SAT       25 non-null     int64 \n",
            " 2   Top10     25 non-null     int64 \n",
            " 3   Accept    25 non-null     int64 \n",
            " 4   SFRatio   25 non-null     int64 \n",
            " 5   Expenses  25 non-null     int64 \n",
            " 6   GradRate  25 non-null     int64 \n",
            "dtypes: int64(6), object(1)\n",
            "memory usage: 1.5+ KB\n"
          ]
        }
      ]
    },
    {
      "cell_type": "code",
      "source": [
        "df.describe()"
      ],
      "metadata": {
        "colab": {
          "base_uri": "https://localhost:8080/",
          "height": 300
        },
        "id": "LIAtAczduxke",
        "outputId": "ea7750a2-6ac0-4e94-8fbd-2fd6acf76df3"
      },
      "execution_count": null,
      "outputs": [
        {
          "output_type": "execute_result",
          "data": {
            "text/plain": [
              "               SAT       Top10     Accept   SFRatio      Expenses   GradRate\n",
              "count    25.000000   25.000000  25.000000  25.00000     25.000000  25.000000\n",
              "mean   1266.440000   76.480000  39.200000  12.72000  27388.000000  86.720000\n",
              "std     108.359771   19.433905  19.727308   4.06735  14424.883165   9.057778\n",
              "min    1005.000000   28.000000  14.000000   6.00000   8704.000000  67.000000\n",
              "25%    1240.000000   74.000000  24.000000  11.00000  15140.000000  81.000000\n",
              "50%    1285.000000   81.000000  36.000000  12.00000  27553.000000  90.000000\n",
              "75%    1340.000000   90.000000  50.000000  14.00000  34870.000000  94.000000\n",
              "max    1415.000000  100.000000  90.000000  25.00000  63575.000000  97.000000"
            ],
            "text/html": [
              "\n",
              "  <div id=\"df-6a0483be-953c-4282-a4c7-421935f96111\">\n",
              "    <div class=\"colab-df-container\">\n",
              "      <div>\n",
              "<style scoped>\n",
              "    .dataframe tbody tr th:only-of-type {\n",
              "        vertical-align: middle;\n",
              "    }\n",
              "\n",
              "    .dataframe tbody tr th {\n",
              "        vertical-align: top;\n",
              "    }\n",
              "\n",
              "    .dataframe thead th {\n",
              "        text-align: right;\n",
              "    }\n",
              "</style>\n",
              "<table border=\"1\" class=\"dataframe\">\n",
              "  <thead>\n",
              "    <tr style=\"text-align: right;\">\n",
              "      <th></th>\n",
              "      <th>SAT</th>\n",
              "      <th>Top10</th>\n",
              "      <th>Accept</th>\n",
              "      <th>SFRatio</th>\n",
              "      <th>Expenses</th>\n",
              "      <th>GradRate</th>\n",
              "    </tr>\n",
              "  </thead>\n",
              "  <tbody>\n",
              "    <tr>\n",
              "      <th>count</th>\n",
              "      <td>25.000000</td>\n",
              "      <td>25.000000</td>\n",
              "      <td>25.000000</td>\n",
              "      <td>25.00000</td>\n",
              "      <td>25.000000</td>\n",
              "      <td>25.000000</td>\n",
              "    </tr>\n",
              "    <tr>\n",
              "      <th>mean</th>\n",
              "      <td>1266.440000</td>\n",
              "      <td>76.480000</td>\n",
              "      <td>39.200000</td>\n",
              "      <td>12.72000</td>\n",
              "      <td>27388.000000</td>\n",
              "      <td>86.720000</td>\n",
              "    </tr>\n",
              "    <tr>\n",
              "      <th>std</th>\n",
              "      <td>108.359771</td>\n",
              "      <td>19.433905</td>\n",
              "      <td>19.727308</td>\n",
              "      <td>4.06735</td>\n",
              "      <td>14424.883165</td>\n",
              "      <td>9.057778</td>\n",
              "    </tr>\n",
              "    <tr>\n",
              "      <th>min</th>\n",
              "      <td>1005.000000</td>\n",
              "      <td>28.000000</td>\n",
              "      <td>14.000000</td>\n",
              "      <td>6.00000</td>\n",
              "      <td>8704.000000</td>\n",
              "      <td>67.000000</td>\n",
              "    </tr>\n",
              "    <tr>\n",
              "      <th>25%</th>\n",
              "      <td>1240.000000</td>\n",
              "      <td>74.000000</td>\n",
              "      <td>24.000000</td>\n",
              "      <td>11.00000</td>\n",
              "      <td>15140.000000</td>\n",
              "      <td>81.000000</td>\n",
              "    </tr>\n",
              "    <tr>\n",
              "      <th>50%</th>\n",
              "      <td>1285.000000</td>\n",
              "      <td>81.000000</td>\n",
              "      <td>36.000000</td>\n",
              "      <td>12.00000</td>\n",
              "      <td>27553.000000</td>\n",
              "      <td>90.000000</td>\n",
              "    </tr>\n",
              "    <tr>\n",
              "      <th>75%</th>\n",
              "      <td>1340.000000</td>\n",
              "      <td>90.000000</td>\n",
              "      <td>50.000000</td>\n",
              "      <td>14.00000</td>\n",
              "      <td>34870.000000</td>\n",
              "      <td>94.000000</td>\n",
              "    </tr>\n",
              "    <tr>\n",
              "      <th>max</th>\n",
              "      <td>1415.000000</td>\n",
              "      <td>100.000000</td>\n",
              "      <td>90.000000</td>\n",
              "      <td>25.00000</td>\n",
              "      <td>63575.000000</td>\n",
              "      <td>97.000000</td>\n",
              "    </tr>\n",
              "  </tbody>\n",
              "</table>\n",
              "</div>\n",
              "      <button class=\"colab-df-convert\" onclick=\"convertToInteractive('df-6a0483be-953c-4282-a4c7-421935f96111')\"\n",
              "              title=\"Convert this dataframe to an interactive table.\"\n",
              "              style=\"display:none;\">\n",
              "        \n",
              "  <svg xmlns=\"http://www.w3.org/2000/svg\" height=\"24px\"viewBox=\"0 0 24 24\"\n",
              "       width=\"24px\">\n",
              "    <path d=\"M0 0h24v24H0V0z\" fill=\"none\"/>\n",
              "    <path d=\"M18.56 5.44l.94 2.06.94-2.06 2.06-.94-2.06-.94-.94-2.06-.94 2.06-2.06.94zm-11 1L8.5 8.5l.94-2.06 2.06-.94-2.06-.94L8.5 2.5l-.94 2.06-2.06.94zm10 10l.94 2.06.94-2.06 2.06-.94-2.06-.94-.94-2.06-.94 2.06-2.06.94z\"/><path d=\"M17.41 7.96l-1.37-1.37c-.4-.4-.92-.59-1.43-.59-.52 0-1.04.2-1.43.59L10.3 9.45l-7.72 7.72c-.78.78-.78 2.05 0 2.83L4 21.41c.39.39.9.59 1.41.59.51 0 1.02-.2 1.41-.59l7.78-7.78 2.81-2.81c.8-.78.8-2.07 0-2.86zM5.41 20L4 18.59l7.72-7.72 1.47 1.35L5.41 20z\"/>\n",
              "  </svg>\n",
              "      </button>\n",
              "      \n",
              "  <style>\n",
              "    .colab-df-container {\n",
              "      display:flex;\n",
              "      flex-wrap:wrap;\n",
              "      gap: 12px;\n",
              "    }\n",
              "\n",
              "    .colab-df-convert {\n",
              "      background-color: #E8F0FE;\n",
              "      border: none;\n",
              "      border-radius: 50%;\n",
              "      cursor: pointer;\n",
              "      display: none;\n",
              "      fill: #1967D2;\n",
              "      height: 32px;\n",
              "      padding: 0 0 0 0;\n",
              "      width: 32px;\n",
              "    }\n",
              "\n",
              "    .colab-df-convert:hover {\n",
              "      background-color: #E2EBFA;\n",
              "      box-shadow: 0px 1px 2px rgba(60, 64, 67, 0.3), 0px 1px 3px 1px rgba(60, 64, 67, 0.15);\n",
              "      fill: #174EA6;\n",
              "    }\n",
              "\n",
              "    [theme=dark] .colab-df-convert {\n",
              "      background-color: #3B4455;\n",
              "      fill: #D2E3FC;\n",
              "    }\n",
              "\n",
              "    [theme=dark] .colab-df-convert:hover {\n",
              "      background-color: #434B5C;\n",
              "      box-shadow: 0px 1px 3px 1px rgba(0, 0, 0, 0.15);\n",
              "      filter: drop-shadow(0px 1px 2px rgba(0, 0, 0, 0.3));\n",
              "      fill: #FFFFFF;\n",
              "    }\n",
              "  </style>\n",
              "\n",
              "      <script>\n",
              "        const buttonEl =\n",
              "          document.querySelector('#df-6a0483be-953c-4282-a4c7-421935f96111 button.colab-df-convert');\n",
              "        buttonEl.style.display =\n",
              "          google.colab.kernel.accessAllowed ? 'block' : 'none';\n",
              "\n",
              "        async function convertToInteractive(key) {\n",
              "          const element = document.querySelector('#df-6a0483be-953c-4282-a4c7-421935f96111');\n",
              "          const dataTable =\n",
              "            await google.colab.kernel.invokeFunction('convertToInteractive',\n",
              "                                                     [key], {});\n",
              "          if (!dataTable) return;\n",
              "\n",
              "          const docLinkHtml = 'Like what you see? Visit the ' +\n",
              "            '<a target=\"_blank\" href=https://colab.research.google.com/notebooks/data_table.ipynb>data table notebook</a>'\n",
              "            + ' to learn more about interactive tables.';\n",
              "          element.innerHTML = '';\n",
              "          dataTable['output_type'] = 'display_data';\n",
              "          await google.colab.output.renderOutput(dataTable, element);\n",
              "          const docLink = document.createElement('div');\n",
              "          docLink.innerHTML = docLinkHtml;\n",
              "          element.appendChild(docLink);\n",
              "        }\n",
              "      </script>\n",
              "    </div>\n",
              "  </div>\n",
              "  "
            ]
          },
          "metadata": {},
          "execution_count": 30
        }
      ]
    },
    {
      "cell_type": "code",
      "source": [
        "df_new=df.drop(\"Univ\",axis=1)\n",
        "df_new"
      ],
      "metadata": {
        "colab": {
          "base_uri": "https://localhost:8080/",
          "height": 833
        },
        "id": "O6PBxaaDuxm1",
        "outputId": "b7aff031-bded-4eea-c2e7-b8054da5959c"
      },
      "execution_count": null,
      "outputs": [
        {
          "output_type": "execute_result",
          "data": {
            "text/plain": [
              "     SAT  Top10  Accept  SFRatio  Expenses  GradRate\n",
              "0   1310     89      22       13     22704        94\n",
              "1   1415    100      25        6     63575        81\n",
              "2   1260     62      59        9     25026        72\n",
              "3   1310     76      24       12     31510        88\n",
              "4   1280     83      33       13     21864        90\n",
              "5   1340     89      23       10     32162        95\n",
              "6   1315     90      30       12     31585        95\n",
              "7   1255     74      24       12     20126        92\n",
              "8   1400     91      14       11     39525        97\n",
              "9   1305     75      44        7     58691        87\n",
              "10  1380     94      30       10     34870        91\n",
              "11  1260     85      39       11     28052        89\n",
              "12  1255     81      42       13     15122        94\n",
              "13  1081     38      54       18     10185        80\n",
              "14  1375     91      14        8     30220        95\n",
              "15  1005     28      90       19      9066        69\n",
              "16  1360     90      20       12     36450        93\n",
              "17  1075     49      67       25      8704        67\n",
              "18  1240     95      40       17     15140        78\n",
              "19  1290     75      50       13     38380        87\n",
              "20  1180     65      68       16     15470        85\n",
              "21  1285     80      36       11     27553        90\n",
              "22  1225     77      44       14     13349        92\n",
              "23  1085     40      69       15     11857        71\n",
              "24  1375     95      19       11     43514        96"
            ],
            "text/html": [
              "\n",
              "  <div id=\"df-7afb8851-8f11-4450-8ddc-c8e3f48aac9f\">\n",
              "    <div class=\"colab-df-container\">\n",
              "      <div>\n",
              "<style scoped>\n",
              "    .dataframe tbody tr th:only-of-type {\n",
              "        vertical-align: middle;\n",
              "    }\n",
              "\n",
              "    .dataframe tbody tr th {\n",
              "        vertical-align: top;\n",
              "    }\n",
              "\n",
              "    .dataframe thead th {\n",
              "        text-align: right;\n",
              "    }\n",
              "</style>\n",
              "<table border=\"1\" class=\"dataframe\">\n",
              "  <thead>\n",
              "    <tr style=\"text-align: right;\">\n",
              "      <th></th>\n",
              "      <th>SAT</th>\n",
              "      <th>Top10</th>\n",
              "      <th>Accept</th>\n",
              "      <th>SFRatio</th>\n",
              "      <th>Expenses</th>\n",
              "      <th>GradRate</th>\n",
              "    </tr>\n",
              "  </thead>\n",
              "  <tbody>\n",
              "    <tr>\n",
              "      <th>0</th>\n",
              "      <td>1310</td>\n",
              "      <td>89</td>\n",
              "      <td>22</td>\n",
              "      <td>13</td>\n",
              "      <td>22704</td>\n",
              "      <td>94</td>\n",
              "    </tr>\n",
              "    <tr>\n",
              "      <th>1</th>\n",
              "      <td>1415</td>\n",
              "      <td>100</td>\n",
              "      <td>25</td>\n",
              "      <td>6</td>\n",
              "      <td>63575</td>\n",
              "      <td>81</td>\n",
              "    </tr>\n",
              "    <tr>\n",
              "      <th>2</th>\n",
              "      <td>1260</td>\n",
              "      <td>62</td>\n",
              "      <td>59</td>\n",
              "      <td>9</td>\n",
              "      <td>25026</td>\n",
              "      <td>72</td>\n",
              "    </tr>\n",
              "    <tr>\n",
              "      <th>3</th>\n",
              "      <td>1310</td>\n",
              "      <td>76</td>\n",
              "      <td>24</td>\n",
              "      <td>12</td>\n",
              "      <td>31510</td>\n",
              "      <td>88</td>\n",
              "    </tr>\n",
              "    <tr>\n",
              "      <th>4</th>\n",
              "      <td>1280</td>\n",
              "      <td>83</td>\n",
              "      <td>33</td>\n",
              "      <td>13</td>\n",
              "      <td>21864</td>\n",
              "      <td>90</td>\n",
              "    </tr>\n",
              "    <tr>\n",
              "      <th>5</th>\n",
              "      <td>1340</td>\n",
              "      <td>89</td>\n",
              "      <td>23</td>\n",
              "      <td>10</td>\n",
              "      <td>32162</td>\n",
              "      <td>95</td>\n",
              "    </tr>\n",
              "    <tr>\n",
              "      <th>6</th>\n",
              "      <td>1315</td>\n",
              "      <td>90</td>\n",
              "      <td>30</td>\n",
              "      <td>12</td>\n",
              "      <td>31585</td>\n",
              "      <td>95</td>\n",
              "    </tr>\n",
              "    <tr>\n",
              "      <th>7</th>\n",
              "      <td>1255</td>\n",
              "      <td>74</td>\n",
              "      <td>24</td>\n",
              "      <td>12</td>\n",
              "      <td>20126</td>\n",
              "      <td>92</td>\n",
              "    </tr>\n",
              "    <tr>\n",
              "      <th>8</th>\n",
              "      <td>1400</td>\n",
              "      <td>91</td>\n",
              "      <td>14</td>\n",
              "      <td>11</td>\n",
              "      <td>39525</td>\n",
              "      <td>97</td>\n",
              "    </tr>\n",
              "    <tr>\n",
              "      <th>9</th>\n",
              "      <td>1305</td>\n",
              "      <td>75</td>\n",
              "      <td>44</td>\n",
              "      <td>7</td>\n",
              "      <td>58691</td>\n",
              "      <td>87</td>\n",
              "    </tr>\n",
              "    <tr>\n",
              "      <th>10</th>\n",
              "      <td>1380</td>\n",
              "      <td>94</td>\n",
              "      <td>30</td>\n",
              "      <td>10</td>\n",
              "      <td>34870</td>\n",
              "      <td>91</td>\n",
              "    </tr>\n",
              "    <tr>\n",
              "      <th>11</th>\n",
              "      <td>1260</td>\n",
              "      <td>85</td>\n",
              "      <td>39</td>\n",
              "      <td>11</td>\n",
              "      <td>28052</td>\n",
              "      <td>89</td>\n",
              "    </tr>\n",
              "    <tr>\n",
              "      <th>12</th>\n",
              "      <td>1255</td>\n",
              "      <td>81</td>\n",
              "      <td>42</td>\n",
              "      <td>13</td>\n",
              "      <td>15122</td>\n",
              "      <td>94</td>\n",
              "    </tr>\n",
              "    <tr>\n",
              "      <th>13</th>\n",
              "      <td>1081</td>\n",
              "      <td>38</td>\n",
              "      <td>54</td>\n",
              "      <td>18</td>\n",
              "      <td>10185</td>\n",
              "      <td>80</td>\n",
              "    </tr>\n",
              "    <tr>\n",
              "      <th>14</th>\n",
              "      <td>1375</td>\n",
              "      <td>91</td>\n",
              "      <td>14</td>\n",
              "      <td>8</td>\n",
              "      <td>30220</td>\n",
              "      <td>95</td>\n",
              "    </tr>\n",
              "    <tr>\n",
              "      <th>15</th>\n",
              "      <td>1005</td>\n",
              "      <td>28</td>\n",
              "      <td>90</td>\n",
              "      <td>19</td>\n",
              "      <td>9066</td>\n",
              "      <td>69</td>\n",
              "    </tr>\n",
              "    <tr>\n",
              "      <th>16</th>\n",
              "      <td>1360</td>\n",
              "      <td>90</td>\n",
              "      <td>20</td>\n",
              "      <td>12</td>\n",
              "      <td>36450</td>\n",
              "      <td>93</td>\n",
              "    </tr>\n",
              "    <tr>\n",
              "      <th>17</th>\n",
              "      <td>1075</td>\n",
              "      <td>49</td>\n",
              "      <td>67</td>\n",
              "      <td>25</td>\n",
              "      <td>8704</td>\n",
              "      <td>67</td>\n",
              "    </tr>\n",
              "    <tr>\n",
              "      <th>18</th>\n",
              "      <td>1240</td>\n",
              "      <td>95</td>\n",
              "      <td>40</td>\n",
              "      <td>17</td>\n",
              "      <td>15140</td>\n",
              "      <td>78</td>\n",
              "    </tr>\n",
              "    <tr>\n",
              "      <th>19</th>\n",
              "      <td>1290</td>\n",
              "      <td>75</td>\n",
              "      <td>50</td>\n",
              "      <td>13</td>\n",
              "      <td>38380</td>\n",
              "      <td>87</td>\n",
              "    </tr>\n",
              "    <tr>\n",
              "      <th>20</th>\n",
              "      <td>1180</td>\n",
              "      <td>65</td>\n",
              "      <td>68</td>\n",
              "      <td>16</td>\n",
              "      <td>15470</td>\n",
              "      <td>85</td>\n",
              "    </tr>\n",
              "    <tr>\n",
              "      <th>21</th>\n",
              "      <td>1285</td>\n",
              "      <td>80</td>\n",
              "      <td>36</td>\n",
              "      <td>11</td>\n",
              "      <td>27553</td>\n",
              "      <td>90</td>\n",
              "    </tr>\n",
              "    <tr>\n",
              "      <th>22</th>\n",
              "      <td>1225</td>\n",
              "      <td>77</td>\n",
              "      <td>44</td>\n",
              "      <td>14</td>\n",
              "      <td>13349</td>\n",
              "      <td>92</td>\n",
              "    </tr>\n",
              "    <tr>\n",
              "      <th>23</th>\n",
              "      <td>1085</td>\n",
              "      <td>40</td>\n",
              "      <td>69</td>\n",
              "      <td>15</td>\n",
              "      <td>11857</td>\n",
              "      <td>71</td>\n",
              "    </tr>\n",
              "    <tr>\n",
              "      <th>24</th>\n",
              "      <td>1375</td>\n",
              "      <td>95</td>\n",
              "      <td>19</td>\n",
              "      <td>11</td>\n",
              "      <td>43514</td>\n",
              "      <td>96</td>\n",
              "    </tr>\n",
              "  </tbody>\n",
              "</table>\n",
              "</div>\n",
              "      <button class=\"colab-df-convert\" onclick=\"convertToInteractive('df-7afb8851-8f11-4450-8ddc-c8e3f48aac9f')\"\n",
              "              title=\"Convert this dataframe to an interactive table.\"\n",
              "              style=\"display:none;\">\n",
              "        \n",
              "  <svg xmlns=\"http://www.w3.org/2000/svg\" height=\"24px\"viewBox=\"0 0 24 24\"\n",
              "       width=\"24px\">\n",
              "    <path d=\"M0 0h24v24H0V0z\" fill=\"none\"/>\n",
              "    <path d=\"M18.56 5.44l.94 2.06.94-2.06 2.06-.94-2.06-.94-.94-2.06-.94 2.06-2.06.94zm-11 1L8.5 8.5l.94-2.06 2.06-.94-2.06-.94L8.5 2.5l-.94 2.06-2.06.94zm10 10l.94 2.06.94-2.06 2.06-.94-2.06-.94-.94-2.06-.94 2.06-2.06.94z\"/><path d=\"M17.41 7.96l-1.37-1.37c-.4-.4-.92-.59-1.43-.59-.52 0-1.04.2-1.43.59L10.3 9.45l-7.72 7.72c-.78.78-.78 2.05 0 2.83L4 21.41c.39.39.9.59 1.41.59.51 0 1.02-.2 1.41-.59l7.78-7.78 2.81-2.81c.8-.78.8-2.07 0-2.86zM5.41 20L4 18.59l7.72-7.72 1.47 1.35L5.41 20z\"/>\n",
              "  </svg>\n",
              "      </button>\n",
              "      \n",
              "  <style>\n",
              "    .colab-df-container {\n",
              "      display:flex;\n",
              "      flex-wrap:wrap;\n",
              "      gap: 12px;\n",
              "    }\n",
              "\n",
              "    .colab-df-convert {\n",
              "      background-color: #E8F0FE;\n",
              "      border: none;\n",
              "      border-radius: 50%;\n",
              "      cursor: pointer;\n",
              "      display: none;\n",
              "      fill: #1967D2;\n",
              "      height: 32px;\n",
              "      padding: 0 0 0 0;\n",
              "      width: 32px;\n",
              "    }\n",
              "\n",
              "    .colab-df-convert:hover {\n",
              "      background-color: #E2EBFA;\n",
              "      box-shadow: 0px 1px 2px rgba(60, 64, 67, 0.3), 0px 1px 3px 1px rgba(60, 64, 67, 0.15);\n",
              "      fill: #174EA6;\n",
              "    }\n",
              "\n",
              "    [theme=dark] .colab-df-convert {\n",
              "      background-color: #3B4455;\n",
              "      fill: #D2E3FC;\n",
              "    }\n",
              "\n",
              "    [theme=dark] .colab-df-convert:hover {\n",
              "      background-color: #434B5C;\n",
              "      box-shadow: 0px 1px 3px 1px rgba(0, 0, 0, 0.15);\n",
              "      filter: drop-shadow(0px 1px 2px rgba(0, 0, 0, 0.3));\n",
              "      fill: #FFFFFF;\n",
              "    }\n",
              "  </style>\n",
              "\n",
              "      <script>\n",
              "        const buttonEl =\n",
              "          document.querySelector('#df-7afb8851-8f11-4450-8ddc-c8e3f48aac9f button.colab-df-convert');\n",
              "        buttonEl.style.display =\n",
              "          google.colab.kernel.accessAllowed ? 'block' : 'none';\n",
              "\n",
              "        async function convertToInteractive(key) {\n",
              "          const element = document.querySelector('#df-7afb8851-8f11-4450-8ddc-c8e3f48aac9f');\n",
              "          const dataTable =\n",
              "            await google.colab.kernel.invokeFunction('convertToInteractive',\n",
              "                                                     [key], {});\n",
              "          if (!dataTable) return;\n",
              "\n",
              "          const docLinkHtml = 'Like what you see? Visit the ' +\n",
              "            '<a target=\"_blank\" href=https://colab.research.google.com/notebooks/data_table.ipynb>data table notebook</a>'\n",
              "            + ' to learn more about interactive tables.';\n",
              "          element.innerHTML = '';\n",
              "          dataTable['output_type'] = 'display_data';\n",
              "          await google.colab.output.renderOutput(dataTable, element);\n",
              "          const docLink = document.createElement('div');\n",
              "          docLink.innerHTML = docLinkHtml;\n",
              "          element.appendChild(docLink);\n",
              "        }\n",
              "      </script>\n",
              "    </div>\n",
              "  </div>\n",
              "  "
            ]
          },
          "metadata": {},
          "execution_count": 31
        }
      ]
    },
    {
      "cell_type": "code",
      "source": [
        "from sklearn.preprocessing import StandardScaler"
      ],
      "metadata": {
        "id": "XHt9n7KDuxo9"
      },
      "execution_count": null,
      "outputs": []
    },
    {
      "cell_type": "code",
      "source": [
        "for col in df_new:\n",
        "  ss=StandardScaler()\n",
        "  df_new[col]=ss.fit_transform(df_new[[col]])"
      ],
      "metadata": {
        "id": "LZWI0o4Uuxrf"
      },
      "execution_count": null,
      "outputs": []
    },
    {
      "cell_type": "code",
      "source": [
        "df_new.head()"
      ],
      "metadata": {
        "colab": {
          "base_uri": "https://localhost:8080/",
          "height": 206
        },
        "id": "bNCW7GbiuxuT",
        "outputId": "0e396698-76fd-48dd-aab9-309c95fade41"
      },
      "execution_count": null,
      "outputs": [
        {
          "output_type": "execute_result",
          "data": {
            "text/plain": [
              "        SAT     Top10    Accept   SFRatio  Expenses  GradRate\n",
              "0  0.410284  0.657519 -0.889867  0.070260 -0.331413  0.820303\n",
              "1  1.399259  1.235212 -0.734657 -1.686251  2.560381 -0.644524\n",
              "2 -0.060657 -0.760454  1.024382 -0.933460 -0.167121 -1.658634\n",
              "3  0.410284 -0.025208 -0.786394 -0.180670  0.291649  0.144229\n",
              "4  0.127719  0.342414 -0.320766  0.070260 -0.390846  0.369587"
            ],
            "text/html": [
              "\n",
              "  <div id=\"df-db612289-4f0e-4e76-b61e-a9401093931a\">\n",
              "    <div class=\"colab-df-container\">\n",
              "      <div>\n",
              "<style scoped>\n",
              "    .dataframe tbody tr th:only-of-type {\n",
              "        vertical-align: middle;\n",
              "    }\n",
              "\n",
              "    .dataframe tbody tr th {\n",
              "        vertical-align: top;\n",
              "    }\n",
              "\n",
              "    .dataframe thead th {\n",
              "        text-align: right;\n",
              "    }\n",
              "</style>\n",
              "<table border=\"1\" class=\"dataframe\">\n",
              "  <thead>\n",
              "    <tr style=\"text-align: right;\">\n",
              "      <th></th>\n",
              "      <th>SAT</th>\n",
              "      <th>Top10</th>\n",
              "      <th>Accept</th>\n",
              "      <th>SFRatio</th>\n",
              "      <th>Expenses</th>\n",
              "      <th>GradRate</th>\n",
              "    </tr>\n",
              "  </thead>\n",
              "  <tbody>\n",
              "    <tr>\n",
              "      <th>0</th>\n",
              "      <td>0.410284</td>\n",
              "      <td>0.657519</td>\n",
              "      <td>-0.889867</td>\n",
              "      <td>0.070260</td>\n",
              "      <td>-0.331413</td>\n",
              "      <td>0.820303</td>\n",
              "    </tr>\n",
              "    <tr>\n",
              "      <th>1</th>\n",
              "      <td>1.399259</td>\n",
              "      <td>1.235212</td>\n",
              "      <td>-0.734657</td>\n",
              "      <td>-1.686251</td>\n",
              "      <td>2.560381</td>\n",
              "      <td>-0.644524</td>\n",
              "    </tr>\n",
              "    <tr>\n",
              "      <th>2</th>\n",
              "      <td>-0.060657</td>\n",
              "      <td>-0.760454</td>\n",
              "      <td>1.024382</td>\n",
              "      <td>-0.933460</td>\n",
              "      <td>-0.167121</td>\n",
              "      <td>-1.658634</td>\n",
              "    </tr>\n",
              "    <tr>\n",
              "      <th>3</th>\n",
              "      <td>0.410284</td>\n",
              "      <td>-0.025208</td>\n",
              "      <td>-0.786394</td>\n",
              "      <td>-0.180670</td>\n",
              "      <td>0.291649</td>\n",
              "      <td>0.144229</td>\n",
              "    </tr>\n",
              "    <tr>\n",
              "      <th>4</th>\n",
              "      <td>0.127719</td>\n",
              "      <td>0.342414</td>\n",
              "      <td>-0.320766</td>\n",
              "      <td>0.070260</td>\n",
              "      <td>-0.390846</td>\n",
              "      <td>0.369587</td>\n",
              "    </tr>\n",
              "  </tbody>\n",
              "</table>\n",
              "</div>\n",
              "      <button class=\"colab-df-convert\" onclick=\"convertToInteractive('df-db612289-4f0e-4e76-b61e-a9401093931a')\"\n",
              "              title=\"Convert this dataframe to an interactive table.\"\n",
              "              style=\"display:none;\">\n",
              "        \n",
              "  <svg xmlns=\"http://www.w3.org/2000/svg\" height=\"24px\"viewBox=\"0 0 24 24\"\n",
              "       width=\"24px\">\n",
              "    <path d=\"M0 0h24v24H0V0z\" fill=\"none\"/>\n",
              "    <path d=\"M18.56 5.44l.94 2.06.94-2.06 2.06-.94-2.06-.94-.94-2.06-.94 2.06-2.06.94zm-11 1L8.5 8.5l.94-2.06 2.06-.94-2.06-.94L8.5 2.5l-.94 2.06-2.06.94zm10 10l.94 2.06.94-2.06 2.06-.94-2.06-.94-.94-2.06-.94 2.06-2.06.94z\"/><path d=\"M17.41 7.96l-1.37-1.37c-.4-.4-.92-.59-1.43-.59-.52 0-1.04.2-1.43.59L10.3 9.45l-7.72 7.72c-.78.78-.78 2.05 0 2.83L4 21.41c.39.39.9.59 1.41.59.51 0 1.02-.2 1.41-.59l7.78-7.78 2.81-2.81c.8-.78.8-2.07 0-2.86zM5.41 20L4 18.59l7.72-7.72 1.47 1.35L5.41 20z\"/>\n",
              "  </svg>\n",
              "      </button>\n",
              "      \n",
              "  <style>\n",
              "    .colab-df-container {\n",
              "      display:flex;\n",
              "      flex-wrap:wrap;\n",
              "      gap: 12px;\n",
              "    }\n",
              "\n",
              "    .colab-df-convert {\n",
              "      background-color: #E8F0FE;\n",
              "      border: none;\n",
              "      border-radius: 50%;\n",
              "      cursor: pointer;\n",
              "      display: none;\n",
              "      fill: #1967D2;\n",
              "      height: 32px;\n",
              "      padding: 0 0 0 0;\n",
              "      width: 32px;\n",
              "    }\n",
              "\n",
              "    .colab-df-convert:hover {\n",
              "      background-color: #E2EBFA;\n",
              "      box-shadow: 0px 1px 2px rgba(60, 64, 67, 0.3), 0px 1px 3px 1px rgba(60, 64, 67, 0.15);\n",
              "      fill: #174EA6;\n",
              "    }\n",
              "\n",
              "    [theme=dark] .colab-df-convert {\n",
              "      background-color: #3B4455;\n",
              "      fill: #D2E3FC;\n",
              "    }\n",
              "\n",
              "    [theme=dark] .colab-df-convert:hover {\n",
              "      background-color: #434B5C;\n",
              "      box-shadow: 0px 1px 3px 1px rgba(0, 0, 0, 0.15);\n",
              "      filter: drop-shadow(0px 1px 2px rgba(0, 0, 0, 0.3));\n",
              "      fill: #FFFFFF;\n",
              "    }\n",
              "  </style>\n",
              "\n",
              "      <script>\n",
              "        const buttonEl =\n",
              "          document.querySelector('#df-db612289-4f0e-4e76-b61e-a9401093931a button.colab-df-convert');\n",
              "        buttonEl.style.display =\n",
              "          google.colab.kernel.accessAllowed ? 'block' : 'none';\n",
              "\n",
              "        async function convertToInteractive(key) {\n",
              "          const element = document.querySelector('#df-db612289-4f0e-4e76-b61e-a9401093931a');\n",
              "          const dataTable =\n",
              "            await google.colab.kernel.invokeFunction('convertToInteractive',\n",
              "                                                     [key], {});\n",
              "          if (!dataTable) return;\n",
              "\n",
              "          const docLinkHtml = 'Like what you see? Visit the ' +\n",
              "            '<a target=\"_blank\" href=https://colab.research.google.com/notebooks/data_table.ipynb>data table notebook</a>'\n",
              "            + ' to learn more about interactive tables.';\n",
              "          element.innerHTML = '';\n",
              "          dataTable['output_type'] = 'display_data';\n",
              "          await google.colab.output.renderOutput(dataTable, element);\n",
              "          const docLink = document.createElement('div');\n",
              "          docLink.innerHTML = docLinkHtml;\n",
              "          element.appendChild(docLink);\n",
              "        }\n",
              "      </script>\n",
              "    </div>\n",
              "  </div>\n",
              "  "
            ]
          },
          "metadata": {},
          "execution_count": 34
        }
      ]
    },
    {
      "cell_type": "code",
      "source": [
        "wcss=[]\n",
        "clusters=list(range(1,9))\n",
        "for k in clusters:\n",
        "  model=KMeans(n_clusters=k)\n",
        "  model.fit(df_new)\n",
        "  wcss.append(model.inertia_)"
      ],
      "metadata": {
        "id": "TO9lvoNquxxq"
      },
      "execution_count": null,
      "outputs": []
    },
    {
      "cell_type": "code",
      "source": [
        "wcss"
      ],
      "metadata": {
        "colab": {
          "base_uri": "https://localhost:8080/"
        },
        "id": "iuaHAHTYux4q",
        "outputId": "508a4ca3-3127-427e-997b-23405752c767"
      },
      "execution_count": null,
      "outputs": [
        {
          "output_type": "execute_result",
          "data": {
            "text/plain": [
              "[150.0,\n",
              " 64.1452839501027,\n",
              " 44.531761731450956,\n",
              " 33.654341806512235,\n",
              " 26.785713479514527,\n",
              " 22.704584217335714,\n",
              " 18.56891703085987,\n",
              " 16.057428074500915]"
            ]
          },
          "metadata": {},
          "execution_count": 36
        }
      ]
    },
    {
      "cell_type": "code",
      "source": [
        "clusters"
      ],
      "metadata": {
        "colab": {
          "base_uri": "https://localhost:8080/"
        },
        "id": "Bo-ZSM8Rux6h",
        "outputId": "9f89c90d-95a6-4139-933d-769b8a072fd5"
      },
      "execution_count": null,
      "outputs": [
        {
          "output_type": "execute_result",
          "data": {
            "text/plain": [
              "[1, 2, 3, 4, 5, 6, 7, 8]"
            ]
          },
          "metadata": {},
          "execution_count": 37
        }
      ]
    },
    {
      "cell_type": "code",
      "source": [
        "plt.figure()\n",
        "plt.plot(clusters,wcss,'x--')\n",
        "plt.xlabel(\"K\")\n",
        "plt.ylabel(\"WCSS\")\n",
        "plt.show()"
      ],
      "metadata": {
        "colab": {
          "base_uri": "https://localhost:8080/",
          "height": 279
        },
        "id": "R-RdSSSTux-q",
        "outputId": "083a4a6b-8c0f-4f06-8c80-f675efe08e23"
      },
      "execution_count": null,
      "outputs": [
        {
          "output_type": "display_data",
          "data": {
            "text/plain": [
              "<Figure size 432x288 with 1 Axes>"
            ],
            "image/png": "[encoded data removed]"
          },
          "metadata": {
            "needs_background": "light"
          }
        }
      ]
    },
    {
      "cell_type": "code",
      "source": [
        "model=KMeans(n_clusters=3)\n",
        "model.fit(df_new)"
      ],
      "metadata": {
        "colab": {
          "base_uri": "https://localhost:8080/"
        },
        "id": "1oZ4cw4auyT7",
        "outputId": "9279bd5f-d571-44bf-e446-8e8eb5f557a7"
      },
      "execution_count": null,
      "outputs": [
        {
          "output_type": "execute_result",
          "data": {
            "text/plain": [
              "KMeans(n_clusters=3)"
            ]
          },
          "metadata": {},
          "execution_count": 39
        }
      ]
    },
    {
      "cell_type": "code",
      "source": [
        "model.labels_"
      ],
      "metadata": {
        "colab": {
          "base_uri": "https://localhost:8080/"
        },
        "id": "8fJ39sgcuyW7",
        "outputId": "239de76a-aa8d-4e38-dd5f-2aa3d7ba2f5a"
      },
      "execution_count": null,
      "outputs": [
        {
          "output_type": "execute_result",
          "data": {
            "text/plain": [
              "array([2, 0, 2, 2, 2, 0, 0, 2, 0, 0, 0, 2, 2, 1, 0, 1, 0, 1, 2, 2, 2, 2,\n",
              "       2, 1, 0], dtype=int32)"
            ]
          },
          "metadata": {},
          "execution_count": 40
        }
      ]
    },
    {
      "cell_type": "code",
      "source": [
        "df[\"labels\"]=model.labels_"
      ],
      "metadata": {
        "id": "iK6IE3Vnuycm"
      },
      "execution_count": null,
      "outputs": []
    },
    {
      "cell_type": "code",
      "source": [
        "df.head()"
      ],
      "metadata": {
        "colab": {
          "base_uri": "https://localhost:8080/",
          "height": 206
        },
        "id": "FYqdiiXPuzm_",
        "outputId": "8159985a-226a-429c-dc34-875399b3f144"
      },
      "execution_count": null,
      "outputs": [
        {
          "output_type": "execute_result",
          "data": {
            "text/plain": [
              "       Univ   SAT  Top10  Accept  SFRatio  Expenses  GradRate  labels\n",
              "0     Brown  1310     89      22       13     22704        94       2\n",
              "1   CalTech  1415    100      25        6     63575        81       0\n",
              "2       CMU  1260     62      59        9     25026        72       2\n",
              "3  Columbia  1310     76      24       12     31510        88       2\n",
              "4   Cornell  1280     83      33       13     21864        90       2"
            ],
            "text/html": [
              "\n",
              "  <div id=\"df-bb71b2ee-8a7e-47f3-8370-80080a8f42d4\">\n",
              "    <div class=\"colab-df-container\">\n",
              "      <div>\n",
              "<style scoped>\n",
              "    .dataframe tbody tr th:only-of-type {\n",
              "        vertical-align: middle;\n",
              "    }\n",
              "\n",
              "    .dataframe tbody tr th {\n",
              "        vertical-align: top;\n",
              "    }\n",
              "\n",
              "    .dataframe thead th {\n",
              "        text-align: right;\n",
              "    }\n",
              "</style>\n",
              "<table border=\"1\" class=\"dataframe\">\n",
              "  <thead>\n",
              "    <tr style=\"text-align: right;\">\n",
              "      <th></th>\n",
              "      <th>Univ</th>\n",
              "      <th>SAT</th>\n",
              "      <th>Top10</th>\n",
              "      <th>Accept</th>\n",
              "      <th>SFRatio</th>\n",
              "      <th>Expenses</th>\n",
              "      <th>GradRate</th>\n",
              "      <th>labels</th>\n",
              "    </tr>\n",
              "  </thead>\n",
              "  <tbody>\n",
              "    <tr>\n",
              "      <th>0</th>\n",
              "      <td>Brown</td>\n",
              "      <td>1310</td>\n",
              "      <td>89</td>\n",
              "      <td>22</td>\n",
              "      <td>13</td>\n",
              "      <td>22704</td>\n",
              "      <td>94</td>\n",
              "      <td>2</td>\n",
              "    </tr>\n",
              "    <tr>\n",
              "      <th>1</th>\n",
              "      <td>CalTech</td>\n",
              "      <td>1415</td>\n",
              "      <td>100</td>\n",
              "      <td>25</td>\n",
              "      <td>6</td>\n",
              "      <td>63575</td>\n",
              "      <td>81</td>\n",
              "      <td>0</td>\n",
              "    </tr>\n",
              "    <tr>\n",
              "      <th>2</th>\n",
              "      <td>CMU</td>\n",
              "      <td>1260</td>\n",
              "      <td>62</td>\n",
              "      <td>59</td>\n",
              "      <td>9</td>\n",
              "      <td>25026</td>\n",
              "      <td>72</td>\n",
              "      <td>2</td>\n",
              "    </tr>\n",
              "    <tr>\n",
              "      <th>3</th>\n",
              "      <td>Columbia</td>\n",
              "      <td>1310</td>\n",
              "      <td>76</td>\n",
              "      <td>24</td>\n",
              "      <td>12</td>\n",
              "      <td>31510</td>\n",
              "      <td>88</td>\n",
              "      <td>2</td>\n",
              "    </tr>\n",
              "    <tr>\n",
              "      <th>4</th>\n",
              "      <td>Cornell</td>\n",
              "      <td>1280</td>\n",
              "      <td>83</td>\n",
              "      <td>33</td>\n",
              "      <td>13</td>\n",
              "      <td>21864</td>\n",
              "      <td>90</td>\n",
              "      <td>2</td>\n",
              "    </tr>\n",
              "  </tbody>\n",
              "</table>\n",
              "</div>\n",
              "      <button class=\"colab-df-convert\" onclick=\"convertToInteractive('df-bb71b2ee-8a7e-47f3-8370-80080a8f42d4')\"\n",
              "              title=\"Convert this dataframe to an interactive table.\"\n",
              "              style=\"display:none;\">\n",
              "        \n",
              "  <svg xmlns=\"http://www.w3.org/2000/svg\" height=\"24px\"viewBox=\"0 0 24 24\"\n",
              "       width=\"24px\">\n",
              "    <path d=\"M0 0h24v24H0V0z\" fill=\"none\"/>\n",
              "    <path d=\"M18.56 5.44l.94 2.06.94-2.06 2.06-.94-2.06-.94-.94-2.06-.94 2.06-2.06.94zm-11 1L8.5 8.5l.94-2.06 2.06-.94-2.06-.94L8.5 2.5l-.94 2.06-2.06.94zm10 10l.94 2.06.94-2.06 2.06-.94-2.06-.94-.94-2.06-.94 2.06-2.06.94z\"/><path d=\"M17.41 7.96l-1.37-1.37c-.4-.4-.92-.59-1.43-.59-.52 0-1.04.2-1.43.59L10.3 9.45l-7.72 7.72c-.78.78-.78 2.05 0 2.83L4 21.41c.39.39.9.59 1.41.59.51 0 1.02-.2 1.41-.59l7.78-7.78 2.81-2.81c.8-.78.8-2.07 0-2.86zM5.41 20L4 18.59l7.72-7.72 1.47 1.35L5.41 20z\"/>\n",
              "  </svg>\n",
              "      </button>\n",
              "      \n",
              "  <style>\n",
              "    .colab-df-container {\n",
              "      display:flex;\n",
              "      flex-wrap:wrap;\n",
              "      gap: 12px;\n",
              "    }\n",
              "\n",
              "    .colab-df-convert {\n",
              "      background-color: #E8F0FE;\n",
              "      border: none;\n",
              "      border-radius: 50%;\n",
              "      cursor: pointer;\n",
              "      display: none;\n",
              "      fill: #1967D2;\n",
              "      height: 32px;\n",
              "      padding: 0 0 0 0;\n",
              "      width: 32px;\n",
              "    }\n",
              "\n",
              "    .colab-df-convert:hover {\n",
              "      background-color: #E2EBFA;\n",
              "      box-shadow: 0px 1px 2px rgba(60, 64, 67, 0.3), 0px 1px 3px 1px rgba(60, 64, 67, 0.15);\n",
              "      fill: #174EA6;\n",
              "    }\n",
              "\n",
              "    [theme=dark] .colab-df-convert {\n",
              "      background-color: #3B4455;\n",
              "      fill: #D2E3FC;\n",
              "    }\n",
              "\n",
              "    [theme=dark] .colab-df-convert:hover {\n",
              "      background-color: #434B5C;\n",
              "      box-shadow: 0px 1px 3px 1px rgba(0, 0, 0, 0.15);\n",
              "      filter: drop-shadow(0px 1px 2px rgba(0, 0, 0, 0.3));\n",
              "      fill: #FFFFFF;\n",
              "    }\n",
              "  </style>\n",
              "\n",
              "      <script>\n",
              "        const buttonEl =\n",
              "          document.querySelector('#df-bb71b2ee-8a7e-47f3-8370-80080a8f42d4 button.colab-df-convert');\n",
              "        buttonEl.style.display =\n",
              "          google.colab.kernel.accessAllowed ? 'block' : 'none';\n",
              "\n",
              "        async function convertToInteractive(key) {\n",
              "          const element = document.querySelector('#df-bb71b2ee-8a7e-47f3-8370-80080a8f42d4');\n",
              "          const dataTable =\n",
              "            await google.colab.kernel.invokeFunction('convertToInteractive',\n",
              "                                                     [key], {});\n",
              "          if (!dataTable) return;\n",
              "\n",
              "          const docLinkHtml = 'Like what you see? Visit the ' +\n",
              "            '<a target=\"_blank\" href=https://colab.research.google.com/notebooks/data_table.ipynb>data table notebook</a>'\n",
              "            + ' to learn more about interactive tables.';\n",
              "          element.innerHTML = '';\n",
              "          dataTable['output_type'] = 'display_data';\n",
              "          await google.colab.output.renderOutput(dataTable, element);\n",
              "          const docLink = document.createElement('div');\n",
              "          docLink.innerHTML = docLinkHtml;\n",
              "          element.appendChild(docLink);\n",
              "        }\n",
              "      </script>\n",
              "    </div>\n",
              "  </div>\n",
              "  "
            ]
          },
          "metadata": {},
          "execution_count": 42
        }
      ]
    },
    {
      "cell_type": "code",
      "source": [
        "df.groupby(\"labels\").mean()"
      ],
      "metadata": {
        "colab": {
          "base_uri": "https://localhost:8080/",
          "height": 175
        },
        "id": "fMxdfuf0uzpG",
        "outputId": "5cd4bd5b-c2bb-4703-df98-5c1abe70b3a9"
      },
      "execution_count": null,
      "outputs": [
        {
          "output_type": "execute_result",
          "data": {
            "text/plain": [
              "                SAT      Top10     Accept    SFRatio      Expenses   GradRate\n",
              "labels                                                                       \n",
              "0       1362.777778  90.555556  24.333333   9.666667  41176.888889  92.222222\n",
              "1       1061.500000  38.750000  70.000000  19.250000   9953.000000  71.750000\n",
              "2       1262.500000  78.500000  40.083333  12.833333  22858.000000  87.583333"
            ],
            "text/html": [
              "\n",
              "  <div id=\"df-94b27e7b-0a50-4ce2-8d66-16199bc6112a\">\n",
              "    <div class=\"colab-df-container\">\n",
              "      <div>\n",
              "<style scoped>\n",
              "    .dataframe tbody tr th:only-of-type {\n",
              "        vertical-align: middle;\n",
              "    }\n",
              "\n",
              "    .dataframe tbody tr th {\n",
              "        vertical-align: top;\n",
              "    }\n",
              "\n",
              "    .dataframe thead th {\n",
              "        text-align: right;\n",
              "    }\n",
              "</style>\n",
              "<table border=\"1\" class=\"dataframe\">\n",
              "  <thead>\n",
              "    <tr style=\"text-align: right;\">\n",
              "      <th></th>\n",
              "      <th>SAT</th>\n",
              "      <th>Top10</th>\n",
              "      <th>Accept</th>\n",
              "      <th>SFRatio</th>\n",
              "      <th>Expenses</th>\n",
              "      <th>GradRate</th>\n",
              "    </tr>\n",
              "    <tr>\n",
              "      <th>labels</th>\n",
              "      <th></th>\n",
              "      <th></th>\n",
              "      <th></th>\n",
              "      <th></th>\n",
              "      <th></th>\n",
              "      <th></th>\n",
              "    </tr>\n",
              "  </thead>\n",
              "  <tbody>\n",
              "    <tr>\n",
              "      <th>0</th>\n",
              "      <td>1362.777778</td>\n",
              "      <td>90.555556</td>\n",
              "      <td>24.333333</td>\n",
              "      <td>9.666667</td>\n",
              "      <td>41176.888889</td>\n",
              "      <td>92.222222</td>\n",
              "    </tr>\n",
              "    <tr>\n",
              "      <th>1</th>\n",
              "      <td>1061.500000</td>\n",
              "      <td>38.750000</td>\n",
              "      <td>70.000000</td>\n",
              "      <td>19.250000</td>\n",
              "      <td>9953.000000</td>\n",
              "      <td>71.750000</td>\n",
              "    </tr>\n",
              "    <tr>\n",
              "      <th>2</th>\n",
              "      <td>1262.500000</td>\n",
              "      <td>78.500000</td>\n",
              "      <td>40.083333</td>\n",
              "      <td>12.833333</td>\n",
              "      <td>22858.000000</td>\n",
              "      <td>87.583333</td>\n",
              "    </tr>\n",
              "  </tbody>\n",
              "</table>\n",
              "</div>\n",
              "      <button class=\"colab-df-convert\" onclick=\"convertToInteractive('df-94b27e7b-0a50-4ce2-8d66-16199bc6112a')\"\n",
              "              title=\"Convert this dataframe to an interactive table.\"\n",
              "              style=\"display:none;\">\n",
              "        \n",
              "  <svg xmlns=\"http://www.w3.org/2000/svg\" height=\"24px\"viewBox=\"0 0 24 24\"\n",
              "       width=\"24px\">\n",
              "    <path d=\"M0 0h24v24H0V0z\" fill=\"none\"/>\n",
              "    <path d=\"M18.56 5.44l.94 2.06.94-2.06 2.06-.94-2.06-.94-.94-2.06-.94 2.06-2.06.94zm-11 1L8.5 8.5l.94-2.06 2.06-.94-2.06-.94L8.5 2.5l-.94 2.06-2.06.94zm10 10l.94 2.06.94-2.06 2.06-.94-2.06-.94-.94-2.06-.94 2.06-2.06.94z\"/><path d=\"M17.41 7.96l-1.37-1.37c-.4-.4-.92-.59-1.43-.59-.52 0-1.04.2-1.43.59L10.3 9.45l-7.72 7.72c-.78.78-.78 2.05 0 2.83L4 21.41c.39.39.9.59 1.41.59.51 0 1.02-.2 1.41-.59l7.78-7.78 2.81-2.81c.8-.78.8-2.07 0-2.86zM5.41 20L4 18.59l7.72-7.72 1.47 1.35L5.41 20z\"/>\n",
              "  </svg>\n",
              "      </button>\n",
              "      \n",
              "  <style>\n",
              "    .colab-df-container {\n",
              "      display:flex;\n",
              "      flex-wrap:wrap;\n",
              "      gap: 12px;\n",
              "    }\n",
              "\n",
              "    .colab-df-convert {\n",
              "      background-color: #E8F0FE;\n",
              "      border: none;\n",
              "      border-radius: 50%;\n",
              "      cursor: pointer;\n",
              "      display: none;\n",
              "      fill: #1967D2;\n",
              "      height: 32px;\n",
              "      padding: 0 0 0 0;\n",
              "      width: 32px;\n",
              "    }\n",
              "\n",
              "    .colab-df-convert:hover {\n",
              "      background-color: #E2EBFA;\n",
              "      box-shadow: 0px 1px 2px rgba(60, 64, 67, 0.3), 0px 1px 3px 1px rgba(60, 64, 67, 0.15);\n",
              "      fill: #174EA6;\n",
              "    }\n",
              "\n",
              "    [theme=dark] .colab-df-convert {\n",
              "      background-color: #3B4455;\n",
              "      fill: #D2E3FC;\n",
              "    }\n",
              "\n",
              "    [theme=dark] .colab-df-convert:hover {\n",
              "      background-color: #434B5C;\n",
              "      box-shadow: 0px 1px 3px 1px rgba(0, 0, 0, 0.15);\n",
              "      filter: drop-shadow(0px 1px 2px rgba(0, 0, 0, 0.3));\n",
              "      fill: #FFFFFF;\n",
              "    }\n",
              "  </style>\n",
              "\n",
              "      <script>\n",
              "        const buttonEl =\n",
              "          document.querySelector('#df-94b27e7b-0a50-4ce2-8d66-16199bc6112a button.colab-df-convert');\n",
              "        buttonEl.style.display =\n",
              "          google.colab.kernel.accessAllowed ? 'block' : 'none';\n",
              "\n",
              "        async function convertToInteractive(key) {\n",
              "          const element = document.querySelector('#df-94b27e7b-0a50-4ce2-8d66-16199bc6112a');\n",
              "          const dataTable =\n",
              "            await google.colab.kernel.invokeFunction('convertToInteractive',\n",
              "                                                     [key], {});\n",
              "          if (!dataTable) return;\n",
              "\n",
              "          const docLinkHtml = 'Like what you see? Visit the ' +\n",
              "            '<a target=\"_blank\" href=https://colab.research.google.com/notebooks/data_table.ipynb>data table notebook</a>'\n",
              "            + ' to learn more about interactive tables.';\n",
              "          element.innerHTML = '';\n",
              "          dataTable['output_type'] = 'display_data';\n",
              "          await google.colab.output.renderOutput(dataTable, element);\n",
              "          const docLink = document.createElement('div');\n",
              "          docLink.innerHTML = docLinkHtml;\n",
              "          element.appendChild(docLink);\n",
              "        }\n",
              "      </script>\n",
              "    </div>\n",
              "  </div>\n",
              "  "
            ]
          },
          "metadata": {},
          "execution_count": 43
        }
      ]
    },
    {
      "cell_type": "code",
      "source": [
        "df[df[\"labels\"]==0][\"Univ\"]"
      ],
      "metadata": {
        "colab": {
          "base_uri": "https://localhost:8080/"
        },
        "id": "IOmCDcRQuzrP",
        "outputId": "efc3a0f9-7eb7-4ac9-91cb-d7afd664e2e0"
      },
      "execution_count": null,
      "outputs": [
        {
          "output_type": "execute_result",
          "data": {
            "text/plain": [
              "1          CalTech\n",
              "5        Dartmouth\n",
              "6             Duke\n",
              "8          Harvard\n",
              "9     JohnsHopkins\n",
              "10             MIT\n",
              "14       Princeton\n",
              "16        Stanford\n",
              "24            Yale\n",
              "Name: Univ, dtype: object"
            ]
          },
          "metadata": {},
          "execution_count": 44
        }
      ]
    },
    {
      "cell_type": "code",
      "source": [
        "df[df[\"labels\"]==1][\"Univ\"]"
      ],
      "metadata": {
        "colab": {
          "base_uri": "https://localhost:8080/"
        },
        "id": "ZSq9B1fWuztk",
        "outputId": "6549d544-b762-49a6-fe5b-2d12c0a2d6a5"
      },
      "execution_count": null,
      "outputs": [
        {
          "output_type": "execute_result",
          "data": {
            "text/plain": [
              "13     PennState\n",
              "15        Purdue\n",
              "17      TexasA&M\n",
              "23    UWisconsin\n",
              "Name: Univ, dtype: object"
            ]
          },
          "metadata": {},
          "execution_count": 45
        }
      ]
    },
    {
      "cell_type": "code",
      "source": [
        "df[df[\"labels\"]==2][\"Univ\"]"
      ],
      "metadata": {
        "colab": {
          "base_uri": "https://localhost:8080/"
        },
        "id": "-owKX5NCuzxE",
        "outputId": "429dca93-065e-4209-d819-6eb182cd7f22"
      },
      "execution_count": null,
      "outputs": [
        {
          "output_type": "execute_result",
          "data": {
            "text/plain": [
              "0            Brown\n",
              "2              CMU\n",
              "3         Columbia\n",
              "4          Cornell\n",
              "7       Georgetown\n",
              "11    Northwestern\n",
              "12       NotreDame\n",
              "18      UCBerkeley\n",
              "19        UChicago\n",
              "20       UMichigan\n",
              "21           UPenn\n",
              "22             UVA\n",
              "Name: Univ, dtype: object"
            ]
          },
          "metadata": {},
          "execution_count": 46
        }
      ]
    },
    {
      "cell_type": "code",
      "source": [
        "from sklearn.decomposition import PCA\n",
        "pc=PCA(n_components=3,random_state=1)"
      ],
      "metadata": {
        "id": "-VDcGv_V8l38"
      },
      "execution_count": null,
      "outputs": []
    },
    {
      "cell_type": "code",
      "source": [
        "components=pc.fit_transform(df_new)"
      ],
      "metadata": {
        "id": "J7CyWZLj8l6h"
      },
      "execution_count": null,
      "outputs": []
    },
    {
      "cell_type": "code",
      "source": [
        "components"
      ],
      "metadata": {
        "colab": {
          "base_uri": "https://localhost:8080/"
        },
        "id": "1nNELDIRRUC3",
        "outputId": "9adb5f53-41fd-4fd9-c0aa-7308ec82a43b"
      },
      "execution_count": null,
      "outputs": [
        {
          "output_type": "execute_result",
          "data": {
            "text/plain": [
              "array([[-1.00987445, -1.06430962,  0.08106631],\n",
              "       [-2.82223781,  2.25904458,  0.83682883],\n",
              "       [ 1.11246577,  1.63120889, -0.26678684],\n",
              "       [-0.74174122, -0.04218747,  0.06050086],\n",
              "       [-0.31191206, -0.63524357,  0.01024052],\n",
              "       [-1.69669089, -0.34436328, -0.25340751],\n",
              "       [-1.24682093, -0.49098366, -0.03209382],\n",
              "       [-0.33874978, -0.78516859, -0.49358483],\n",
              "       [-2.37415013, -0.38653888,  0.11609839],\n",
              "       [-1.40327739,  2.11951503, -0.44282714],\n",
              "       [-1.72610332,  0.08823712,  0.17040366],\n",
              "       [-0.45085748, -0.01113295, -0.17574605],\n",
              "       [ 0.04023814, -1.00920438, -0.49651717],\n",
              "       [ 3.23373034, -0.37458049, -0.49537282],\n",
              "       [-2.23626502, -0.37179329, -0.39899365],\n",
              "       [ 5.17299212,  0.77991535, -0.38591233],\n",
              "       [-1.69964377, -0.30559745,  0.31850785],\n",
              "       [ 4.578146  , -0.34759136,  1.49964176],\n",
              "       [ 0.82260312, -0.69890615,  1.42781145],\n",
              "       [-0.09776213,  0.65044645,  0.10050844],\n",
              "       [ 1.9631826 , -0.22476756, -0.25588143],\n",
              "       [-0.54228894, -0.07958884, -0.30539348],\n",
              "       [ 0.53222092, -1.0171672 , -0.42371636],\n",
              "       [ 3.54869664,  0.77846167, -0.44936332],\n",
              "       [-2.30590032, -0.11770432,  0.25398866]])"
            ]
          },
          "metadata": {},
          "execution_count": 52
        }
      ]
    },
    {
      "cell_type": "code",
      "source": [
        "# extracting above components\n",
        "pc1=components[:,0]\n",
        "pc2=components[:,1]\n",
        "pc3=components[:,2]"
      ],
      "metadata": {
        "id": "nm0qrWj88l85"
      },
      "execution_count": null,
      "outputs": []
    },
    {
      "cell_type": "code",
      "source": [
        "plt.figure()\n",
        "sns.scatterplot(pc1,pc2,hue=df['labels'])\n",
        "plt.show()"
      ],
      "metadata": {
        "colab": {
          "base_uri": "https://localhost:8080/",
          "height": 320
        },
        "id": "5iTSOgGdQvz0",
        "outputId": "03284504-95d5-4feb-e73e-76cde23b7da5"
      },
      "execution_count": null,
      "outputs": [
        {
          "output_type": "stream",
          "name": "stderr",
          "text": [
            "/usr/local/lib/python3.7/dist-packages/seaborn/_decorators.py:43: FutureWarning: Pass the following variables as keyword args: x, y. From version 0.12, the only valid positional argument will be `data`, and passing other arguments without an explicit keyword will result in an error or misinterpretation.\n",
            "  FutureWarning\n"
          ]
        },
        {
          "output_type": "display_data",
          "data": {
            "text/plain": [
              "<Figure size 432x288 with 1 Axes>"
            ],
            "image/png": "[encoded data removed]"
          },
          "metadata": {
            "needs_background": "light"
          }
        }
      ]
    },
    {
      "cell_type": "code",
      "source": [
        "# now 3d plotting\n",
        "fig=plt.figure(figsize=(8,8))\n",
        "ax=plt.axes(projection='3d')\n",
        "ax.scatter(pc1,pc2,pc3,c=df['labels'])\n",
        "plt.show()"
      ],
      "metadata": {
        "colab": {
          "base_uri": "https://localhost:8080/",
          "height": 466
        },
        "id": "8080AmieQv1z",
        "outputId": "dc79de09-d2d1-4f6d-86c8-a5960d5c67d0"
      },
      "execution_count": null,
      "outputs": [
        {
          "output_type": "display_data",
          "data": {
            "text/plain": [
              "<Figure size 576x576 with 1 Axes>"
            ],
            "image/png": "[encoded data removed]"
          },
          "metadata": {
            "needs_background": "light"
          }
        }
      ]
    },
    {
      "cell_type": "markdown",
      "source": [
        "PCA on Supervised Learning .. Let's say Logistic Regression"
      ],
      "metadata": {
        "id": "122cKtsfUHCg"
      }
    },
    {
      "cell_type": "code",
      "source": [
        "import numpy as np\n",
        "import pandas as pd\n",
        "import matplotlib.pyplot as plt\n",
        "import seaborn as sns"
      ],
      "metadata": {
        "id": "-qjGsye0T5Zg"
      },
      "execution_count": null,
      "outputs": []
    },
    {
      "cell_type": "code",
      "source": [
        "df = pd.read_csv(\"insurance.csv\")"
      ],
      "metadata": {
        "id": "kVLQ6b0VT5bL"
      },
      "execution_count": null,
      "outputs": []
    },
    {
      "cell_type": "code",
      "source": [
        "df.head()"
      ],
      "metadata": {
        "colab": {
          "base_uri": "https://localhost:8080/",
          "height": 206
        },
        "id": "_yco-bvlT5dP",
        "outputId": "3dbd7bf8-38c3-4791-b997-51bfed0794a4"
      },
      "execution_count": null,
      "outputs": [
        {
          "output_type": "execute_result",
          "data": {
            "text/plain": [
              "   age  sex     bmi  children  smoker  region      charges  insuranceclaim\n",
              "0   19    0  27.900         0       1       3  16884.92400               1\n",
              "1   18    1  33.770         1       0       2   1725.55230               1\n",
              "2   28    1  33.000         3       0       2   4449.46200               0\n",
              "3   33    1  22.705         0       0       1  21984.47061               0\n",
              "4   32    1  28.880         0       0       1   3866.85520               1"
            ],
            "text/html": [
              "\n",
              "  <div id=\"df-32b31db2-0987-4c89-b754-2c9aec70add3\">\n",
              "    <div class=\"colab-df-container\">\n",
              "      <div>\n",
              "<style scoped>\n",
              "    .dataframe tbody tr th:only-of-type {\n",
              "        vertical-align: middle;\n",
              "    }\n",
              "\n",
              "    .dataframe tbody tr th {\n",
              "        vertical-align: top;\n",
              "    }\n",
              "\n",
              "    .dataframe thead th {\n",
              "        text-align: right;\n",
              "    }\n",
              "</style>\n",
              "<table border=\"1\" class=\"dataframe\">\n",
              "  <thead>\n",
              "    <tr style=\"text-align: right;\">\n",
              "      <th></th>\n",
              "      <th>age</th>\n",
              "      <th>sex</th>\n",
              "      <th>bmi</th>\n",
              "      <th>children</th>\n",
              "      <th>smoker</th>\n",
              "      <th>region</th>\n",
              "      <th>charges</th>\n",
              "      <th>insuranceclaim</th>\n",
              "    </tr>\n",
              "  </thead>\n",
              "  <tbody>\n",
              "    <tr>\n",
              "      <th>0</th>\n",
              "      <td>19</td>\n",
              "      <td>0</td>\n",
              "      <td>27.900</td>\n",
              "      <td>0</td>\n",
              "      <td>1</td>\n",
              "      <td>3</td>\n",
              "      <td>16884.92400</td>\n",
              "      <td>1</td>\n",
              "    </tr>\n",
              "    <tr>\n",
              "      <th>1</th>\n",
              "      <td>18</td>\n",
              "      <td>1</td>\n",
              "      <td>33.770</td>\n",
              "      <td>1</td>\n",
              "      <td>0</td>\n",
              "      <td>2</td>\n",
              "      <td>1725.55230</td>\n",
              "      <td>1</td>\n",
              "    </tr>\n",
              "    <tr>\n",
              "      <th>2</th>\n",
              "      <td>28</td>\n",
              "      <td>1</td>\n",
              "      <td>33.000</td>\n",
              "      <td>3</td>\n",
              "      <td>0</td>\n",
              "      <td>2</td>\n",
              "      <td>4449.46200</td>\n",
              "      <td>0</td>\n",
              "    </tr>\n",
              "    <tr>\n",
              "      <th>3</th>\n",
              "      <td>33</td>\n",
              "      <td>1</td>\n",
              "      <td>22.705</td>\n",
              "      <td>0</td>\n",
              "      <td>0</td>\n",
              "      <td>1</td>\n",
              "      <td>21984.47061</td>\n",
              "      <td>0</td>\n",
              "    </tr>\n",
              "    <tr>\n",
              "      <th>4</th>\n",
              "      <td>32</td>\n",
              "      <td>1</td>\n",
              "      <td>28.880</td>\n",
              "      <td>0</td>\n",
              "      <td>0</td>\n",
              "      <td>1</td>\n",
              "      <td>3866.85520</td>\n",
              "      <td>1</td>\n",
              "    </tr>\n",
              "  </tbody>\n",
              "</table>\n",
              "</div>\n",
              "      <button class=\"colab-df-convert\" onclick=\"convertToInteractive('df-32b31db2-0987-4c89-b754-2c9aec70add3')\"\n",
              "              title=\"Convert this dataframe to an interactive table.\"\n",
              "              style=\"display:none;\">\n",
              "        \n",
              "  <svg xmlns=\"http://www.w3.org/2000/svg\" height=\"24px\"viewBox=\"0 0 24 24\"\n",
              "       width=\"24px\">\n",
              "    <path d=\"M0 0h24v24H0V0z\" fill=\"none\"/>\n",
              "    <path d=\"M18.56 5.44l.94 2.06.94-2.06 2.06-.94-2.06-.94-.94-2.06-.94 2.06-2.06.94zm-11 1L8.5 8.5l.94-2.06 2.06-.94-2.06-.94L8.5 2.5l-.94 2.06-2.06.94zm10 10l.94 2.06.94-2.06 2.06-.94-2.06-.94-.94-2.06-.94 2.06-2.06.94z\"/><path d=\"M17.41 7.96l-1.37-1.37c-.4-.4-.92-.59-1.43-.59-.52 0-1.04.2-1.43.59L10.3 9.45l-7.72 7.72c-.78.78-.78 2.05 0 2.83L4 21.41c.39.39.9.59 1.41.59.51 0 1.02-.2 1.41-.59l7.78-7.78 2.81-2.81c.8-.78.8-2.07 0-2.86zM5.41 20L4 18.59l7.72-7.72 1.47 1.35L5.41 20z\"/>\n",
              "  </svg>\n",
              "      </button>\n",
              "      \n",
              "  <style>\n",
              "    .colab-df-container {\n",
              "      display:flex;\n",
              "      flex-wrap:wrap;\n",
              "      gap: 12px;\n",
              "    }\n",
              "\n",
              "    .colab-df-convert {\n",
              "      background-color: #E8F0FE;\n",
              "      border: none;\n",
              "      border-radius: 50%;\n",
              "      cursor: pointer;\n",
              "      display: none;\n",
              "      fill: #1967D2;\n",
              "      height: 32px;\n",
              "      padding: 0 0 0 0;\n",
              "      width: 32px;\n",
              "    }\n",
              "\n",
              "    .colab-df-convert:hover {\n",
              "      background-color: #E2EBFA;\n",
              "      box-shadow: 0px 1px 2px rgba(60, 64, 67, 0.3), 0px 1px 3px 1px rgba(60, 64, 67, 0.15);\n",
              "      fill: #174EA6;\n",
              "    }\n",
              "\n",
              "    [theme=dark] .colab-df-convert {\n",
              "      background-color: #3B4455;\n",
              "      fill: #D2E3FC;\n",
              "    }\n",
              "\n",
              "    [theme=dark] .colab-df-convert:hover {\n",
              "      background-color: #434B5C;\n",
              "      box-shadow: 0px 1px 3px 1px rgba(0, 0, 0, 0.15);\n",
              "      filter: drop-shadow(0px 1px 2px rgba(0, 0, 0, 0.3));\n",
              "      fill: #FFFFFF;\n",
              "    }\n",
              "  </style>\n",
              "\n",
              "      <script>\n",
              "        const buttonEl =\n",
              "          document.querySelector('#df-32b31db2-0987-4c89-b754-2c9aec70add3 button.colab-df-convert');\n",
              "        buttonEl.style.display =\n",
              "          google.colab.kernel.accessAllowed ? 'block' : 'none';\n",
              "\n",
              "        async function convertToInteractive(key) {\n",
              "          const element = document.querySelector('#df-32b31db2-0987-4c89-b754-2c9aec70add3');\n",
              "          const dataTable =\n",
              "            await google.colab.kernel.invokeFunction('convertToInteractive',\n",
              "                                                     [key], {});\n",
              "          if (!dataTable) return;\n",
              "\n",
              "          const docLinkHtml = 'Like what you see? Visit the ' +\n",
              "            '<a target=\"_blank\" href=https://colab.research.google.com/notebooks/data_table.ipynb>data table notebook</a>'\n",
              "            + ' to learn more about interactive tables.';\n",
              "          element.innerHTML = '';\n",
              "          dataTable['output_type'] = 'display_data';\n",
              "          await google.colab.output.renderOutput(dataTable, element);\n",
              "          const docLink = document.createElement('div');\n",
              "          docLink.innerHTML = docLinkHtml;\n",
              "          element.appendChild(docLink);\n",
              "        }\n",
              "      </script>\n",
              "    </div>\n",
              "  </div>\n",
              "  "
            ]
          },
          "metadata": {},
          "execution_count": 56
        }
      ]
    },
    {
      "cell_type": "code",
      "source": [
        "df.shape"
      ],
      "metadata": {
        "colab": {
          "base_uri": "https://localhost:8080/"
        },
        "id": "9F0TApUGXkWr",
        "outputId": "8b7d970d-d75d-4879-cbd2-4ae03497d175"
      },
      "execution_count": null,
      "outputs": [
        {
          "output_type": "execute_result",
          "data": {
            "text/plain": [
              "(1338, 8)"
            ]
          },
          "metadata": {},
          "execution_count": 79
        }
      ]
    },
    {
      "cell_type": "code",
      "source": [
        "df.info()"
      ],
      "metadata": {
        "colab": {
          "base_uri": "https://localhost:8080/"
        },
        "id": "R0N43jDiXl3L",
        "outputId": "c68e3408-f5cd-4456-ad31-794f76fd6197"
      },
      "execution_count": null,
      "outputs": [
        {
          "output_type": "stream",
          "name": "stdout",
          "text": [
            "<class 'pandas.core.frame.DataFrame'>\n",
            "RangeIndex: 1338 entries, 0 to 1337\n",
            "Data columns (total 8 columns):\n",
            " #   Column          Non-Null Count  Dtype  \n",
            "---  ------          --------------  -----  \n",
            " 0   age             1338 non-null   int64  \n",
            " 1   sex             1338 non-null   int64  \n",
            " 2   bmi             1338 non-null   float64\n",
            " 3   children        1338 non-null   int64  \n",
            " 4   smoker          1338 non-null   int64  \n",
            " 5   region          1338 non-null   int64  \n",
            " 6   charges         1338 non-null   float64\n",
            " 7   insuranceclaim  1338 non-null   int64  \n",
            "dtypes: float64(2), int64(6)\n",
            "memory usage: 83.8 KB\n"
          ]
        }
      ]
    },
    {
      "cell_type": "code",
      "source": [
        "#check data balance\n",
        "df[\"insuranceclaim\"].value_counts()"
      ],
      "metadata": {
        "colab": {
          "base_uri": "https://localhost:8080/"
        },
        "id": "J-7ZldYDT5fX",
        "outputId": "7bd3b678-a1fc-4e05-8b0b-7e2f00053214"
      },
      "execution_count": null,
      "outputs": [
        {
          "output_type": "execute_result",
          "data": {
            "text/plain": [
              "1    783\n",
              "0    555\n",
              "Name: insuranceclaim, dtype: int64"
            ]
          },
          "metadata": {},
          "execution_count": 57
        }
      ]
    },
    {
      "cell_type": "code",
      "source": [
        "#train test split\n",
        "X = df.iloc[:,:-1]\n",
        "y = df.iloc[:,-1]"
      ],
      "metadata": {
        "id": "J_pjjEYdT5hN"
      },
      "execution_count": null,
      "outputs": []
    },
    {
      "cell_type": "code",
      "source": [
        "X.head()"
      ],
      "metadata": {
        "colab": {
          "base_uri": "https://localhost:8080/",
          "height": 206
        },
        "id": "pZyjnMvsT5jA",
        "outputId": "4aebc4b1-ec7d-4b1e-b0f8-a20a2c3b5a57"
      },
      "execution_count": null,
      "outputs": [
        {
          "output_type": "execute_result",
          "data": {
            "text/plain": [
              "   age  sex     bmi  children  smoker  region      charges\n",
              "0   19    0  27.900         0       1       3  16884.92400\n",
              "1   18    1  33.770         1       0       2   1725.55230\n",
              "2   28    1  33.000         3       0       2   4449.46200\n",
              "3   33    1  22.705         0       0       1  21984.47061\n",
              "4   32    1  28.880         0       0       1   3866.85520"
            ],
            "text/html": [
              "\n",
              "  <div id=\"df-72a2a87c-d6a8-44cd-aae7-653213f2e2e5\">\n",
              "    <div class=\"colab-df-container\">\n",
              "      <div>\n",
              "<style scoped>\n",
              "    .dataframe tbody tr th:only-of-type {\n",
              "        vertical-align: middle;\n",
              "    }\n",
              "\n",
              "    .dataframe tbody tr th {\n",
              "        vertical-align: top;\n",
              "    }\n",
              "\n",
              "    .dataframe thead th {\n",
              "        text-align: right;\n",
              "    }\n",
              "</style>\n",
              "<table border=\"1\" class=\"dataframe\">\n",
              "  <thead>\n",
              "    <tr style=\"text-align: right;\">\n",
              "      <th></th>\n",
              "      <th>age</th>\n",
              "      <th>sex</th>\n",
              "      <th>bmi</th>\n",
              "      <th>children</th>\n",
              "      <th>smoker</th>\n",
              "      <th>region</th>\n",
              "      <th>charges</th>\n",
              "    </tr>\n",
              "  </thead>\n",
              "  <tbody>\n",
              "    <tr>\n",
              "      <th>0</th>\n",
              "      <td>19</td>\n",
              "      <td>0</td>\n",
              "      <td>27.900</td>\n",
              "      <td>0</td>\n",
              "      <td>1</td>\n",
              "      <td>3</td>\n",
              "      <td>16884.92400</td>\n",
              "    </tr>\n",
              "    <tr>\n",
              "      <th>1</th>\n",
              "      <td>18</td>\n",
              "      <td>1</td>\n",
              "      <td>33.770</td>\n",
              "      <td>1</td>\n",
              "      <td>0</td>\n",
              "      <td>2</td>\n",
              "      <td>1725.55230</td>\n",
              "    </tr>\n",
              "    <tr>\n",
              "      <th>2</th>\n",
              "      <td>28</td>\n",
              "      <td>1</td>\n",
              "      <td>33.000</td>\n",
              "      <td>3</td>\n",
              "      <td>0</td>\n",
              "      <td>2</td>\n",
              "      <td>4449.46200</td>\n",
              "    </tr>\n",
              "    <tr>\n",
              "      <th>3</th>\n",
              "      <td>33</td>\n",
              "      <td>1</td>\n",
              "      <td>22.705</td>\n",
              "      <td>0</td>\n",
              "      <td>0</td>\n",
              "      <td>1</td>\n",
              "      <td>21984.47061</td>\n",
              "    </tr>\n",
              "    <tr>\n",
              "      <th>4</th>\n",
              "      <td>32</td>\n",
              "      <td>1</td>\n",
              "      <td>28.880</td>\n",
              "      <td>0</td>\n",
              "      <td>0</td>\n",
              "      <td>1</td>\n",
              "      <td>3866.85520</td>\n",
              "    </tr>\n",
              "  </tbody>\n",
              "</table>\n",
              "</div>\n",
              "      <button class=\"colab-df-convert\" onclick=\"convertToInteractive('df-72a2a87c-d6a8-44cd-aae7-653213f2e2e5')\"\n",
              "              title=\"Convert this dataframe to an interactive table.\"\n",
              "              style=\"display:none;\">\n",
              "        \n",
              "  <svg xmlns=\"http://www.w3.org/2000/svg\" height=\"24px\"viewBox=\"0 0 24 24\"\n",
              "       width=\"24px\">\n",
              "    <path d=\"M0 0h24v24H0V0z\" fill=\"none\"/>\n",
              "    <path d=\"M18.56 5.44l.94 2.06.94-2.06 2.06-.94-2.06-.94-.94-2.06-.94 2.06-2.06.94zm-11 1L8.5 8.5l.94-2.06 2.06-.94-2.06-.94L8.5 2.5l-.94 2.06-2.06.94zm10 10l.94 2.06.94-2.06 2.06-.94-2.06-.94-.94-2.06-.94 2.06-2.06.94z\"/><path d=\"M17.41 7.96l-1.37-1.37c-.4-.4-.92-.59-1.43-.59-.52 0-1.04.2-1.43.59L10.3 9.45l-7.72 7.72c-.78.78-.78 2.05 0 2.83L4 21.41c.39.39.9.59 1.41.59.51 0 1.02-.2 1.41-.59l7.78-7.78 2.81-2.81c.8-.78.8-2.07 0-2.86zM5.41 20L4 18.59l7.72-7.72 1.47 1.35L5.41 20z\"/>\n",
              "  </svg>\n",
              "      </button>\n",
              "      \n",
              "  <style>\n",
              "    .colab-df-container {\n",
              "      display:flex;\n",
              "      flex-wrap:wrap;\n",
              "      gap: 12px;\n",
              "    }\n",
              "\n",
              "    .colab-df-convert {\n",
              "      background-color: #E8F0FE;\n",
              "      border: none;\n",
              "      border-radius: 50%;\n",
              "      cursor: pointer;\n",
              "      display: none;\n",
              "      fill: #1967D2;\n",
              "      height: 32px;\n",
              "      padding: 0 0 0 0;\n",
              "      width: 32px;\n",
              "    }\n",
              "\n",
              "    .colab-df-convert:hover {\n",
              "      background-color: #E2EBFA;\n",
              "      box-shadow: 0px 1px 2px rgba(60, 64, 67, 0.3), 0px 1px 3px 1px rgba(60, 64, 67, 0.15);\n",
              "      fill: #174EA6;\n",
              "    }\n",
              "\n",
              "    [theme=dark] .colab-df-convert {\n",
              "      background-color: #3B4455;\n",
              "      fill: #D2E3FC;\n",
              "    }\n",
              "\n",
              "    [theme=dark] .colab-df-convert:hover {\n",
              "      background-color: #434B5C;\n",
              "      box-shadow: 0px 1px 3px 1px rgba(0, 0, 0, 0.15);\n",
              "      filter: drop-shadow(0px 1px 2px rgba(0, 0, 0, 0.3));\n",
              "      fill: #FFFFFF;\n",
              "    }\n",
              "  </style>\n",
              "\n",
              "      <script>\n",
              "        const buttonEl =\n",
              "          document.querySelector('#df-72a2a87c-d6a8-44cd-aae7-653213f2e2e5 button.colab-df-convert');\n",
              "        buttonEl.style.display =\n",
              "          google.colab.kernel.accessAllowed ? 'block' : 'none';\n",
              "\n",
              "        async function convertToInteractive(key) {\n",
              "          const element = document.querySelector('#df-72a2a87c-d6a8-44cd-aae7-653213f2e2e5');\n",
              "          const dataTable =\n",
              "            await google.colab.kernel.invokeFunction('convertToInteractive',\n",
              "                                                     [key], {});\n",
              "          if (!dataTable) return;\n",
              "\n",
              "          const docLinkHtml = 'Like what you see? Visit the ' +\n",
              "            '<a target=\"_blank\" href=https://colab.research.google.com/notebooks/data_table.ipynb>data table notebook</a>'\n",
              "            + ' to learn more about interactive tables.';\n",
              "          element.innerHTML = '';\n",
              "          dataTable['output_type'] = 'display_data';\n",
              "          await google.colab.output.renderOutput(dataTable, element);\n",
              "          const docLink = document.createElement('div');\n",
              "          docLink.innerHTML = docLinkHtml;\n",
              "          element.appendChild(docLink);\n",
              "        }\n",
              "      </script>\n",
              "    </div>\n",
              "  </div>\n",
              "  "
            ]
          },
          "metadata": {},
          "execution_count": 59
        }
      ]
    },
    {
      "cell_type": "code",
      "source": [
        "y.head()"
      ],
      "metadata": {
        "colab": {
          "base_uri": "https://localhost:8080/"
        },
        "id": "z7zDBdKMT5mM",
        "outputId": "eff46971-04a5-4b1b-c92c-7888f88543bd"
      },
      "execution_count": null,
      "outputs": [
        {
          "output_type": "execute_result",
          "data": {
            "text/plain": [
              "0    1\n",
              "1    1\n",
              "2    0\n",
              "3    0\n",
              "4    1\n",
              "Name: insuranceclaim, dtype: int64"
            ]
          },
          "metadata": {},
          "execution_count": 60
        }
      ]
    },
    {
      "cell_type": "code",
      "source": [
        "from sklearn.model_selection import train_test_split"
      ],
      "metadata": {
        "id": "aO1mM8L3T5oK"
      },
      "execution_count": null,
      "outputs": []
    },
    {
      "cell_type": "code",
      "source": [
        "X_train,X_test,y_train,y_test = train_test_split(X,y,test_size=0.3,random_state=1)"
      ],
      "metadata": {
        "id": "t2dI8nZrUk-t"
      },
      "execution_count": null,
      "outputs": []
    },
    {
      "cell_type": "code",
      "source": [
        "from sklearn.linear_model import LogisticRegression"
      ],
      "metadata": {
        "id": "7RFNZt7NUlAm"
      },
      "execution_count": null,
      "outputs": []
    },
    {
      "cell_type": "code",
      "source": [
        "log = LogisticRegression()\n",
        "log.fit(X_train,y_train)"
      ],
      "metadata": {
        "colab": {
          "base_uri": "https://localhost:8080/"
        },
        "id": "l3gJAdawUlCt",
        "outputId": "e541bf8d-0789-4016-8aed-8cc24ffbd87f"
      },
      "execution_count": null,
      "outputs": [
        {
          "output_type": "execute_result",
          "data": {
            "text/plain": [
              "LogisticRegression()"
            ]
          },
          "metadata": {},
          "execution_count": 64
        }
      ]
    },
    {
      "cell_type": "code",
      "source": [
        "log.score(X_test,y_test)"
      ],
      "metadata": {
        "colab": {
          "base_uri": "https://localhost:8080/"
        },
        "id": "6tYh8rzEUlEq",
        "outputId": "17004bb4-d6da-4550-80cd-2ffe3f45318f"
      },
      "execution_count": null,
      "outputs": [
        {
          "output_type": "execute_result",
          "data": {
            "text/plain": [
              "0.8059701492537313"
            ]
          },
          "metadata": {},
          "execution_count": 65
        }
      ]
    },
    {
      "cell_type": "code",
      "source": [
        "y_pred = log.predict(X_test)"
      ],
      "metadata": {
        "id": "zpLVKtcPUlGd"
      },
      "execution_count": null,
      "outputs": []
    },
    {
      "cell_type": "code",
      "source": [
        "from sklearn.metrics import classification_report, confusion_matrix"
      ],
      "metadata": {
        "id": "RCz-xLNIUlIz"
      },
      "execution_count": null,
      "outputs": []
    },
    {
      "cell_type": "code",
      "source": [
        "print(classification_report(y_test,y_pred))"
      ],
      "metadata": {
        "colab": {
          "base_uri": "https://localhost:8080/"
        },
        "id": "kzuGVMx6UlKk",
        "outputId": "a260a032-97f5-48c9-9136-6e2eddf24596"
      },
      "execution_count": null,
      "outputs": [
        {
          "output_type": "stream",
          "name": "stdout",
          "text": [
            "              precision    recall  f1-score   support\n",
            "\n",
            "           0       0.77      0.71      0.74       157\n",
            "           1       0.82      0.87      0.84       245\n",
            "\n",
            "    accuracy                           0.81       402\n",
            "   macro avg       0.80      0.79      0.79       402\n",
            "weighted avg       0.80      0.81      0.80       402\n",
            "\n"
          ]
        }
      ]
    },
    {
      "cell_type": "code",
      "source": [
        "\n",
        "tn, fp, fn, tp = confusion_matrix(y_test,y_pred).ravel()"
      ],
      "metadata": {
        "id": "Je4zOhDaUlMd"
      },
      "execution_count": null,
      "outputs": []
    },
    {
      "cell_type": "code",
      "source": [
        "print(tp,fp)\n",
        "print(fn,tn)"
      ],
      "metadata": {
        "colab": {
          "base_uri": "https://localhost:8080/"
        },
        "id": "_4xMtDmPUlPN",
        "outputId": "41920559-c848-457a-c97a-68701e125685"
      },
      "execution_count": null,
      "outputs": [
        {
          "output_type": "stream",
          "name": "stdout",
          "text": [
            "212 45\n",
            "33 112\n"
          ]
        }
      ]
    },
    {
      "cell_type": "code",
      "source": [
        "#age\tsex\tbmi\tchildren\tsmoker\tregion\tcharges\n",
        "output=log.predict(np.array([20,1,33,1,0,3,1725.55230]).reshape(1,-1))"
      ],
      "metadata": {
        "colab": {
          "base_uri": "https://localhost:8080/"
        },
        "id": "yM8ootY6WEao",
        "outputId": "c9019d58-2bea-47e8-8c86-3468b3c1a580"
      },
      "execution_count": null,
      "outputs": [
        {
          "output_type": "stream",
          "name": "stderr",
          "text": [
            "/usr/local/lib/python3.7/dist-packages/sklearn/base.py:451: UserWarning: X does not have valid feature names, but LogisticRegression was fitted with feature names\n",
            "  \"X does not have valid feature names, but\"\n"
          ]
        }
      ]
    },
    {
      "cell_type": "code",
      "source": [
        "if output[0]==1:\n",
        "  print(\"Claim\")\n",
        "else:\n",
        "  print(\"No claim\")"
      ],
      "metadata": {
        "colab": {
          "base_uri": "https://localhost:8080/"
        },
        "id": "Hcs5f9wgWtFg",
        "outputId": "97f8aed1-7c01-48fa-f0e5-4fc35fd4504b"
      },
      "execution_count": null,
      "outputs": [
        {
          "output_type": "stream",
          "name": "stdout",
          "text": [
            "Claim\n"
          ]
        }
      ]
    },
    {
      "cell_type": "markdown",
      "source": [
        "Now this time rather than using features we will use principal components."
      ],
      "metadata": {
        "id": "FqLPAwuZVSa8"
      }
    },
    {
      "cell_type": "markdown",
      "source": [
        "Now, we have not scaled the data. If u want , u can scale the data, and then apply principal component."
      ],
      "metadata": {
        "id": "PZUcp0d8VfbX"
      }
    },
    {
      "cell_type": "code",
      "source": [
        "import pickle"
      ],
      "metadata": {
        "id": "5Eqq6T6UVods"
      },
      "execution_count": null,
      "outputs": []
    },
    {
      "cell_type": "code",
      "source": [
        "file=open(\"log.pkl\",\"wb\")\n",
        "pickle.dump(log,file)\n",
        "file.close"
      ],
      "metadata": {
        "colab": {
          "base_uri": "https://localhost:8080/"
        },
        "id": "evZF5Zi_Vof1",
        "outputId": "4f48d1c8-271a-482a-d2e7-51abe810a5a1"
      },
      "execution_count": null,
      "outputs": [
        {
          "output_type": "execute_result",
          "data": {
            "text/plain": [
              "<function BufferedWriter.close>"
            ]
          },
          "metadata": {},
          "execution_count": 77
        }
      ]
    },
    {
      "cell_type": "code",
      "source": [
        "from sklearn.decomposition import PCA\n",
        "pc=PCA(n_components=3,random_state=1)"
      ],
      "metadata": {
        "id": "T5EoZEYNVohm"
      },
      "execution_count": null,
      "outputs": []
    },
    {
      "cell_type": "code",
      "source": [
        "X_train_pc=pc.fit_transform(X_train)"
      ],
      "metadata": {
        "id": "FyE9r6cBVojd"
      },
      "execution_count": null,
      "outputs": []
    },
    {
      "cell_type": "code",
      "source": [
        "X_test_pc=pc.transform(X_test)"
      ],
      "metadata": {
        "id": "XPetCVYeVolu"
      },
      "execution_count": null,
      "outputs": []
    },
    {
      "cell_type": "code",
      "source": [
        "model_pc=LogisticRegression(random_state=1)\n",
        "model_pc.fit(X_train_pc,y_train)"
      ],
      "metadata": {
        "colab": {
          "base_uri": "https://localhost:8080/"
        },
        "id": "MT7FgijVVooj",
        "outputId": "91d588ff-a681-40bc-fa9a-5aca97608b70"
      },
      "execution_count": null,
      "outputs": [
        {
          "output_type": "execute_result",
          "data": {
            "text/plain": [
              "LogisticRegression(random_state=1)"
            ]
          },
          "metadata": {},
          "execution_count": 85
        }
      ]
    },
    {
      "cell_type": "code",
      "source": [
        "y_pred=model_pc.predict(X_test_pc)"
      ],
      "metadata": {
        "id": "EBspfHvCT5qN"
      },
      "execution_count": null,
      "outputs": []
    },
    {
      "cell_type": "code",
      "source": [
        "print(classification_report(y_pred,y_test)) # score is low because we are using only 3 PCs"
      ],
      "metadata": {
        "colab": {
          "base_uri": "https://localhost:8080/"
        },
        "id": "7D7pXob0T5tK",
        "outputId": "c1ff1033-416e-44dc-9617-1ba84146cdec"
      },
      "execution_count": null,
      "outputs": [
        {
          "output_type": "stream",
          "name": "stdout",
          "text": [
            "              precision    recall  f1-score   support\n",
            "\n",
            "           0       0.62      0.59      0.61       165\n",
            "           1       0.73      0.75      0.74       237\n",
            "\n",
            "    accuracy                           0.69       402\n",
            "   macro avg       0.68      0.67      0.67       402\n",
            "weighted avg       0.68      0.69      0.69       402\n",
            "\n"
          ]
        }
      ]
    },
    {
      "cell_type": "markdown",
      "source": [],
      "metadata": {
        "id": "RoZdSc4PY7C1"
      }
    },
    {
      "cell_type": "code",
      "source": [],
      "metadata": {
        "id": "XCet6GT7Qv3v"
      },
      "execution_count": null,
      "outputs": []
    },
    {
      "cell_type": "code",
      "source": [],
      "metadata": {
        "id": "WKM8yGhNQv65"
      },
      "execution_count": null,
      "outputs": []
    },
    {
      "cell_type": "code",
      "source": [],
      "metadata": {
        "id": "0DnUooIkQv86"
      },
      "execution_count": null,
      "outputs": []
    }
  ]
}